{
 "cells": [
  {
   "cell_type": "markdown",
   "metadata": {},
   "source": [
    "# Capstone Project: Use of Force"
   ]
  },
  {
   "cell_type": "markdown",
   "metadata": {},
   "source": [
    "## Abstract"
   ]
  },
  {
   "cell_type": "markdown",
   "metadata": {},
   "source": []
  },
  {
   "cell_type": "markdown",
   "metadata": {},
   "source": [
    "## Import Packages"
   ]
  },
  {
   "cell_type": "code",
   "execution_count": 1,
   "metadata": {},
   "outputs": [],
   "source": [
    "# Import standard packages\n",
    "import pandas as pd\n",
    "import numpy as np\n",
    "import matplotlib.pyplot as plt\n",
    "%matplotlib inline\n",
    "import seaborn as sns\n",
    "import category_encoders as ce\n",
    "\n",
    "# Ignore warnings\n",
    "import warnings\n",
    "warnings.filterwarnings('ignore')\n",
    "\n",
    "import re\n",
    "from collections import OrderedDict"
   ]
  },
  {
   "cell_type": "code",
   "execution_count": 2,
   "metadata": {
    "scrolled": true
   },
   "outputs": [
    {
     "data": {
      "text/html": [
       "<div>\n",
       "<style scoped>\n",
       "    .dataframe tbody tr th:only-of-type {\n",
       "        vertical-align: middle;\n",
       "    }\n",
       "\n",
       "    .dataframe tbody tr th {\n",
       "        vertical-align: top;\n",
       "    }\n",
       "\n",
       "    .dataframe thead th {\n",
       "        text-align: right;\n",
       "    }\n",
       "</style>\n",
       "<table border=\"1\" class=\"dataframe\">\n",
       "  <thead>\n",
       "    <tr style=\"text-align: right;\">\n",
       "      <th></th>\n",
       "      <th>OBJECTID</th>\n",
       "      <th>INCNUM</th>\n",
       "      <th>OCCURRED_DT</th>\n",
       "      <th>OCCURRED_TM</th>\n",
       "      <th>UDTEXT24A</th>\n",
       "      <th>UDTEXT24B</th>\n",
       "      <th>UDTEXT24C</th>\n",
       "      <th>UDTEXT24D</th>\n",
       "      <th>DISPOSITION</th>\n",
       "      <th>STREET_N</th>\n",
       "      <th>...</th>\n",
       "      <th>RACE</th>\n",
       "      <th>SEX</th>\n",
       "      <th>CIT_AGE</th>\n",
       "      <th>CIT_COND_TYPE</th>\n",
       "      <th>OFFNUM</th>\n",
       "      <th>OFF_RACE</th>\n",
       "      <th>OFF_SEX</th>\n",
       "      <th>OFF_AGE</th>\n",
       "      <th>OFF_YR_EMPLOY</th>\n",
       "      <th>OFF_COND_TYPE</th>\n",
       "    </tr>\n",
       "  </thead>\n",
       "  <tbody>\n",
       "    <tr>\n",
       "      <th>0</th>\n",
       "      <td>1</td>\n",
       "      <td>41251</td>\n",
       "      <td>2019/09/26</td>\n",
       "      <td>12:45:00</td>\n",
       "      <td>OPERATIONS DIVISION</td>\n",
       "      <td>EAST DISTRICT</td>\n",
       "      <td>ED DAY SHIFT</td>\n",
       "      <td>ED DAY SHIFT</td>\n",
       "      <td>In compliance</td>\n",
       "      <td>6204</td>\n",
       "      <td>...</td>\n",
       "      <td>Black</td>\n",
       "      <td>Male</td>\n",
       "      <td>32.0</td>\n",
       "      <td>NaN</td>\n",
       "      <td>3232.0</td>\n",
       "      <td>White</td>\n",
       "      <td>Female</td>\n",
       "      <td>NaN</td>\n",
       "      <td>NaN</td>\n",
       "      <td>NaN</td>\n",
       "    </tr>\n",
       "    <tr>\n",
       "      <th>1</th>\n",
       "      <td>2</td>\n",
       "      <td>41251</td>\n",
       "      <td>2019/09/26</td>\n",
       "      <td>12:45:00</td>\n",
       "      <td>OPERATIONS DIVISION</td>\n",
       "      <td>EAST DISTRICT</td>\n",
       "      <td>ED DAY SHIFT</td>\n",
       "      <td>ED DAY SHIFT</td>\n",
       "      <td>In compliance</td>\n",
       "      <td>6204</td>\n",
       "      <td>...</td>\n",
       "      <td>Black</td>\n",
       "      <td>Male</td>\n",
       "      <td>32.0</td>\n",
       "      <td>NaN</td>\n",
       "      <td>3232.0</td>\n",
       "      <td>White</td>\n",
       "      <td>Female</td>\n",
       "      <td>NaN</td>\n",
       "      <td>NaN</td>\n",
       "      <td>NaN</td>\n",
       "    </tr>\n",
       "    <tr>\n",
       "      <th>2</th>\n",
       "      <td>3</td>\n",
       "      <td>41251</td>\n",
       "      <td>2019/09/26</td>\n",
       "      <td>12:45:00</td>\n",
       "      <td>OPERATIONS DIVISION</td>\n",
       "      <td>EAST DISTRICT</td>\n",
       "      <td>ED DAY SHIFT</td>\n",
       "      <td>ED DAY SHIFT</td>\n",
       "      <td>In compliance</td>\n",
       "      <td>6204</td>\n",
       "      <td>...</td>\n",
       "      <td>Black</td>\n",
       "      <td>Male</td>\n",
       "      <td>32.0</td>\n",
       "      <td>NaN</td>\n",
       "      <td>3232.0</td>\n",
       "      <td>White</td>\n",
       "      <td>Female</td>\n",
       "      <td>NaN</td>\n",
       "      <td>NaN</td>\n",
       "      <td>NaN</td>\n",
       "    </tr>\n",
       "    <tr>\n",
       "      <th>3</th>\n",
       "      <td>4</td>\n",
       "      <td>41251</td>\n",
       "      <td>2019/09/26</td>\n",
       "      <td>12:45:00</td>\n",
       "      <td>OPERATIONS DIVISION</td>\n",
       "      <td>EAST DISTRICT</td>\n",
       "      <td>ED DAY SHIFT</td>\n",
       "      <td>ED DAY SHIFT</td>\n",
       "      <td>In compliance</td>\n",
       "      <td>6204</td>\n",
       "      <td>...</td>\n",
       "      <td>Black</td>\n",
       "      <td>Male</td>\n",
       "      <td>32.0</td>\n",
       "      <td>NaN</td>\n",
       "      <td>3232.0</td>\n",
       "      <td>White</td>\n",
       "      <td>Female</td>\n",
       "      <td>NaN</td>\n",
       "      <td>NaN</td>\n",
       "      <td>NaN</td>\n",
       "    </tr>\n",
       "    <tr>\n",
       "      <th>4</th>\n",
       "      <td>5</td>\n",
       "      <td>41251</td>\n",
       "      <td>2019/09/26</td>\n",
       "      <td>12:45:00</td>\n",
       "      <td>OPERATIONS DIVISION</td>\n",
       "      <td>EAST DISTRICT</td>\n",
       "      <td>ED DAY SHIFT</td>\n",
       "      <td>ED DAY SHIFT</td>\n",
       "      <td>In compliance</td>\n",
       "      <td>6204</td>\n",
       "      <td>...</td>\n",
       "      <td>Black</td>\n",
       "      <td>Male</td>\n",
       "      <td>32.0</td>\n",
       "      <td>NaN</td>\n",
       "      <td>3848.0</td>\n",
       "      <td>White</td>\n",
       "      <td>Female</td>\n",
       "      <td>NaN</td>\n",
       "      <td>NaN</td>\n",
       "      <td>NaN</td>\n",
       "    </tr>\n",
       "    <tr>\n",
       "      <th>5</th>\n",
       "      <td>6</td>\n",
       "      <td>22933</td>\n",
       "      <td>2017/09/12</td>\n",
       "      <td>11:30:00</td>\n",
       "      <td>OPERATIONS DIVISION</td>\n",
       "      <td>SOUTHWEST DISTRICT</td>\n",
       "      <td>SW DAY SHIFT</td>\n",
       "      <td>SW DAY SHIFT</td>\n",
       "      <td>In compliance</td>\n",
       "      <td>2920</td>\n",
       "      <td>...</td>\n",
       "      <td>Black</td>\n",
       "      <td>Male</td>\n",
       "      <td>23.0</td>\n",
       "      <td>NaN</td>\n",
       "      <td>828.0</td>\n",
       "      <td>White</td>\n",
       "      <td>Male</td>\n",
       "      <td>38.0</td>\n",
       "      <td>15.0</td>\n",
       "      <td>NaN</td>\n",
       "    </tr>\n",
       "    <tr>\n",
       "      <th>6</th>\n",
       "      <td>7</td>\n",
       "      <td>166</td>\n",
       "      <td>2014/01/01</td>\n",
       "      <td>22:28:00</td>\n",
       "      <td>Homeland Security Division</td>\n",
       "      <td>Homeland Security Bureau/Tactical</td>\n",
       "      <td>Canine Section</td>\n",
       "      <td>Canine Unit - Late Tactical</td>\n",
       "      <td>In compliance</td>\n",
       "      <td>615</td>\n",
       "      <td>...</td>\n",
       "      <td>Black</td>\n",
       "      <td>Male</td>\n",
       "      <td>19.0</td>\n",
       "      <td>NaN</td>\n",
       "      <td>1519.0</td>\n",
       "      <td>White</td>\n",
       "      <td>Male</td>\n",
       "      <td>35.0</td>\n",
       "      <td>11.0</td>\n",
       "      <td>NaN</td>\n",
       "    </tr>\n",
       "    <tr>\n",
       "      <th>7</th>\n",
       "      <td>8</td>\n",
       "      <td>41996</td>\n",
       "      <td>2019/10/22</td>\n",
       "      <td>05:50:00</td>\n",
       "      <td>OPERATIONS DIVISION</td>\n",
       "      <td>NORTHWEST DISTRICT</td>\n",
       "      <td>NW DAY SHIFT</td>\n",
       "      <td>NW DAY SHIFT</td>\n",
       "      <td>In compliance</td>\n",
       "      <td>1416</td>\n",
       "      <td>...</td>\n",
       "      <td>Black</td>\n",
       "      <td>Male</td>\n",
       "      <td>45.0</td>\n",
       "      <td>Minor Scrapes</td>\n",
       "      <td>3113.0</td>\n",
       "      <td>White</td>\n",
       "      <td>Male</td>\n",
       "      <td>NaN</td>\n",
       "      <td>NaN</td>\n",
       "      <td>No injuries noted or visible</td>\n",
       "    </tr>\n",
       "    <tr>\n",
       "      <th>8</th>\n",
       "      <td>9</td>\n",
       "      <td>41996</td>\n",
       "      <td>2019/10/22</td>\n",
       "      <td>05:50:00</td>\n",
       "      <td>OPERATIONS DIVISION</td>\n",
       "      <td>NORTHWEST DISTRICT</td>\n",
       "      <td>NW DAY SHIFT</td>\n",
       "      <td>NW DAY SHIFT</td>\n",
       "      <td>In compliance</td>\n",
       "      <td>1416</td>\n",
       "      <td>...</td>\n",
       "      <td>Black</td>\n",
       "      <td>Male</td>\n",
       "      <td>45.0</td>\n",
       "      <td>Minor Scrapes</td>\n",
       "      <td>3113.0</td>\n",
       "      <td>White</td>\n",
       "      <td>Male</td>\n",
       "      <td>NaN</td>\n",
       "      <td>NaN</td>\n",
       "      <td>No injuries noted or visible</td>\n",
       "    </tr>\n",
       "    <tr>\n",
       "      <th>9</th>\n",
       "      <td>10</td>\n",
       "      <td>5474</td>\n",
       "      <td>2014/11/09</td>\n",
       "      <td>00:52:00</td>\n",
       "      <td>OPERATIONS DIVISION</td>\n",
       "      <td>NORTH DISTRICT</td>\n",
       "      <td>ND LATE SHIFT</td>\n",
       "      <td>NaN</td>\n",
       "      <td>In compliance</td>\n",
       "      <td>4049</td>\n",
       "      <td>...</td>\n",
       "      <td>White</td>\n",
       "      <td>Male</td>\n",
       "      <td>NaN</td>\n",
       "      <td>NaN</td>\n",
       "      <td>3110.0</td>\n",
       "      <td>White</td>\n",
       "      <td>Male</td>\n",
       "      <td>40.0</td>\n",
       "      <td>6.0</td>\n",
       "      <td>NaN</td>\n",
       "    </tr>\n",
       "    <tr>\n",
       "      <th>10</th>\n",
       "      <td>11</td>\n",
       "      <td>36754</td>\n",
       "      <td>2019/05/24</td>\n",
       "      <td>15:50:00</td>\n",
       "      <td>OPERATIONS DIVISION</td>\n",
       "      <td>NORTHWEST DISTRICT</td>\n",
       "      <td>NW MIDDLE SHIFT</td>\n",
       "      <td>NaN</td>\n",
       "      <td>In compliance</td>\n",
       "      <td>3902</td>\n",
       "      <td>...</td>\n",
       "      <td>Black</td>\n",
       "      <td>Male</td>\n",
       "      <td>26.0</td>\n",
       "      <td>Minor Scrapes</td>\n",
       "      <td>3469.0</td>\n",
       "      <td>Hispanic</td>\n",
       "      <td>Male</td>\n",
       "      <td>31.0</td>\n",
       "      <td>3.0</td>\n",
       "      <td>No injuries noted or visible</td>\n",
       "    </tr>\n",
       "    <tr>\n",
       "      <th>11</th>\n",
       "      <td>12</td>\n",
       "      <td>36754</td>\n",
       "      <td>2019/05/24</td>\n",
       "      <td>15:50:00</td>\n",
       "      <td>OPERATIONS DIVISION</td>\n",
       "      <td>NORTHWEST DISTRICT</td>\n",
       "      <td>NW MIDDLE SHIFT</td>\n",
       "      <td>NaN</td>\n",
       "      <td>In compliance</td>\n",
       "      <td>3902</td>\n",
       "      <td>...</td>\n",
       "      <td>Black</td>\n",
       "      <td>Male</td>\n",
       "      <td>26.0</td>\n",
       "      <td>Minor Scrapes</td>\n",
       "      <td>3469.0</td>\n",
       "      <td>Hispanic</td>\n",
       "      <td>Male</td>\n",
       "      <td>31.0</td>\n",
       "      <td>3.0</td>\n",
       "      <td>No injuries noted or visible</td>\n",
       "    </tr>\n",
       "    <tr>\n",
       "      <th>12</th>\n",
       "      <td>13</td>\n",
       "      <td>36754</td>\n",
       "      <td>2019/05/24</td>\n",
       "      <td>15:50:00</td>\n",
       "      <td>OPERATIONS DIVISION</td>\n",
       "      <td>NORTHWEST DISTRICT</td>\n",
       "      <td>NW MIDDLE SHIFT</td>\n",
       "      <td>NaN</td>\n",
       "      <td>In compliance</td>\n",
       "      <td>3902</td>\n",
       "      <td>...</td>\n",
       "      <td>Black</td>\n",
       "      <td>Male</td>\n",
       "      <td>26.0</td>\n",
       "      <td>Minor Scrapes</td>\n",
       "      <td>3469.0</td>\n",
       "      <td>Hispanic</td>\n",
       "      <td>Male</td>\n",
       "      <td>31.0</td>\n",
       "      <td>3.0</td>\n",
       "      <td>No injuries noted or visible</td>\n",
       "    </tr>\n",
       "    <tr>\n",
       "      <th>13</th>\n",
       "      <td>14</td>\n",
       "      <td>36754</td>\n",
       "      <td>2019/05/24</td>\n",
       "      <td>15:50:00</td>\n",
       "      <td>OPERATIONS DIVISION</td>\n",
       "      <td>NORTHWEST DISTRICT</td>\n",
       "      <td>NW MIDDLE SHIFT</td>\n",
       "      <td>NaN</td>\n",
       "      <td>In compliance</td>\n",
       "      <td>3902</td>\n",
       "      <td>...</td>\n",
       "      <td>Black</td>\n",
       "      <td>Male</td>\n",
       "      <td>26.0</td>\n",
       "      <td>Complaint of Pain</td>\n",
       "      <td>3469.0</td>\n",
       "      <td>Hispanic</td>\n",
       "      <td>Male</td>\n",
       "      <td>31.0</td>\n",
       "      <td>3.0</td>\n",
       "      <td>No injuries noted or visible</td>\n",
       "    </tr>\n",
       "    <tr>\n",
       "      <th>14</th>\n",
       "      <td>15</td>\n",
       "      <td>36754</td>\n",
       "      <td>2019/05/24</td>\n",
       "      <td>15:50:00</td>\n",
       "      <td>OPERATIONS DIVISION</td>\n",
       "      <td>NORTHWEST DISTRICT</td>\n",
       "      <td>NW MIDDLE SHIFT</td>\n",
       "      <td>NaN</td>\n",
       "      <td>In compliance</td>\n",
       "      <td>3902</td>\n",
       "      <td>...</td>\n",
       "      <td>Black</td>\n",
       "      <td>Male</td>\n",
       "      <td>26.0</td>\n",
       "      <td>Complaint of Pain</td>\n",
       "      <td>3469.0</td>\n",
       "      <td>Hispanic</td>\n",
       "      <td>Male</td>\n",
       "      <td>31.0</td>\n",
       "      <td>3.0</td>\n",
       "      <td>No injuries noted or visible</td>\n",
       "    </tr>\n",
       "    <tr>\n",
       "      <th>15</th>\n",
       "      <td>16</td>\n",
       "      <td>36754</td>\n",
       "      <td>2019/05/24</td>\n",
       "      <td>15:50:00</td>\n",
       "      <td>OPERATIONS DIVISION</td>\n",
       "      <td>NORTHWEST DISTRICT</td>\n",
       "      <td>NW MIDDLE SHIFT</td>\n",
       "      <td>NaN</td>\n",
       "      <td>In compliance</td>\n",
       "      <td>3902</td>\n",
       "      <td>...</td>\n",
       "      <td>Black</td>\n",
       "      <td>Male</td>\n",
       "      <td>26.0</td>\n",
       "      <td>Complaint of Pain</td>\n",
       "      <td>3469.0</td>\n",
       "      <td>Hispanic</td>\n",
       "      <td>Male</td>\n",
       "      <td>31.0</td>\n",
       "      <td>3.0</td>\n",
       "      <td>No injuries noted or visible</td>\n",
       "    </tr>\n",
       "    <tr>\n",
       "      <th>16</th>\n",
       "      <td>17</td>\n",
       "      <td>36754</td>\n",
       "      <td>2019/05/24</td>\n",
       "      <td>15:50:00</td>\n",
       "      <td>OPERATIONS DIVISION</td>\n",
       "      <td>NORTHWEST DISTRICT</td>\n",
       "      <td>NW MIDDLE SHIFT</td>\n",
       "      <td>NaN</td>\n",
       "      <td>In compliance</td>\n",
       "      <td>3902</td>\n",
       "      <td>...</td>\n",
       "      <td>Black</td>\n",
       "      <td>Male</td>\n",
       "      <td>26.0</td>\n",
       "      <td>Minor Scrapes</td>\n",
       "      <td>3469.0</td>\n",
       "      <td>Hispanic</td>\n",
       "      <td>Male</td>\n",
       "      <td>31.0</td>\n",
       "      <td>3.0</td>\n",
       "      <td>No injuries noted or visible</td>\n",
       "    </tr>\n",
       "    <tr>\n",
       "      <th>17</th>\n",
       "      <td>18</td>\n",
       "      <td>36754</td>\n",
       "      <td>2019/05/24</td>\n",
       "      <td>15:50:00</td>\n",
       "      <td>OPERATIONS DIVISION</td>\n",
       "      <td>NORTHWEST DISTRICT</td>\n",
       "      <td>NW MIDDLE SHIFT</td>\n",
       "      <td>NaN</td>\n",
       "      <td>In compliance</td>\n",
       "      <td>3902</td>\n",
       "      <td>...</td>\n",
       "      <td>Black</td>\n",
       "      <td>Male</td>\n",
       "      <td>26.0</td>\n",
       "      <td>Minor Scrapes</td>\n",
       "      <td>3469.0</td>\n",
       "      <td>Hispanic</td>\n",
       "      <td>Male</td>\n",
       "      <td>31.0</td>\n",
       "      <td>3.0</td>\n",
       "      <td>No injuries noted or visible</td>\n",
       "    </tr>\n",
       "    <tr>\n",
       "      <th>18</th>\n",
       "      <td>19</td>\n",
       "      <td>36754</td>\n",
       "      <td>2019/05/24</td>\n",
       "      <td>15:50:00</td>\n",
       "      <td>OPERATIONS DIVISION</td>\n",
       "      <td>NORTHWEST DISTRICT</td>\n",
       "      <td>NW MIDDLE SHIFT</td>\n",
       "      <td>NaN</td>\n",
       "      <td>In compliance</td>\n",
       "      <td>3902</td>\n",
       "      <td>...</td>\n",
       "      <td>Black</td>\n",
       "      <td>Male</td>\n",
       "      <td>26.0</td>\n",
       "      <td>Minor Scrapes</td>\n",
       "      <td>3469.0</td>\n",
       "      <td>Hispanic</td>\n",
       "      <td>Male</td>\n",
       "      <td>31.0</td>\n",
       "      <td>3.0</td>\n",
       "      <td>No injuries noted or visible</td>\n",
       "    </tr>\n",
       "    <tr>\n",
       "      <th>19</th>\n",
       "      <td>20</td>\n",
       "      <td>36754</td>\n",
       "      <td>2019/05/24</td>\n",
       "      <td>15:50:00</td>\n",
       "      <td>OPERATIONS DIVISION</td>\n",
       "      <td>NORTHWEST DISTRICT</td>\n",
       "      <td>NW MIDDLE SHIFT</td>\n",
       "      <td>NaN</td>\n",
       "      <td>In compliance</td>\n",
       "      <td>3902</td>\n",
       "      <td>...</td>\n",
       "      <td>Black</td>\n",
       "      <td>Male</td>\n",
       "      <td>26.0</td>\n",
       "      <td>Complaint of Pain</td>\n",
       "      <td>3469.0</td>\n",
       "      <td>Hispanic</td>\n",
       "      <td>Male</td>\n",
       "      <td>31.0</td>\n",
       "      <td>3.0</td>\n",
       "      <td>No injuries noted or visible</td>\n",
       "    </tr>\n",
       "    <tr>\n",
       "      <th>20</th>\n",
       "      <td>21</td>\n",
       "      <td>36754</td>\n",
       "      <td>2019/05/24</td>\n",
       "      <td>15:50:00</td>\n",
       "      <td>OPERATIONS DIVISION</td>\n",
       "      <td>NORTHWEST DISTRICT</td>\n",
       "      <td>NW MIDDLE SHIFT</td>\n",
       "      <td>NaN</td>\n",
       "      <td>In compliance</td>\n",
       "      <td>3902</td>\n",
       "      <td>...</td>\n",
       "      <td>Black</td>\n",
       "      <td>Male</td>\n",
       "      <td>26.0</td>\n",
       "      <td>Complaint of Pain</td>\n",
       "      <td>3469.0</td>\n",
       "      <td>Hispanic</td>\n",
       "      <td>Male</td>\n",
       "      <td>31.0</td>\n",
       "      <td>3.0</td>\n",
       "      <td>No injuries noted or visible</td>\n",
       "    </tr>\n",
       "    <tr>\n",
       "      <th>21</th>\n",
       "      <td>22</td>\n",
       "      <td>36754</td>\n",
       "      <td>2019/05/24</td>\n",
       "      <td>15:50:00</td>\n",
       "      <td>OPERATIONS DIVISION</td>\n",
       "      <td>NORTHWEST DISTRICT</td>\n",
       "      <td>NW MIDDLE SHIFT</td>\n",
       "      <td>NaN</td>\n",
       "      <td>In compliance</td>\n",
       "      <td>3902</td>\n",
       "      <td>...</td>\n",
       "      <td>Black</td>\n",
       "      <td>Male</td>\n",
       "      <td>26.0</td>\n",
       "      <td>Complaint of Pain</td>\n",
       "      <td>3469.0</td>\n",
       "      <td>Hispanic</td>\n",
       "      <td>Male</td>\n",
       "      <td>31.0</td>\n",
       "      <td>3.0</td>\n",
       "      <td>No injuries noted or visible</td>\n",
       "    </tr>\n",
       "    <tr>\n",
       "      <th>22</th>\n",
       "      <td>23</td>\n",
       "      <td>4269</td>\n",
       "      <td>2014/08/07</td>\n",
       "      <td>17:30:00</td>\n",
       "      <td>OPERATIONS DIVISION</td>\n",
       "      <td>PARK RANGERS</td>\n",
       "      <td>PARK RANGER SECTION</td>\n",
       "      <td>PARK RANGER UNIT (EVENING)</td>\n",
       "      <td>In compliance</td>\n",
       "      <td>520</td>\n",
       "      <td>...</td>\n",
       "      <td>Black</td>\n",
       "      <td>Male</td>\n",
       "      <td>NaN</td>\n",
       "      <td>No injuries noted or visible</td>\n",
       "      <td>3169.0</td>\n",
       "      <td>Black</td>\n",
       "      <td>Male</td>\n",
       "      <td>42.0</td>\n",
       "      <td>5.0</td>\n",
       "      <td>NaN</td>\n",
       "    </tr>\n",
       "    <tr>\n",
       "      <th>23</th>\n",
       "      <td>24</td>\n",
       "      <td>4269</td>\n",
       "      <td>2014/08/07</td>\n",
       "      <td>17:30:00</td>\n",
       "      <td>OPERATIONS DIVISION</td>\n",
       "      <td>PARK RANGERS</td>\n",
       "      <td>PARK RANGER SECTION</td>\n",
       "      <td>PARK RANGER UNIT (EVENING)</td>\n",
       "      <td>In compliance</td>\n",
       "      <td>520</td>\n",
       "      <td>...</td>\n",
       "      <td>Black</td>\n",
       "      <td>Male</td>\n",
       "      <td>NaN</td>\n",
       "      <td>No injuries noted or visible</td>\n",
       "      <td>3169.0</td>\n",
       "      <td>Black</td>\n",
       "      <td>Male</td>\n",
       "      <td>42.0</td>\n",
       "      <td>5.0</td>\n",
       "      <td>NaN</td>\n",
       "    </tr>\n",
       "    <tr>\n",
       "      <th>24</th>\n",
       "      <td>25</td>\n",
       "      <td>4269</td>\n",
       "      <td>2014/08/07</td>\n",
       "      <td>17:30:00</td>\n",
       "      <td>OPERATIONS DIVISION</td>\n",
       "      <td>PARK RANGERS</td>\n",
       "      <td>PARK RANGER SECTION</td>\n",
       "      <td>PARK RANGER UNIT (EVENING)</td>\n",
       "      <td>In compliance</td>\n",
       "      <td>520</td>\n",
       "      <td>...</td>\n",
       "      <td>Black</td>\n",
       "      <td>Male</td>\n",
       "      <td>NaN</td>\n",
       "      <td>No injuries noted or visible</td>\n",
       "      <td>3169.0</td>\n",
       "      <td>Black</td>\n",
       "      <td>Male</td>\n",
       "      <td>42.0</td>\n",
       "      <td>5.0</td>\n",
       "      <td>NaN</td>\n",
       "    </tr>\n",
       "  </tbody>\n",
       "</table>\n",
       "<p>25 rows × 35 columns</p>\n",
       "</div>"
      ],
      "text/plain": [
       "    OBJECTID  INCNUM OCCURRED_DT OCCURRED_TM                   UDTEXT24A  \\\n",
       "0          1   41251  2019/09/26    12:45:00         OPERATIONS DIVISION   \n",
       "1          2   41251  2019/09/26    12:45:00         OPERATIONS DIVISION   \n",
       "2          3   41251  2019/09/26    12:45:00         OPERATIONS DIVISION   \n",
       "3          4   41251  2019/09/26    12:45:00         OPERATIONS DIVISION   \n",
       "4          5   41251  2019/09/26    12:45:00         OPERATIONS DIVISION   \n",
       "5          6   22933  2017/09/12    11:30:00         OPERATIONS DIVISION   \n",
       "6          7     166  2014/01/01    22:28:00  Homeland Security Division   \n",
       "7          8   41996  2019/10/22    05:50:00         OPERATIONS DIVISION   \n",
       "8          9   41996  2019/10/22    05:50:00         OPERATIONS DIVISION   \n",
       "9         10    5474  2014/11/09    00:52:00         OPERATIONS DIVISION   \n",
       "10        11   36754  2019/05/24    15:50:00         OPERATIONS DIVISION   \n",
       "11        12   36754  2019/05/24    15:50:00         OPERATIONS DIVISION   \n",
       "12        13   36754  2019/05/24    15:50:00         OPERATIONS DIVISION   \n",
       "13        14   36754  2019/05/24    15:50:00         OPERATIONS DIVISION   \n",
       "14        15   36754  2019/05/24    15:50:00         OPERATIONS DIVISION   \n",
       "15        16   36754  2019/05/24    15:50:00         OPERATIONS DIVISION   \n",
       "16        17   36754  2019/05/24    15:50:00         OPERATIONS DIVISION   \n",
       "17        18   36754  2019/05/24    15:50:00         OPERATIONS DIVISION   \n",
       "18        19   36754  2019/05/24    15:50:00         OPERATIONS DIVISION   \n",
       "19        20   36754  2019/05/24    15:50:00         OPERATIONS DIVISION   \n",
       "20        21   36754  2019/05/24    15:50:00         OPERATIONS DIVISION   \n",
       "21        22   36754  2019/05/24    15:50:00         OPERATIONS DIVISION   \n",
       "22        23    4269  2014/08/07    17:30:00         OPERATIONS DIVISION   \n",
       "23        24    4269  2014/08/07    17:30:00         OPERATIONS DIVISION   \n",
       "24        25    4269  2014/08/07    17:30:00         OPERATIONS DIVISION   \n",
       "\n",
       "                            UDTEXT24B            UDTEXT24C  \\\n",
       "0                       EAST DISTRICT         ED DAY SHIFT   \n",
       "1                       EAST DISTRICT         ED DAY SHIFT   \n",
       "2                       EAST DISTRICT         ED DAY SHIFT   \n",
       "3                       EAST DISTRICT         ED DAY SHIFT   \n",
       "4                       EAST DISTRICT         ED DAY SHIFT   \n",
       "5                  SOUTHWEST DISTRICT         SW DAY SHIFT   \n",
       "6   Homeland Security Bureau/Tactical       Canine Section   \n",
       "7                  NORTHWEST DISTRICT         NW DAY SHIFT   \n",
       "8                  NORTHWEST DISTRICT         NW DAY SHIFT   \n",
       "9                      NORTH DISTRICT        ND LATE SHIFT   \n",
       "10                 NORTHWEST DISTRICT      NW MIDDLE SHIFT   \n",
       "11                 NORTHWEST DISTRICT      NW MIDDLE SHIFT   \n",
       "12                 NORTHWEST DISTRICT      NW MIDDLE SHIFT   \n",
       "13                 NORTHWEST DISTRICT      NW MIDDLE SHIFT   \n",
       "14                 NORTHWEST DISTRICT      NW MIDDLE SHIFT   \n",
       "15                 NORTHWEST DISTRICT      NW MIDDLE SHIFT   \n",
       "16                 NORTHWEST DISTRICT      NW MIDDLE SHIFT   \n",
       "17                 NORTHWEST DISTRICT      NW MIDDLE SHIFT   \n",
       "18                 NORTHWEST DISTRICT      NW MIDDLE SHIFT   \n",
       "19                 NORTHWEST DISTRICT      NW MIDDLE SHIFT   \n",
       "20                 NORTHWEST DISTRICT      NW MIDDLE SHIFT   \n",
       "21                 NORTHWEST DISTRICT      NW MIDDLE SHIFT   \n",
       "22                       PARK RANGERS  PARK RANGER SECTION   \n",
       "23                       PARK RANGERS  PARK RANGER SECTION   \n",
       "24                       PARK RANGERS  PARK RANGER SECTION   \n",
       "\n",
       "                      UDTEXT24D    DISPOSITION STREET_N  ...   RACE   SEX  \\\n",
       "0                  ED DAY SHIFT  In compliance     6204  ...  Black  Male   \n",
       "1                  ED DAY SHIFT  In compliance     6204  ...  Black  Male   \n",
       "2                  ED DAY SHIFT  In compliance     6204  ...  Black  Male   \n",
       "3                  ED DAY SHIFT  In compliance     6204  ...  Black  Male   \n",
       "4                  ED DAY SHIFT  In compliance     6204  ...  Black  Male   \n",
       "5                  SW DAY SHIFT  In compliance     2920  ...  Black  Male   \n",
       "6   Canine Unit - Late Tactical  In compliance      615  ...  Black  Male   \n",
       "7                  NW DAY SHIFT  In compliance     1416  ...  Black  Male   \n",
       "8                  NW DAY SHIFT  In compliance     1416  ...  Black  Male   \n",
       "9                           NaN  In compliance     4049  ...  White  Male   \n",
       "10                          NaN  In compliance     3902  ...  Black  Male   \n",
       "11                          NaN  In compliance     3902  ...  Black  Male   \n",
       "12                          NaN  In compliance     3902  ...  Black  Male   \n",
       "13                          NaN  In compliance     3902  ...  Black  Male   \n",
       "14                          NaN  In compliance     3902  ...  Black  Male   \n",
       "15                          NaN  In compliance     3902  ...  Black  Male   \n",
       "16                          NaN  In compliance     3902  ...  Black  Male   \n",
       "17                          NaN  In compliance     3902  ...  Black  Male   \n",
       "18                          NaN  In compliance     3902  ...  Black  Male   \n",
       "19                          NaN  In compliance     3902  ...  Black  Male   \n",
       "20                          NaN  In compliance     3902  ...  Black  Male   \n",
       "21                          NaN  In compliance     3902  ...  Black  Male   \n",
       "22   PARK RANGER UNIT (EVENING)  In compliance      520  ...  Black  Male   \n",
       "23   PARK RANGER UNIT (EVENING)  In compliance      520  ...  Black  Male   \n",
       "24   PARK RANGER UNIT (EVENING)  In compliance      520  ...  Black  Male   \n",
       "\n",
       "   CIT_AGE                 CIT_COND_TYPE  OFFNUM  OFF_RACE OFF_SEX OFF_AGE  \\\n",
       "0     32.0                           NaN  3232.0     White  Female     NaN   \n",
       "1     32.0                           NaN  3232.0     White  Female     NaN   \n",
       "2     32.0                           NaN  3232.0     White  Female     NaN   \n",
       "3     32.0                           NaN  3232.0     White  Female     NaN   \n",
       "4     32.0                           NaN  3848.0     White  Female     NaN   \n",
       "5     23.0                           NaN   828.0     White    Male    38.0   \n",
       "6     19.0                           NaN  1519.0     White    Male    35.0   \n",
       "7     45.0                 Minor Scrapes  3113.0     White    Male     NaN   \n",
       "8     45.0                 Minor Scrapes  3113.0     White    Male     NaN   \n",
       "9      NaN                           NaN  3110.0     White    Male    40.0   \n",
       "10    26.0                 Minor Scrapes  3469.0  Hispanic    Male    31.0   \n",
       "11    26.0                 Minor Scrapes  3469.0  Hispanic    Male    31.0   \n",
       "12    26.0                 Minor Scrapes  3469.0  Hispanic    Male    31.0   \n",
       "13    26.0             Complaint of Pain  3469.0  Hispanic    Male    31.0   \n",
       "14    26.0             Complaint of Pain  3469.0  Hispanic    Male    31.0   \n",
       "15    26.0             Complaint of Pain  3469.0  Hispanic    Male    31.0   \n",
       "16    26.0                 Minor Scrapes  3469.0  Hispanic    Male    31.0   \n",
       "17    26.0                 Minor Scrapes  3469.0  Hispanic    Male    31.0   \n",
       "18    26.0                 Minor Scrapes  3469.0  Hispanic    Male    31.0   \n",
       "19    26.0             Complaint of Pain  3469.0  Hispanic    Male    31.0   \n",
       "20    26.0             Complaint of Pain  3469.0  Hispanic    Male    31.0   \n",
       "21    26.0             Complaint of Pain  3469.0  Hispanic    Male    31.0   \n",
       "22     NaN  No injuries noted or visible  3169.0     Black    Male    42.0   \n",
       "23     NaN  No injuries noted or visible  3169.0     Black    Male    42.0   \n",
       "24     NaN  No injuries noted or visible  3169.0     Black    Male    42.0   \n",
       "\n",
       "   OFF_YR_EMPLOY                 OFF_COND_TYPE  \n",
       "0            NaN                           NaN  \n",
       "1            NaN                           NaN  \n",
       "2            NaN                           NaN  \n",
       "3            NaN                           NaN  \n",
       "4            NaN                           NaN  \n",
       "5           15.0                           NaN  \n",
       "6           11.0                           NaN  \n",
       "7            NaN  No injuries noted or visible  \n",
       "8            NaN  No injuries noted or visible  \n",
       "9            6.0                           NaN  \n",
       "10           3.0  No injuries noted or visible  \n",
       "11           3.0  No injuries noted or visible  \n",
       "12           3.0  No injuries noted or visible  \n",
       "13           3.0  No injuries noted or visible  \n",
       "14           3.0  No injuries noted or visible  \n",
       "15           3.0  No injuries noted or visible  \n",
       "16           3.0  No injuries noted or visible  \n",
       "17           3.0  No injuries noted or visible  \n",
       "18           3.0  No injuries noted or visible  \n",
       "19           3.0  No injuries noted or visible  \n",
       "20           3.0  No injuries noted or visible  \n",
       "21           3.0  No injuries noted or visible  \n",
       "22           5.0                           NaN  \n",
       "23           5.0                           NaN  \n",
       "24           5.0                           NaN  \n",
       "\n",
       "[25 rows x 35 columns]"
      ]
     },
     "execution_count": 2,
     "metadata": {},
     "output_type": "execute_result"
    }
   ],
   "source": [
    "# Create dataframe using IMPD use of foce csv file\n",
    "uof_df = pd.read_csv('IMPD_Use_Of_Force.csv')\n",
    "uof_df.head(25)"
   ]
  },
  {
   "cell_type": "markdown",
   "metadata": {},
   "source": [
    "## Data Wrangling"
   ]
  },
  {
   "cell_type": "markdown",
   "metadata": {},
   "source": [
    "### Wrangling Process"
   ]
  },
  {
   "cell_type": "code",
   "execution_count": 3,
   "metadata": {},
   "outputs": [
    {
     "name": "stdout",
     "output_type": "stream",
     "text": [
      "<class 'pandas.core.frame.DataFrame'>\n",
      "RangeIndex: 99659 entries, 0 to 99658\n",
      "Data columns (total 35 columns):\n",
      " #   Column           Non-Null Count  Dtype  \n",
      "---  ------           --------------  -----  \n",
      " 0   OBJECTID         99659 non-null  int64  \n",
      " 1   INCNUM           99659 non-null  int64  \n",
      " 2   OCCURRED_DT      99436 non-null  object \n",
      " 3   OCCURRED_TM      97956 non-null  object \n",
      " 4   UDTEXT24A        99659 non-null  object \n",
      " 5   UDTEXT24B        99659 non-null  object \n",
      " 6   UDTEXT24C        99427 non-null  object \n",
      " 7   UDTEXT24D        26716 non-null  object \n",
      " 8   DISPOSITION      94989 non-null  object \n",
      " 9   STREET_N         97329 non-null  object \n",
      " 10  STREET           97702 non-null  object \n",
      " 11  STREET_T         95797 non-null  object \n",
      " 12  STREET_G         68843 non-null  object \n",
      " 13  CITY             99097 non-null  object \n",
      " 14  UOF_FORCE_TYPE   97467 non-null  object \n",
      " 15  UOF_REASON       99547 non-null  object \n",
      " 16  SERVICE_TYPE     99559 non-null  object \n",
      " 17  CIT_ARRESTED     99656 non-null  object \n",
      " 18  CITCHARGE_TYPE   95561 non-null  object \n",
      " 19  CIT_WEAPON_TYPE  0 non-null      float64\n",
      " 20  CIT_INJURED      99651 non-null  object \n",
      " 21  CIT_HOSPITAL     99651 non-null  object \n",
      " 22  OFF_INJURED      99651 non-null  object \n",
      " 23  OFF_HOSPITAL     99651 non-null  object \n",
      " 24  CITNUM           99659 non-null  int64  \n",
      " 25  RACE             98449 non-null  object \n",
      " 26  SEX              99643 non-null  object \n",
      " 27  CIT_AGE          94023 non-null  float64\n",
      " 28  CIT_COND_TYPE    88969 non-null  object \n",
      " 29  OFFNUM           99273 non-null  float64\n",
      " 30  OFF_RACE         99110 non-null  object \n",
      " 31  OFF_SEX          99273 non-null  object \n",
      " 32  OFF_AGE          68988 non-null  float64\n",
      " 33  OFF_YR_EMPLOY    68986 non-null  float64\n",
      " 34  OFF_COND_TYPE    75145 non-null  object \n",
      "dtypes: float64(5), int64(3), object(27)\n",
      "memory usage: 26.6+ MB\n"
     ]
    }
   ],
   "source": [
    "uof_df.info()"
   ]
  },
  {
   "cell_type": "markdown",
   "metadata": {},
   "source": [
    "As can be seen above, the data set consists of 33 columns. Using the OBJECTID column as an indictor I can see that my dataframe contains 99,659 entries. I also notice that there are a range of different data types, missing values, and potentially, collumns that can either be dropped or engineered."
   ]
  },
  {
   "cell_type": "code",
   "execution_count": 4,
   "metadata": {
    "scrolled": true
   },
   "outputs": [
    {
     "data": {
      "text/html": [
       "<div>\n",
       "<style scoped>\n",
       "    .dataframe tbody tr th:only-of-type {\n",
       "        vertical-align: middle;\n",
       "    }\n",
       "\n",
       "    .dataframe tbody tr th {\n",
       "        vertical-align: top;\n",
       "    }\n",
       "\n",
       "    .dataframe thead th {\n",
       "        text-align: right;\n",
       "    }\n",
       "</style>\n",
       "<table border=\"1\" class=\"dataframe\">\n",
       "  <thead>\n",
       "    <tr style=\"text-align: right;\">\n",
       "      <th></th>\n",
       "      <th>objectid</th>\n",
       "      <th>incnum</th>\n",
       "      <th>occurred_dt</th>\n",
       "      <th>occurred_tm</th>\n",
       "      <th>udtext24a</th>\n",
       "      <th>udtext24b</th>\n",
       "      <th>udtext24c</th>\n",
       "      <th>udtext24d</th>\n",
       "      <th>disposition</th>\n",
       "      <th>street_n</th>\n",
       "      <th>...</th>\n",
       "      <th>race</th>\n",
       "      <th>sex</th>\n",
       "      <th>cit_age</th>\n",
       "      <th>cit_cond_type</th>\n",
       "      <th>offnum</th>\n",
       "      <th>off_race</th>\n",
       "      <th>off_sex</th>\n",
       "      <th>off_age</th>\n",
       "      <th>off_yr_employ</th>\n",
       "      <th>off_cond_type</th>\n",
       "    </tr>\n",
       "  </thead>\n",
       "  <tbody>\n",
       "    <tr>\n",
       "      <th>0</th>\n",
       "      <td>1</td>\n",
       "      <td>41251</td>\n",
       "      <td>2019/09/26</td>\n",
       "      <td>12:45:00</td>\n",
       "      <td>OPERATIONS DIVISION</td>\n",
       "      <td>EAST DISTRICT</td>\n",
       "      <td>ED DAY SHIFT</td>\n",
       "      <td>ED DAY SHIFT</td>\n",
       "      <td>In compliance</td>\n",
       "      <td>6204</td>\n",
       "      <td>...</td>\n",
       "      <td>Black</td>\n",
       "      <td>Male</td>\n",
       "      <td>32.0</td>\n",
       "      <td>NaN</td>\n",
       "      <td>3232.0</td>\n",
       "      <td>White</td>\n",
       "      <td>Female</td>\n",
       "      <td>NaN</td>\n",
       "      <td>NaN</td>\n",
       "      <td>NaN</td>\n",
       "    </tr>\n",
       "    <tr>\n",
       "      <th>1</th>\n",
       "      <td>2</td>\n",
       "      <td>41251</td>\n",
       "      <td>2019/09/26</td>\n",
       "      <td>12:45:00</td>\n",
       "      <td>OPERATIONS DIVISION</td>\n",
       "      <td>EAST DISTRICT</td>\n",
       "      <td>ED DAY SHIFT</td>\n",
       "      <td>ED DAY SHIFT</td>\n",
       "      <td>In compliance</td>\n",
       "      <td>6204</td>\n",
       "      <td>...</td>\n",
       "      <td>Black</td>\n",
       "      <td>Male</td>\n",
       "      <td>32.0</td>\n",
       "      <td>NaN</td>\n",
       "      <td>3232.0</td>\n",
       "      <td>White</td>\n",
       "      <td>Female</td>\n",
       "      <td>NaN</td>\n",
       "      <td>NaN</td>\n",
       "      <td>NaN</td>\n",
       "    </tr>\n",
       "    <tr>\n",
       "      <th>2</th>\n",
       "      <td>3</td>\n",
       "      <td>41251</td>\n",
       "      <td>2019/09/26</td>\n",
       "      <td>12:45:00</td>\n",
       "      <td>OPERATIONS DIVISION</td>\n",
       "      <td>EAST DISTRICT</td>\n",
       "      <td>ED DAY SHIFT</td>\n",
       "      <td>ED DAY SHIFT</td>\n",
       "      <td>In compliance</td>\n",
       "      <td>6204</td>\n",
       "      <td>...</td>\n",
       "      <td>Black</td>\n",
       "      <td>Male</td>\n",
       "      <td>32.0</td>\n",
       "      <td>NaN</td>\n",
       "      <td>3232.0</td>\n",
       "      <td>White</td>\n",
       "      <td>Female</td>\n",
       "      <td>NaN</td>\n",
       "      <td>NaN</td>\n",
       "      <td>NaN</td>\n",
       "    </tr>\n",
       "    <tr>\n",
       "      <th>3</th>\n",
       "      <td>4</td>\n",
       "      <td>41251</td>\n",
       "      <td>2019/09/26</td>\n",
       "      <td>12:45:00</td>\n",
       "      <td>OPERATIONS DIVISION</td>\n",
       "      <td>EAST DISTRICT</td>\n",
       "      <td>ED DAY SHIFT</td>\n",
       "      <td>ED DAY SHIFT</td>\n",
       "      <td>In compliance</td>\n",
       "      <td>6204</td>\n",
       "      <td>...</td>\n",
       "      <td>Black</td>\n",
       "      <td>Male</td>\n",
       "      <td>32.0</td>\n",
       "      <td>NaN</td>\n",
       "      <td>3232.0</td>\n",
       "      <td>White</td>\n",
       "      <td>Female</td>\n",
       "      <td>NaN</td>\n",
       "      <td>NaN</td>\n",
       "      <td>NaN</td>\n",
       "    </tr>\n",
       "    <tr>\n",
       "      <th>4</th>\n",
       "      <td>5</td>\n",
       "      <td>41251</td>\n",
       "      <td>2019/09/26</td>\n",
       "      <td>12:45:00</td>\n",
       "      <td>OPERATIONS DIVISION</td>\n",
       "      <td>EAST DISTRICT</td>\n",
       "      <td>ED DAY SHIFT</td>\n",
       "      <td>ED DAY SHIFT</td>\n",
       "      <td>In compliance</td>\n",
       "      <td>6204</td>\n",
       "      <td>...</td>\n",
       "      <td>Black</td>\n",
       "      <td>Male</td>\n",
       "      <td>32.0</td>\n",
       "      <td>NaN</td>\n",
       "      <td>3848.0</td>\n",
       "      <td>White</td>\n",
       "      <td>Female</td>\n",
       "      <td>NaN</td>\n",
       "      <td>NaN</td>\n",
       "      <td>NaN</td>\n",
       "    </tr>\n",
       "  </tbody>\n",
       "</table>\n",
       "<p>5 rows × 35 columns</p>\n",
       "</div>"
      ],
      "text/plain": [
       "   objectid  incnum occurred_dt occurred_tm            udtext24a  \\\n",
       "0         1   41251  2019/09/26    12:45:00  OPERATIONS DIVISION   \n",
       "1         2   41251  2019/09/26    12:45:00  OPERATIONS DIVISION   \n",
       "2         3   41251  2019/09/26    12:45:00  OPERATIONS DIVISION   \n",
       "3         4   41251  2019/09/26    12:45:00  OPERATIONS DIVISION   \n",
       "4         5   41251  2019/09/26    12:45:00  OPERATIONS DIVISION   \n",
       "\n",
       "       udtext24b     udtext24c     udtext24d    disposition street_n  ...  \\\n",
       "0  EAST DISTRICT  ED DAY SHIFT  ED DAY SHIFT  In compliance     6204  ...   \n",
       "1  EAST DISTRICT  ED DAY SHIFT  ED DAY SHIFT  In compliance     6204  ...   \n",
       "2  EAST DISTRICT  ED DAY SHIFT  ED DAY SHIFT  In compliance     6204  ...   \n",
       "3  EAST DISTRICT  ED DAY SHIFT  ED DAY SHIFT  In compliance     6204  ...   \n",
       "4  EAST DISTRICT  ED DAY SHIFT  ED DAY SHIFT  In compliance     6204  ...   \n",
       "\n",
       "    race   sex cit_age cit_cond_type  offnum off_race off_sex off_age  \\\n",
       "0  Black  Male    32.0           NaN  3232.0    White  Female     NaN   \n",
       "1  Black  Male    32.0           NaN  3232.0    White  Female     NaN   \n",
       "2  Black  Male    32.0           NaN  3232.0    White  Female     NaN   \n",
       "3  Black  Male    32.0           NaN  3232.0    White  Female     NaN   \n",
       "4  Black  Male    32.0           NaN  3848.0    White  Female     NaN   \n",
       "\n",
       "  off_yr_employ  off_cond_type  \n",
       "0           NaN            NaN  \n",
       "1           NaN            NaN  \n",
       "2           NaN            NaN  \n",
       "3           NaN            NaN  \n",
       "4           NaN            NaN  \n",
       "\n",
       "[5 rows x 35 columns]"
      ]
     },
     "execution_count": 4,
     "metadata": {},
     "output_type": "execute_result"
    }
   ],
   "source": [
    "# First step is to lower case all columns for consistency and easy data manipulation\n",
    "uof_df.columns = map(str.lower, uof_df.columns)\n",
    "uof_df.head()"
   ]
  },
  {
   "cell_type": "code",
   "execution_count": 5,
   "metadata": {},
   "outputs": [
    {
     "data": {
      "text/html": [
       "<div>\n",
       "<style scoped>\n",
       "    .dataframe tbody tr th:only-of-type {\n",
       "        vertical-align: middle;\n",
       "    }\n",
       "\n",
       "    .dataframe tbody tr th {\n",
       "        vertical-align: top;\n",
       "    }\n",
       "\n",
       "    .dataframe thead th {\n",
       "        text-align: right;\n",
       "    }\n",
       "</style>\n",
       "<table border=\"1\" class=\"dataframe\">\n",
       "  <thead>\n",
       "    <tr style=\"text-align: right;\">\n",
       "      <th></th>\n",
       "      <th>objectid</th>\n",
       "      <th>incnum</th>\n",
       "      <th>occurred_dt</th>\n",
       "      <th>occurred_tm</th>\n",
       "      <th>udtext24a</th>\n",
       "      <th>udtext24b</th>\n",
       "      <th>udtext24c</th>\n",
       "      <th>udtext24d</th>\n",
       "      <th>disposition</th>\n",
       "      <th>street_n</th>\n",
       "      <th>...</th>\n",
       "      <th>race</th>\n",
       "      <th>sex</th>\n",
       "      <th>cit_age</th>\n",
       "      <th>cit_cond_type</th>\n",
       "      <th>offnum</th>\n",
       "      <th>off_race</th>\n",
       "      <th>off_sex</th>\n",
       "      <th>off_age</th>\n",
       "      <th>off_yr_employ</th>\n",
       "      <th>off_cond_type</th>\n",
       "    </tr>\n",
       "  </thead>\n",
       "  <tbody>\n",
       "    <tr>\n",
       "      <th>0</th>\n",
       "      <td>1</td>\n",
       "      <td>41251</td>\n",
       "      <td>2019/09/26</td>\n",
       "      <td>12:45:00</td>\n",
       "      <td>operations division</td>\n",
       "      <td>east district</td>\n",
       "      <td>ed day shift</td>\n",
       "      <td>ed day shift</td>\n",
       "      <td>in compliance</td>\n",
       "      <td>6204</td>\n",
       "      <td>...</td>\n",
       "      <td>black</td>\n",
       "      <td>male</td>\n",
       "      <td>32.0</td>\n",
       "      <td>NaN</td>\n",
       "      <td>3232.0</td>\n",
       "      <td>white</td>\n",
       "      <td>female</td>\n",
       "      <td>NaN</td>\n",
       "      <td>NaN</td>\n",
       "      <td>NaN</td>\n",
       "    </tr>\n",
       "    <tr>\n",
       "      <th>1</th>\n",
       "      <td>2</td>\n",
       "      <td>41251</td>\n",
       "      <td>2019/09/26</td>\n",
       "      <td>12:45:00</td>\n",
       "      <td>operations division</td>\n",
       "      <td>east district</td>\n",
       "      <td>ed day shift</td>\n",
       "      <td>ed day shift</td>\n",
       "      <td>in compliance</td>\n",
       "      <td>6204</td>\n",
       "      <td>...</td>\n",
       "      <td>black</td>\n",
       "      <td>male</td>\n",
       "      <td>32.0</td>\n",
       "      <td>NaN</td>\n",
       "      <td>3232.0</td>\n",
       "      <td>white</td>\n",
       "      <td>female</td>\n",
       "      <td>NaN</td>\n",
       "      <td>NaN</td>\n",
       "      <td>NaN</td>\n",
       "    </tr>\n",
       "    <tr>\n",
       "      <th>2</th>\n",
       "      <td>3</td>\n",
       "      <td>41251</td>\n",
       "      <td>2019/09/26</td>\n",
       "      <td>12:45:00</td>\n",
       "      <td>operations division</td>\n",
       "      <td>east district</td>\n",
       "      <td>ed day shift</td>\n",
       "      <td>ed day shift</td>\n",
       "      <td>in compliance</td>\n",
       "      <td>6204</td>\n",
       "      <td>...</td>\n",
       "      <td>black</td>\n",
       "      <td>male</td>\n",
       "      <td>32.0</td>\n",
       "      <td>NaN</td>\n",
       "      <td>3232.0</td>\n",
       "      <td>white</td>\n",
       "      <td>female</td>\n",
       "      <td>NaN</td>\n",
       "      <td>NaN</td>\n",
       "      <td>NaN</td>\n",
       "    </tr>\n",
       "    <tr>\n",
       "      <th>3</th>\n",
       "      <td>4</td>\n",
       "      <td>41251</td>\n",
       "      <td>2019/09/26</td>\n",
       "      <td>12:45:00</td>\n",
       "      <td>operations division</td>\n",
       "      <td>east district</td>\n",
       "      <td>ed day shift</td>\n",
       "      <td>ed day shift</td>\n",
       "      <td>in compliance</td>\n",
       "      <td>6204</td>\n",
       "      <td>...</td>\n",
       "      <td>black</td>\n",
       "      <td>male</td>\n",
       "      <td>32.0</td>\n",
       "      <td>NaN</td>\n",
       "      <td>3232.0</td>\n",
       "      <td>white</td>\n",
       "      <td>female</td>\n",
       "      <td>NaN</td>\n",
       "      <td>NaN</td>\n",
       "      <td>NaN</td>\n",
       "    </tr>\n",
       "    <tr>\n",
       "      <th>4</th>\n",
       "      <td>5</td>\n",
       "      <td>41251</td>\n",
       "      <td>2019/09/26</td>\n",
       "      <td>12:45:00</td>\n",
       "      <td>operations division</td>\n",
       "      <td>east district</td>\n",
       "      <td>ed day shift</td>\n",
       "      <td>ed day shift</td>\n",
       "      <td>in compliance</td>\n",
       "      <td>6204</td>\n",
       "      <td>...</td>\n",
       "      <td>black</td>\n",
       "      <td>male</td>\n",
       "      <td>32.0</td>\n",
       "      <td>NaN</td>\n",
       "      <td>3848.0</td>\n",
       "      <td>white</td>\n",
       "      <td>female</td>\n",
       "      <td>NaN</td>\n",
       "      <td>NaN</td>\n",
       "      <td>NaN</td>\n",
       "    </tr>\n",
       "  </tbody>\n",
       "</table>\n",
       "<p>5 rows × 35 columns</p>\n",
       "</div>"
      ],
      "text/plain": [
       "   objectid  incnum occurred_dt occurred_tm            udtext24a  \\\n",
       "0         1   41251  2019/09/26    12:45:00  operations division   \n",
       "1         2   41251  2019/09/26    12:45:00  operations division   \n",
       "2         3   41251  2019/09/26    12:45:00  operations division   \n",
       "3         4   41251  2019/09/26    12:45:00  operations division   \n",
       "4         5   41251  2019/09/26    12:45:00  operations division   \n",
       "\n",
       "       udtext24b     udtext24c     udtext24d    disposition street_n  ...  \\\n",
       "0  east district  ed day shift  ed day shift  in compliance     6204  ...   \n",
       "1  east district  ed day shift  ed day shift  in compliance     6204  ...   \n",
       "2  east district  ed day shift  ed day shift  in compliance     6204  ...   \n",
       "3  east district  ed day shift  ed day shift  in compliance     6204  ...   \n",
       "4  east district  ed day shift  ed day shift  in compliance     6204  ...   \n",
       "\n",
       "    race   sex cit_age cit_cond_type  offnum off_race off_sex off_age  \\\n",
       "0  black  male    32.0           NaN  3232.0    white  female     NaN   \n",
       "1  black  male    32.0           NaN  3232.0    white  female     NaN   \n",
       "2  black  male    32.0           NaN  3232.0    white  female     NaN   \n",
       "3  black  male    32.0           NaN  3232.0    white  female     NaN   \n",
       "4  black  male    32.0           NaN  3848.0    white  female     NaN   \n",
       "\n",
       "  off_yr_employ  off_cond_type  \n",
       "0           NaN            NaN  \n",
       "1           NaN            NaN  \n",
       "2           NaN            NaN  \n",
       "3           NaN            NaN  \n",
       "4           NaN            NaN  \n",
       "\n",
       "[5 rows x 35 columns]"
      ]
     },
     "execution_count": 5,
     "metadata": {},
     "output_type": "execute_result"
    }
   ],
   "source": [
    "# Now, lower case all columns containing strings in the dataset\n",
    "uof_df = uof_df.apply(lambda x: x.str.lower() if(x.dtype == 'object') else x)\n",
    "uof_df.head()"
   ]
  },
  {
   "cell_type": "code",
   "execution_count": 6,
   "metadata": {
    "scrolled": true
   },
   "outputs": [
    {
     "data": {
      "text/html": [
       "<div>\n",
       "<style scoped>\n",
       "    .dataframe tbody tr th:only-of-type {\n",
       "        vertical-align: middle;\n",
       "    }\n",
       "\n",
       "    .dataframe tbody tr th {\n",
       "        vertical-align: top;\n",
       "    }\n",
       "\n",
       "    .dataframe thead th {\n",
       "        text-align: right;\n",
       "    }\n",
       "</style>\n",
       "<table border=\"1\" class=\"dataframe\">\n",
       "  <thead>\n",
       "    <tr style=\"text-align: right;\">\n",
       "      <th></th>\n",
       "      <th>incnum</th>\n",
       "      <th>occurred_dt</th>\n",
       "      <th>occurred_tm</th>\n",
       "      <th>udtext24a</th>\n",
       "      <th>udtext24b</th>\n",
       "      <th>udtext24c</th>\n",
       "      <th>udtext24d</th>\n",
       "      <th>disposition</th>\n",
       "      <th>street_n</th>\n",
       "      <th>street</th>\n",
       "      <th>...</th>\n",
       "      <th>race</th>\n",
       "      <th>sex</th>\n",
       "      <th>cit_age</th>\n",
       "      <th>cit_cond_type</th>\n",
       "      <th>offnum</th>\n",
       "      <th>off_race</th>\n",
       "      <th>off_sex</th>\n",
       "      <th>off_age</th>\n",
       "      <th>off_yr_employ</th>\n",
       "      <th>off_cond_type</th>\n",
       "    </tr>\n",
       "  </thead>\n",
       "  <tbody>\n",
       "    <tr>\n",
       "      <th>0</th>\n",
       "      <td>41251</td>\n",
       "      <td>2019/09/26</td>\n",
       "      <td>12:45:00</td>\n",
       "      <td>operations division</td>\n",
       "      <td>east district</td>\n",
       "      <td>ed day shift</td>\n",
       "      <td>ed day shift</td>\n",
       "      <td>in compliance</td>\n",
       "      <td>6204</td>\n",
       "      <td>commodore</td>\n",
       "      <td>...</td>\n",
       "      <td>black</td>\n",
       "      <td>male</td>\n",
       "      <td>32.0</td>\n",
       "      <td>NaN</td>\n",
       "      <td>3232.0</td>\n",
       "      <td>white</td>\n",
       "      <td>female</td>\n",
       "      <td>NaN</td>\n",
       "      <td>NaN</td>\n",
       "      <td>NaN</td>\n",
       "    </tr>\n",
       "    <tr>\n",
       "      <th>1</th>\n",
       "      <td>41251</td>\n",
       "      <td>2019/09/26</td>\n",
       "      <td>12:45:00</td>\n",
       "      <td>operations division</td>\n",
       "      <td>east district</td>\n",
       "      <td>ed day shift</td>\n",
       "      <td>ed day shift</td>\n",
       "      <td>in compliance</td>\n",
       "      <td>6204</td>\n",
       "      <td>commodore</td>\n",
       "      <td>...</td>\n",
       "      <td>black</td>\n",
       "      <td>male</td>\n",
       "      <td>32.0</td>\n",
       "      <td>NaN</td>\n",
       "      <td>3232.0</td>\n",
       "      <td>white</td>\n",
       "      <td>female</td>\n",
       "      <td>NaN</td>\n",
       "      <td>NaN</td>\n",
       "      <td>NaN</td>\n",
       "    </tr>\n",
       "    <tr>\n",
       "      <th>2</th>\n",
       "      <td>41251</td>\n",
       "      <td>2019/09/26</td>\n",
       "      <td>12:45:00</td>\n",
       "      <td>operations division</td>\n",
       "      <td>east district</td>\n",
       "      <td>ed day shift</td>\n",
       "      <td>ed day shift</td>\n",
       "      <td>in compliance</td>\n",
       "      <td>6204</td>\n",
       "      <td>commodore</td>\n",
       "      <td>...</td>\n",
       "      <td>black</td>\n",
       "      <td>male</td>\n",
       "      <td>32.0</td>\n",
       "      <td>NaN</td>\n",
       "      <td>3232.0</td>\n",
       "      <td>white</td>\n",
       "      <td>female</td>\n",
       "      <td>NaN</td>\n",
       "      <td>NaN</td>\n",
       "      <td>NaN</td>\n",
       "    </tr>\n",
       "    <tr>\n",
       "      <th>3</th>\n",
       "      <td>41251</td>\n",
       "      <td>2019/09/26</td>\n",
       "      <td>12:45:00</td>\n",
       "      <td>operations division</td>\n",
       "      <td>east district</td>\n",
       "      <td>ed day shift</td>\n",
       "      <td>ed day shift</td>\n",
       "      <td>in compliance</td>\n",
       "      <td>6204</td>\n",
       "      <td>commodore</td>\n",
       "      <td>...</td>\n",
       "      <td>black</td>\n",
       "      <td>male</td>\n",
       "      <td>32.0</td>\n",
       "      <td>NaN</td>\n",
       "      <td>3232.0</td>\n",
       "      <td>white</td>\n",
       "      <td>female</td>\n",
       "      <td>NaN</td>\n",
       "      <td>NaN</td>\n",
       "      <td>NaN</td>\n",
       "    </tr>\n",
       "    <tr>\n",
       "      <th>4</th>\n",
       "      <td>41251</td>\n",
       "      <td>2019/09/26</td>\n",
       "      <td>12:45:00</td>\n",
       "      <td>operations division</td>\n",
       "      <td>east district</td>\n",
       "      <td>ed day shift</td>\n",
       "      <td>ed day shift</td>\n",
       "      <td>in compliance</td>\n",
       "      <td>6204</td>\n",
       "      <td>commodore</td>\n",
       "      <td>...</td>\n",
       "      <td>black</td>\n",
       "      <td>male</td>\n",
       "      <td>32.0</td>\n",
       "      <td>NaN</td>\n",
       "      <td>3848.0</td>\n",
       "      <td>white</td>\n",
       "      <td>female</td>\n",
       "      <td>NaN</td>\n",
       "      <td>NaN</td>\n",
       "      <td>NaN</td>\n",
       "    </tr>\n",
       "  </tbody>\n",
       "</table>\n",
       "<p>5 rows × 33 columns</p>\n",
       "</div>"
      ],
      "text/plain": [
       "   incnum occurred_dt occurred_tm            udtext24a      udtext24b  \\\n",
       "0   41251  2019/09/26    12:45:00  operations division  east district   \n",
       "1   41251  2019/09/26    12:45:00  operations division  east district   \n",
       "2   41251  2019/09/26    12:45:00  operations division  east district   \n",
       "3   41251  2019/09/26    12:45:00  operations division  east district   \n",
       "4   41251  2019/09/26    12:45:00  operations division  east district   \n",
       "\n",
       "      udtext24c     udtext24d    disposition street_n     street  ...   race  \\\n",
       "0  ed day shift  ed day shift  in compliance     6204  commodore  ...  black   \n",
       "1  ed day shift  ed day shift  in compliance     6204  commodore  ...  black   \n",
       "2  ed day shift  ed day shift  in compliance     6204  commodore  ...  black   \n",
       "3  ed day shift  ed day shift  in compliance     6204  commodore  ...  black   \n",
       "4  ed day shift  ed day shift  in compliance     6204  commodore  ...  black   \n",
       "\n",
       "    sex cit_age cit_cond_type  offnum off_race off_sex off_age off_yr_employ  \\\n",
       "0  male    32.0           NaN  3232.0    white  female     NaN           NaN   \n",
       "1  male    32.0           NaN  3232.0    white  female     NaN           NaN   \n",
       "2  male    32.0           NaN  3232.0    white  female     NaN           NaN   \n",
       "3  male    32.0           NaN  3232.0    white  female     NaN           NaN   \n",
       "4  male    32.0           NaN  3848.0    white  female     NaN           NaN   \n",
       "\n",
       "  off_cond_type  \n",
       "0           NaN  \n",
       "1           NaN  \n",
       "2           NaN  \n",
       "3           NaN  \n",
       "4           NaN  \n",
       "\n",
       "[5 rows x 33 columns]"
      ]
     },
     "execution_count": 6,
     "metadata": {},
     "output_type": "execute_result"
    }
   ],
   "source": [
    "# Drop unneeded columns\n",
    "# objectid dropped because it is a generic number for the data within the row\n",
    "# cit_weapon_type consists entirely of NaN values\n",
    "uof_df = uof_df.drop(uof_df[['objectid', 'cit_weapon_type']], axis=1)\n",
    "uof_df.head()"
   ]
  },
  {
   "cell_type": "code",
   "execution_count": 7,
   "metadata": {},
   "outputs": [
    {
     "data": {
      "text/html": [
       "<div>\n",
       "<style scoped>\n",
       "    .dataframe tbody tr th:only-of-type {\n",
       "        vertical-align: middle;\n",
       "    }\n",
       "\n",
       "    .dataframe tbody tr th {\n",
       "        vertical-align: top;\n",
       "    }\n",
       "\n",
       "    .dataframe thead th {\n",
       "        text-align: right;\n",
       "    }\n",
       "</style>\n",
       "<table border=\"1\" class=\"dataframe\">\n",
       "  <thead>\n",
       "    <tr style=\"text-align: right;\">\n",
       "      <th></th>\n",
       "      <th>incnum</th>\n",
       "      <th>occurred_dt</th>\n",
       "      <th>occurred_tm</th>\n",
       "      <th>udtext24a</th>\n",
       "      <th>udtext24b</th>\n",
       "      <th>udtext24c</th>\n",
       "      <th>udtext24d</th>\n",
       "      <th>disposition</th>\n",
       "      <th>street_n</th>\n",
       "      <th>street</th>\n",
       "      <th>...</th>\n",
       "      <th>race</th>\n",
       "      <th>sex</th>\n",
       "      <th>cit_age</th>\n",
       "      <th>cit_cond_type</th>\n",
       "      <th>offnum</th>\n",
       "      <th>off_race</th>\n",
       "      <th>off_sex</th>\n",
       "      <th>off_age</th>\n",
       "      <th>off_yr_employ</th>\n",
       "      <th>off_cond_type</th>\n",
       "    </tr>\n",
       "  </thead>\n",
       "  <tbody>\n",
       "    <tr>\n",
       "      <th>0</th>\n",
       "      <td>41251</td>\n",
       "      <td>2019/09/26</td>\n",
       "      <td>12:45:00</td>\n",
       "      <td>operations division</td>\n",
       "      <td>east district</td>\n",
       "      <td>ed day shift</td>\n",
       "      <td>ed day shift</td>\n",
       "      <td>in compliance</td>\n",
       "      <td>6204</td>\n",
       "      <td>commodore</td>\n",
       "      <td>...</td>\n",
       "      <td>black</td>\n",
       "      <td>male</td>\n",
       "      <td>32.0</td>\n",
       "      <td>NaN</td>\n",
       "      <td>3232.0</td>\n",
       "      <td>white</td>\n",
       "      <td>female</td>\n",
       "      <td>NaN</td>\n",
       "      <td>NaN</td>\n",
       "      <td>NaN</td>\n",
       "    </tr>\n",
       "    <tr>\n",
       "      <th>4</th>\n",
       "      <td>41251</td>\n",
       "      <td>2019/09/26</td>\n",
       "      <td>12:45:00</td>\n",
       "      <td>operations division</td>\n",
       "      <td>east district</td>\n",
       "      <td>ed day shift</td>\n",
       "      <td>ed day shift</td>\n",
       "      <td>in compliance</td>\n",
       "      <td>6204</td>\n",
       "      <td>commodore</td>\n",
       "      <td>...</td>\n",
       "      <td>black</td>\n",
       "      <td>male</td>\n",
       "      <td>32.0</td>\n",
       "      <td>NaN</td>\n",
       "      <td>3848.0</td>\n",
       "      <td>white</td>\n",
       "      <td>female</td>\n",
       "      <td>NaN</td>\n",
       "      <td>NaN</td>\n",
       "      <td>NaN</td>\n",
       "    </tr>\n",
       "    <tr>\n",
       "      <th>5</th>\n",
       "      <td>22933</td>\n",
       "      <td>2017/09/12</td>\n",
       "      <td>11:30:00</td>\n",
       "      <td>operations division</td>\n",
       "      <td>southwest district</td>\n",
       "      <td>sw day shift</td>\n",
       "      <td>sw day shift</td>\n",
       "      <td>in compliance</td>\n",
       "      <td>2920</td>\n",
       "      <td>campanile</td>\n",
       "      <td>...</td>\n",
       "      <td>black</td>\n",
       "      <td>male</td>\n",
       "      <td>23.0</td>\n",
       "      <td>NaN</td>\n",
       "      <td>828.0</td>\n",
       "      <td>white</td>\n",
       "      <td>male</td>\n",
       "      <td>38.0</td>\n",
       "      <td>15.0</td>\n",
       "      <td>NaN</td>\n",
       "    </tr>\n",
       "    <tr>\n",
       "      <th>6</th>\n",
       "      <td>166</td>\n",
       "      <td>2014/01/01</td>\n",
       "      <td>22:28:00</td>\n",
       "      <td>homeland security division</td>\n",
       "      <td>homeland security bureau/tactical</td>\n",
       "      <td>canine section</td>\n",
       "      <td>canine unit - late tactical</td>\n",
       "      <td>in compliance</td>\n",
       "      <td>615</td>\n",
       "      <td>29th</td>\n",
       "      <td>...</td>\n",
       "      <td>black</td>\n",
       "      <td>male</td>\n",
       "      <td>19.0</td>\n",
       "      <td>NaN</td>\n",
       "      <td>1519.0</td>\n",
       "      <td>white</td>\n",
       "      <td>male</td>\n",
       "      <td>35.0</td>\n",
       "      <td>11.0</td>\n",
       "      <td>NaN</td>\n",
       "    </tr>\n",
       "    <tr>\n",
       "      <th>7</th>\n",
       "      <td>41996</td>\n",
       "      <td>2019/10/22</td>\n",
       "      <td>05:50:00</td>\n",
       "      <td>operations division</td>\n",
       "      <td>northwest district</td>\n",
       "      <td>nw day shift</td>\n",
       "      <td>nw day shift</td>\n",
       "      <td>in compliance</td>\n",
       "      <td>1416</td>\n",
       "      <td>27th</td>\n",
       "      <td>...</td>\n",
       "      <td>black</td>\n",
       "      <td>male</td>\n",
       "      <td>45.0</td>\n",
       "      <td>minor scrapes</td>\n",
       "      <td>3113.0</td>\n",
       "      <td>white</td>\n",
       "      <td>male</td>\n",
       "      <td>NaN</td>\n",
       "      <td>NaN</td>\n",
       "      <td>no injuries noted or visible</td>\n",
       "    </tr>\n",
       "    <tr>\n",
       "      <th>8</th>\n",
       "      <td>41996</td>\n",
       "      <td>2019/10/22</td>\n",
       "      <td>05:50:00</td>\n",
       "      <td>operations division</td>\n",
       "      <td>northwest district</td>\n",
       "      <td>nw day shift</td>\n",
       "      <td>nw day shift</td>\n",
       "      <td>in compliance</td>\n",
       "      <td>1416</td>\n",
       "      <td>27th</td>\n",
       "      <td>...</td>\n",
       "      <td>black</td>\n",
       "      <td>male</td>\n",
       "      <td>45.0</td>\n",
       "      <td>minor scrapes</td>\n",
       "      <td>3113.0</td>\n",
       "      <td>white</td>\n",
       "      <td>male</td>\n",
       "      <td>NaN</td>\n",
       "      <td>NaN</td>\n",
       "      <td>no injuries noted or visible</td>\n",
       "    </tr>\n",
       "    <tr>\n",
       "      <th>9</th>\n",
       "      <td>5474</td>\n",
       "      <td>2014/11/09</td>\n",
       "      <td>00:52:00</td>\n",
       "      <td>operations division</td>\n",
       "      <td>north district</td>\n",
       "      <td>nd late shift</td>\n",
       "      <td>NaN</td>\n",
       "      <td>in compliance</td>\n",
       "      <td>4049</td>\n",
       "      <td>34th</td>\n",
       "      <td>...</td>\n",
       "      <td>white</td>\n",
       "      <td>male</td>\n",
       "      <td>NaN</td>\n",
       "      <td>NaN</td>\n",
       "      <td>3110.0</td>\n",
       "      <td>white</td>\n",
       "      <td>male</td>\n",
       "      <td>40.0</td>\n",
       "      <td>6.0</td>\n",
       "      <td>NaN</td>\n",
       "    </tr>\n",
       "    <tr>\n",
       "      <th>10</th>\n",
       "      <td>36754</td>\n",
       "      <td>2019/05/24</td>\n",
       "      <td>15:50:00</td>\n",
       "      <td>operations division</td>\n",
       "      <td>northwest district</td>\n",
       "      <td>nw middle shift</td>\n",
       "      <td>NaN</td>\n",
       "      <td>in compliance</td>\n",
       "      <td>3902</td>\n",
       "      <td>high school</td>\n",
       "      <td>...</td>\n",
       "      <td>black</td>\n",
       "      <td>male</td>\n",
       "      <td>26.0</td>\n",
       "      <td>minor scrapes</td>\n",
       "      <td>3469.0</td>\n",
       "      <td>hispanic</td>\n",
       "      <td>male</td>\n",
       "      <td>31.0</td>\n",
       "      <td>3.0</td>\n",
       "      <td>no injuries noted or visible</td>\n",
       "    </tr>\n",
       "    <tr>\n",
       "      <th>16</th>\n",
       "      <td>36754</td>\n",
       "      <td>2019/05/24</td>\n",
       "      <td>15:50:00</td>\n",
       "      <td>operations division</td>\n",
       "      <td>northwest district</td>\n",
       "      <td>nw middle shift</td>\n",
       "      <td>NaN</td>\n",
       "      <td>in compliance</td>\n",
       "      <td>3902</td>\n",
       "      <td>high school</td>\n",
       "      <td>...</td>\n",
       "      <td>black</td>\n",
       "      <td>male</td>\n",
       "      <td>26.0</td>\n",
       "      <td>minor scrapes</td>\n",
       "      <td>3469.0</td>\n",
       "      <td>hispanic</td>\n",
       "      <td>male</td>\n",
       "      <td>31.0</td>\n",
       "      <td>3.0</td>\n",
       "      <td>no injuries noted or visible</td>\n",
       "    </tr>\n",
       "    <tr>\n",
       "      <th>22</th>\n",
       "      <td>4269</td>\n",
       "      <td>2014/08/07</td>\n",
       "      <td>17:30:00</td>\n",
       "      <td>operations division</td>\n",
       "      <td>park rangers</td>\n",
       "      <td>park ranger section</td>\n",
       "      <td>park ranger unit (evening)</td>\n",
       "      <td>in compliance</td>\n",
       "      <td>520</td>\n",
       "      <td>belleview</td>\n",
       "      <td>...</td>\n",
       "      <td>black</td>\n",
       "      <td>male</td>\n",
       "      <td>NaN</td>\n",
       "      <td>no injuries noted or visible</td>\n",
       "      <td>3169.0</td>\n",
       "      <td>black</td>\n",
       "      <td>male</td>\n",
       "      <td>42.0</td>\n",
       "      <td>5.0</td>\n",
       "      <td>NaN</td>\n",
       "    </tr>\n",
       "    <tr>\n",
       "      <th>23</th>\n",
       "      <td>4269</td>\n",
       "      <td>2014/08/07</td>\n",
       "      <td>17:30:00</td>\n",
       "      <td>operations division</td>\n",
       "      <td>park rangers</td>\n",
       "      <td>park ranger section</td>\n",
       "      <td>park ranger unit (evening)</td>\n",
       "      <td>in compliance</td>\n",
       "      <td>520</td>\n",
       "      <td>belleview</td>\n",
       "      <td>...</td>\n",
       "      <td>black</td>\n",
       "      <td>male</td>\n",
       "      <td>NaN</td>\n",
       "      <td>no injuries noted or visible</td>\n",
       "      <td>3169.0</td>\n",
       "      <td>black</td>\n",
       "      <td>male</td>\n",
       "      <td>42.0</td>\n",
       "      <td>5.0</td>\n",
       "      <td>NaN</td>\n",
       "    </tr>\n",
       "    <tr>\n",
       "      <th>24</th>\n",
       "      <td>4269</td>\n",
       "      <td>2014/08/07</td>\n",
       "      <td>17:30:00</td>\n",
       "      <td>operations division</td>\n",
       "      <td>park rangers</td>\n",
       "      <td>park ranger section</td>\n",
       "      <td>park ranger unit (evening)</td>\n",
       "      <td>in compliance</td>\n",
       "      <td>520</td>\n",
       "      <td>belleview</td>\n",
       "      <td>...</td>\n",
       "      <td>black</td>\n",
       "      <td>male</td>\n",
       "      <td>NaN</td>\n",
       "      <td>no injuries noted or visible</td>\n",
       "      <td>3169.0</td>\n",
       "      <td>black</td>\n",
       "      <td>male</td>\n",
       "      <td>42.0</td>\n",
       "      <td>5.0</td>\n",
       "      <td>NaN</td>\n",
       "    </tr>\n",
       "    <tr>\n",
       "      <th>25</th>\n",
       "      <td>14336</td>\n",
       "      <td>2016/05/21</td>\n",
       "      <td>18:30:00</td>\n",
       "      <td>administration division</td>\n",
       "      <td>training bureau</td>\n",
       "      <td>recruit training section</td>\n",
       "      <td>11th recruit class</td>\n",
       "      <td>in compliance</td>\n",
       "      <td>100</td>\n",
       "      <td>bradley</td>\n",
       "      <td>...</td>\n",
       "      <td>white</td>\n",
       "      <td>male</td>\n",
       "      <td>NaN</td>\n",
       "      <td>minor bleeding</td>\n",
       "      <td>3374.0</td>\n",
       "      <td>white</td>\n",
       "      <td>male</td>\n",
       "      <td>29.0</td>\n",
       "      <td>0.0</td>\n",
       "      <td>minor scrapes</td>\n",
       "    </tr>\n",
       "    <tr>\n",
       "      <th>46</th>\n",
       "      <td>14336</td>\n",
       "      <td>2016/05/21</td>\n",
       "      <td>18:30:00</td>\n",
       "      <td>administration division</td>\n",
       "      <td>training bureau</td>\n",
       "      <td>recruit training section</td>\n",
       "      <td>11th recruit class</td>\n",
       "      <td>in compliance</td>\n",
       "      <td>100</td>\n",
       "      <td>bradley</td>\n",
       "      <td>...</td>\n",
       "      <td>white</td>\n",
       "      <td>male</td>\n",
       "      <td>NaN</td>\n",
       "      <td>minor bleeding</td>\n",
       "      <td>3374.0</td>\n",
       "      <td>white</td>\n",
       "      <td>male</td>\n",
       "      <td>29.0</td>\n",
       "      <td>0.0</td>\n",
       "      <td>minor scrapes</td>\n",
       "    </tr>\n",
       "    <tr>\n",
       "      <th>61</th>\n",
       "      <td>41251</td>\n",
       "      <td>2019/09/26</td>\n",
       "      <td>12:45:00</td>\n",
       "      <td>operations division</td>\n",
       "      <td>east district</td>\n",
       "      <td>ed day shift</td>\n",
       "      <td>ed day shift</td>\n",
       "      <td>in compliance</td>\n",
       "      <td>6204</td>\n",
       "      <td>commodore</td>\n",
       "      <td>...</td>\n",
       "      <td>black</td>\n",
       "      <td>male</td>\n",
       "      <td>32.0</td>\n",
       "      <td>NaN</td>\n",
       "      <td>423.0</td>\n",
       "      <td>white</td>\n",
       "      <td>male</td>\n",
       "      <td>NaN</td>\n",
       "      <td>NaN</td>\n",
       "      <td>NaN</td>\n",
       "    </tr>\n",
       "    <tr>\n",
       "      <th>62</th>\n",
       "      <td>38398</td>\n",
       "      <td>2019/07/09</td>\n",
       "      <td>15:03:00</td>\n",
       "      <td>operations division</td>\n",
       "      <td>downtown  district</td>\n",
       "      <td>dt middle shift</td>\n",
       "      <td>NaN</td>\n",
       "      <td>in compliance</td>\n",
       "      <td>1200</td>\n",
       "      <td>capitol</td>\n",
       "      <td>...</td>\n",
       "      <td>white</td>\n",
       "      <td>female</td>\n",
       "      <td>31.0</td>\n",
       "      <td>NaN</td>\n",
       "      <td>3702.0</td>\n",
       "      <td>white</td>\n",
       "      <td>male</td>\n",
       "      <td>30.0</td>\n",
       "      <td>1.0</td>\n",
       "      <td>NaN</td>\n",
       "    </tr>\n",
       "    <tr>\n",
       "      <th>63</th>\n",
       "      <td>21560</td>\n",
       "      <td>2017/06/25</td>\n",
       "      <td>02:11:00</td>\n",
       "      <td>operations division</td>\n",
       "      <td>southeast district</td>\n",
       "      <td>se middle shift</td>\n",
       "      <td>NaN</td>\n",
       "      <td>in compliance</td>\n",
       "      <td>1</td>\n",
       "      <td>louisiana</td>\n",
       "      <td>...</td>\n",
       "      <td>white</td>\n",
       "      <td>male</td>\n",
       "      <td>NaN</td>\n",
       "      <td>NaN</td>\n",
       "      <td>1520.0</td>\n",
       "      <td>white</td>\n",
       "      <td>male</td>\n",
       "      <td>39.0</td>\n",
       "      <td>14.0</td>\n",
       "      <td>NaN</td>\n",
       "    </tr>\n",
       "    <tr>\n",
       "      <th>64</th>\n",
       "      <td>47821</td>\n",
       "      <td>2020/05/30</td>\n",
       "      <td>00:05:00</td>\n",
       "      <td>operations division</td>\n",
       "      <td>southeast district</td>\n",
       "      <td>se middle shift</td>\n",
       "      <td>NaN</td>\n",
       "      <td>in compliance</td>\n",
       "      <td>200</td>\n",
       "      <td>market</td>\n",
       "      <td>...</td>\n",
       "      <td>black</td>\n",
       "      <td>male</td>\n",
       "      <td>46.0</td>\n",
       "      <td>NaN</td>\n",
       "      <td>1520.0</td>\n",
       "      <td>white</td>\n",
       "      <td>male</td>\n",
       "      <td>NaN</td>\n",
       "      <td>NaN</td>\n",
       "      <td>NaN</td>\n",
       "    </tr>\n",
       "    <tr>\n",
       "      <th>65</th>\n",
       "      <td>4272</td>\n",
       "      <td>2014/08/08</td>\n",
       "      <td>09:08:00</td>\n",
       "      <td>operations division</td>\n",
       "      <td>southwest district</td>\n",
       "      <td>sw day shift</td>\n",
       "      <td>sw day shift 2nd rc</td>\n",
       "      <td>in compliance</td>\n",
       "      <td>9050</td>\n",
       "      <td>cardinal flower</td>\n",
       "      <td>...</td>\n",
       "      <td>black</td>\n",
       "      <td>male</td>\n",
       "      <td>33.0</td>\n",
       "      <td>abrassion</td>\n",
       "      <td>2182.0</td>\n",
       "      <td>white</td>\n",
       "      <td>male</td>\n",
       "      <td>47.0</td>\n",
       "      <td>12.0</td>\n",
       "      <td>no injuries noted or visible</td>\n",
       "    </tr>\n",
       "    <tr>\n",
       "      <th>66</th>\n",
       "      <td>4272</td>\n",
       "      <td>2014/08/08</td>\n",
       "      <td>09:08:00</td>\n",
       "      <td>operations division</td>\n",
       "      <td>southwest district</td>\n",
       "      <td>sw day shift</td>\n",
       "      <td>sw day shift 2nd rc</td>\n",
       "      <td>in compliance</td>\n",
       "      <td>9050</td>\n",
       "      <td>cardinal flower</td>\n",
       "      <td>...</td>\n",
       "      <td>black</td>\n",
       "      <td>male</td>\n",
       "      <td>33.0</td>\n",
       "      <td>abrassion</td>\n",
       "      <td>1303.0</td>\n",
       "      <td>white</td>\n",
       "      <td>male</td>\n",
       "      <td>41.0</td>\n",
       "      <td>15.0</td>\n",
       "      <td>NaN</td>\n",
       "    </tr>\n",
       "    <tr>\n",
       "      <th>67</th>\n",
       "      <td>4273</td>\n",
       "      <td>2014/08/08</td>\n",
       "      <td>09:08:00</td>\n",
       "      <td>operations division</td>\n",
       "      <td>southwest district</td>\n",
       "      <td>sw day shift</td>\n",
       "      <td>sw day shift 2nd rc</td>\n",
       "      <td>in compliance</td>\n",
       "      <td>9050</td>\n",
       "      <td>cardinal flower</td>\n",
       "      <td>...</td>\n",
       "      <td>black</td>\n",
       "      <td>male</td>\n",
       "      <td>33.0</td>\n",
       "      <td>abrasion</td>\n",
       "      <td>2182.0</td>\n",
       "      <td>white</td>\n",
       "      <td>male</td>\n",
       "      <td>47.0</td>\n",
       "      <td>12.0</td>\n",
       "      <td>NaN</td>\n",
       "    </tr>\n",
       "    <tr>\n",
       "      <th>70</th>\n",
       "      <td>4408</td>\n",
       "      <td>2014/08/20</td>\n",
       "      <td>17:32:00</td>\n",
       "      <td>operations division</td>\n",
       "      <td>east district</td>\n",
       "      <td>ed late shift</td>\n",
       "      <td>NaN</td>\n",
       "      <td>in compliance</td>\n",
       "      <td>47</td>\n",
       "      <td>ohio</td>\n",
       "      <td>...</td>\n",
       "      <td>black</td>\n",
       "      <td>male</td>\n",
       "      <td>56.0</td>\n",
       "      <td>minor bleeding</td>\n",
       "      <td>2565.0</td>\n",
       "      <td>white</td>\n",
       "      <td>male</td>\n",
       "      <td>37.0</td>\n",
       "      <td>6.0</td>\n",
       "      <td>no injuries noted or visible</td>\n",
       "    </tr>\n",
       "    <tr>\n",
       "      <th>72</th>\n",
       "      <td>30830</td>\n",
       "      <td>2018/09/23</td>\n",
       "      <td>01:30:00</td>\n",
       "      <td>operations division</td>\n",
       "      <td>east district</td>\n",
       "      <td>ed late shift</td>\n",
       "      <td>NaN</td>\n",
       "      <td>in compliance</td>\n",
       "      <td>6204</td>\n",
       "      <td>commodore</td>\n",
       "      <td>...</td>\n",
       "      <td>black</td>\n",
       "      <td>male</td>\n",
       "      <td>31.0</td>\n",
       "      <td>no injuries noted or visible</td>\n",
       "      <td>2950.0</td>\n",
       "      <td>white</td>\n",
       "      <td>male</td>\n",
       "      <td>36.0</td>\n",
       "      <td>9.0</td>\n",
       "      <td>no injuries noted or visible</td>\n",
       "    </tr>\n",
       "    <tr>\n",
       "      <th>73</th>\n",
       "      <td>30830</td>\n",
       "      <td>2018/09/23</td>\n",
       "      <td>01:30:00</td>\n",
       "      <td>operations division</td>\n",
       "      <td>east district</td>\n",
       "      <td>ed late shift</td>\n",
       "      <td>NaN</td>\n",
       "      <td>in compliance</td>\n",
       "      <td>6204</td>\n",
       "      <td>commodore</td>\n",
       "      <td>...</td>\n",
       "      <td>black</td>\n",
       "      <td>male</td>\n",
       "      <td>31.0</td>\n",
       "      <td>no injuries noted or visible</td>\n",
       "      <td>2964.0</td>\n",
       "      <td>white</td>\n",
       "      <td>male</td>\n",
       "      <td>40.0</td>\n",
       "      <td>9.0</td>\n",
       "      <td>no injuries noted or visible</td>\n",
       "    </tr>\n",
       "    <tr>\n",
       "      <th>74</th>\n",
       "      <td>21747</td>\n",
       "      <td>2017/07/05</td>\n",
       "      <td>16:07:00</td>\n",
       "      <td>operations division</td>\n",
       "      <td>east district</td>\n",
       "      <td>ed middle shift</td>\n",
       "      <td>NaN</td>\n",
       "      <td>in compliance</td>\n",
       "      <td>333</td>\n",
       "      <td>peach tree</td>\n",
       "      <td>...</td>\n",
       "      <td>white</td>\n",
       "      <td>male</td>\n",
       "      <td>NaN</td>\n",
       "      <td>NaN</td>\n",
       "      <td>3340.0</td>\n",
       "      <td>white</td>\n",
       "      <td>male</td>\n",
       "      <td>28.0</td>\n",
       "      <td>2.0</td>\n",
       "      <td>NaN</td>\n",
       "    </tr>\n",
       "    <tr>\n",
       "      <th>75</th>\n",
       "      <td>21747</td>\n",
       "      <td>2017/07/05</td>\n",
       "      <td>16:07:00</td>\n",
       "      <td>operations division</td>\n",
       "      <td>east district</td>\n",
       "      <td>ed middle shift</td>\n",
       "      <td>NaN</td>\n",
       "      <td>in compliance</td>\n",
       "      <td>333</td>\n",
       "      <td>peach tree</td>\n",
       "      <td>...</td>\n",
       "      <td>white</td>\n",
       "      <td>male</td>\n",
       "      <td>NaN</td>\n",
       "      <td>NaN</td>\n",
       "      <td>3242.0</td>\n",
       "      <td>white</td>\n",
       "      <td>male</td>\n",
       "      <td>33.0</td>\n",
       "      <td>3.0</td>\n",
       "      <td>NaN</td>\n",
       "    </tr>\n",
       "    <tr>\n",
       "      <th>77</th>\n",
       "      <td>4206</td>\n",
       "      <td>2014/08/01</td>\n",
       "      <td>16:30:00</td>\n",
       "      <td>operations division</td>\n",
       "      <td>east district</td>\n",
       "      <td>ed middle shift</td>\n",
       "      <td>NaN</td>\n",
       "      <td>in compliance</td>\n",
       "      <td>3273</td>\n",
       "      <td>wellington</td>\n",
       "      <td>...</td>\n",
       "      <td>black</td>\n",
       "      <td>male</td>\n",
       "      <td>23.0</td>\n",
       "      <td>minor bleeding</td>\n",
       "      <td>3048.0</td>\n",
       "      <td>black</td>\n",
       "      <td>male</td>\n",
       "      <td>28.0</td>\n",
       "      <td>5.0</td>\n",
       "      <td>NaN</td>\n",
       "    </tr>\n",
       "    <tr>\n",
       "      <th>78</th>\n",
       "      <td>4206</td>\n",
       "      <td>2014/08/01</td>\n",
       "      <td>16:30:00</td>\n",
       "      <td>operations division</td>\n",
       "      <td>east district</td>\n",
       "      <td>ed middle shift</td>\n",
       "      <td>NaN</td>\n",
       "      <td>in compliance</td>\n",
       "      <td>3273</td>\n",
       "      <td>wellington</td>\n",
       "      <td>...</td>\n",
       "      <td>black</td>\n",
       "      <td>male</td>\n",
       "      <td>23.0</td>\n",
       "      <td>minor bleeding</td>\n",
       "      <td>3048.0</td>\n",
       "      <td>black</td>\n",
       "      <td>male</td>\n",
       "      <td>28.0</td>\n",
       "      <td>5.0</td>\n",
       "      <td>NaN</td>\n",
       "    </tr>\n",
       "    <tr>\n",
       "      <th>79</th>\n",
       "      <td>4206</td>\n",
       "      <td>2014/08/01</td>\n",
       "      <td>16:30:00</td>\n",
       "      <td>operations division</td>\n",
       "      <td>east district</td>\n",
       "      <td>ed middle shift</td>\n",
       "      <td>NaN</td>\n",
       "      <td>in compliance</td>\n",
       "      <td>3273</td>\n",
       "      <td>wellington</td>\n",
       "      <td>...</td>\n",
       "      <td>black</td>\n",
       "      <td>male</td>\n",
       "      <td>23.0</td>\n",
       "      <td>minor bleeding</td>\n",
       "      <td>3048.0</td>\n",
       "      <td>black</td>\n",
       "      <td>male</td>\n",
       "      <td>28.0</td>\n",
       "      <td>5.0</td>\n",
       "      <td>NaN</td>\n",
       "    </tr>\n",
       "    <tr>\n",
       "      <th>80</th>\n",
       "      <td>4378</td>\n",
       "      <td>2014/08/18</td>\n",
       "      <td>00:07:00</td>\n",
       "      <td>operations division</td>\n",
       "      <td>east district</td>\n",
       "      <td>ed late shift</td>\n",
       "      <td>NaN</td>\n",
       "      <td>in compliance</td>\n",
       "      <td>2210</td>\n",
       "      <td>emerson knoll</td>\n",
       "      <td>...</td>\n",
       "      <td>black</td>\n",
       "      <td>male</td>\n",
       "      <td>15.0</td>\n",
       "      <td>csoc</td>\n",
       "      <td>1457.0</td>\n",
       "      <td>white</td>\n",
       "      <td>male</td>\n",
       "      <td>36.0</td>\n",
       "      <td>13.0</td>\n",
       "      <td>NaN</td>\n",
       "    </tr>\n",
       "    <tr>\n",
       "      <th>81</th>\n",
       "      <td>4378</td>\n",
       "      <td>2014/08/18</td>\n",
       "      <td>00:07:00</td>\n",
       "      <td>operations division</td>\n",
       "      <td>east district</td>\n",
       "      <td>ed late shift</td>\n",
       "      <td>NaN</td>\n",
       "      <td>in compliance</td>\n",
       "      <td>2210</td>\n",
       "      <td>emerson knoll</td>\n",
       "      <td>...</td>\n",
       "      <td>black</td>\n",
       "      <td>male</td>\n",
       "      <td>15.0</td>\n",
       "      <td>csoc</td>\n",
       "      <td>1457.0</td>\n",
       "      <td>white</td>\n",
       "      <td>male</td>\n",
       "      <td>36.0</td>\n",
       "      <td>13.0</td>\n",
       "      <td>NaN</td>\n",
       "    </tr>\n",
       "    <tr>\n",
       "      <th>82</th>\n",
       "      <td>4380</td>\n",
       "      <td>2014/08/18</td>\n",
       "      <td>22:00:00</td>\n",
       "      <td>operations division</td>\n",
       "      <td>east district</td>\n",
       "      <td>ed late shift</td>\n",
       "      <td>NaN</td>\n",
       "      <td>in compliance</td>\n",
       "      <td>9100</td>\n",
       "      <td>21st</td>\n",
       "      <td>...</td>\n",
       "      <td>black</td>\n",
       "      <td>male</td>\n",
       "      <td>21.0</td>\n",
       "      <td>no injuries noted or visible</td>\n",
       "      <td>2400.0</td>\n",
       "      <td>white</td>\n",
       "      <td>male</td>\n",
       "      <td>34.0</td>\n",
       "      <td>9.0</td>\n",
       "      <td>none</td>\n",
       "    </tr>\n",
       "    <tr>\n",
       "      <th>83</th>\n",
       "      <td>4408</td>\n",
       "      <td>2014/08/20</td>\n",
       "      <td>17:32:00</td>\n",
       "      <td>operations division</td>\n",
       "      <td>east district</td>\n",
       "      <td>ed late shift</td>\n",
       "      <td>NaN</td>\n",
       "      <td>in compliance</td>\n",
       "      <td>47</td>\n",
       "      <td>ohio</td>\n",
       "      <td>...</td>\n",
       "      <td>black</td>\n",
       "      <td>male</td>\n",
       "      <td>56.0</td>\n",
       "      <td>minor bleeding</td>\n",
       "      <td>2565.0</td>\n",
       "      <td>white</td>\n",
       "      <td>male</td>\n",
       "      <td>37.0</td>\n",
       "      <td>6.0</td>\n",
       "      <td>no injuries noted or visible</td>\n",
       "    </tr>\n",
       "    <tr>\n",
       "      <th>85</th>\n",
       "      <td>4497</td>\n",
       "      <td>2014/09/01</td>\n",
       "      <td>00:21:00</td>\n",
       "      <td>operations division</td>\n",
       "      <td>north district</td>\n",
       "      <td>nd late shift</td>\n",
       "      <td>NaN</td>\n",
       "      <td>in compliance</td>\n",
       "      <td>4646</td>\n",
       "      <td>michigan</td>\n",
       "      <td>...</td>\n",
       "      <td>bi-racial</td>\n",
       "      <td>male</td>\n",
       "      <td>16.0</td>\n",
       "      <td>no injuries noted or visible</td>\n",
       "      <td>2582.0</td>\n",
       "      <td>white</td>\n",
       "      <td>male</td>\n",
       "      <td>39.0</td>\n",
       "      <td>6.0</td>\n",
       "      <td>no injuries noted or visible</td>\n",
       "    </tr>\n",
       "    <tr>\n",
       "      <th>86</th>\n",
       "      <td>4497</td>\n",
       "      <td>2014/09/01</td>\n",
       "      <td>00:21:00</td>\n",
       "      <td>operations division</td>\n",
       "      <td>north district</td>\n",
       "      <td>nd late shift</td>\n",
       "      <td>NaN</td>\n",
       "      <td>in compliance</td>\n",
       "      <td>4646</td>\n",
       "      <td>michigan</td>\n",
       "      <td>...</td>\n",
       "      <td>bi-racial</td>\n",
       "      <td>male</td>\n",
       "      <td>16.0</td>\n",
       "      <td>no injuries noted or visible</td>\n",
       "      <td>348.0</td>\n",
       "      <td>white</td>\n",
       "      <td>female</td>\n",
       "      <td>38.0</td>\n",
       "      <td>12.0</td>\n",
       "      <td>no injuries noted or visible</td>\n",
       "    </tr>\n",
       "    <tr>\n",
       "      <th>87</th>\n",
       "      <td>4498</td>\n",
       "      <td>2014/09/01</td>\n",
       "      <td>00:05:00</td>\n",
       "      <td>operations division</td>\n",
       "      <td>north district</td>\n",
       "      <td>nd late shift</td>\n",
       "      <td>NaN</td>\n",
       "      <td>in compliance</td>\n",
       "      <td>4646</td>\n",
       "      <td>michigan</td>\n",
       "      <td>...</td>\n",
       "      <td>black</td>\n",
       "      <td>male</td>\n",
       "      <td>14.0</td>\n",
       "      <td>no injuries noted or visible</td>\n",
       "      <td>589.0</td>\n",
       "      <td>white</td>\n",
       "      <td>male</td>\n",
       "      <td>40.0</td>\n",
       "      <td>16.0</td>\n",
       "      <td>NaN</td>\n",
       "    </tr>\n",
       "    <tr>\n",
       "      <th>90</th>\n",
       "      <td>4520</td>\n",
       "      <td>2014/09/02</td>\n",
       "      <td>16:25:00</td>\n",
       "      <td>operations division</td>\n",
       "      <td>north district</td>\n",
       "      <td>nd middle shift</td>\n",
       "      <td>NaN</td>\n",
       "      <td>in compliance</td>\n",
       "      <td>3511</td>\n",
       "      <td>butler</td>\n",
       "      <td>...</td>\n",
       "      <td>black</td>\n",
       "      <td>male</td>\n",
       "      <td>35.0</td>\n",
       "      <td>no injuries noted or visible</td>\n",
       "      <td>3020.0</td>\n",
       "      <td>white</td>\n",
       "      <td>female</td>\n",
       "      <td>26.0</td>\n",
       "      <td>4.0</td>\n",
       "      <td>NaN</td>\n",
       "    </tr>\n",
       "    <tr>\n",
       "      <th>91</th>\n",
       "      <td>4520</td>\n",
       "      <td>2014/09/02</td>\n",
       "      <td>16:25:00</td>\n",
       "      <td>operations division</td>\n",
       "      <td>north district</td>\n",
       "      <td>nd middle shift</td>\n",
       "      <td>NaN</td>\n",
       "      <td>in compliance</td>\n",
       "      <td>3511</td>\n",
       "      <td>butler</td>\n",
       "      <td>...</td>\n",
       "      <td>black</td>\n",
       "      <td>male</td>\n",
       "      <td>35.0</td>\n",
       "      <td>no injuries noted or visible</td>\n",
       "      <td>3020.0</td>\n",
       "      <td>white</td>\n",
       "      <td>female</td>\n",
       "      <td>26.0</td>\n",
       "      <td>4.0</td>\n",
       "      <td>NaN</td>\n",
       "    </tr>\n",
       "    <tr>\n",
       "      <th>92</th>\n",
       "      <td>4605</td>\n",
       "      <td>2014/09/04</td>\n",
       "      <td>22:05:00</td>\n",
       "      <td>operations division</td>\n",
       "      <td>southeast district</td>\n",
       "      <td>se late shift</td>\n",
       "      <td>NaN</td>\n",
       "      <td>in compliance</td>\n",
       "      <td>2730</td>\n",
       "      <td>foxbriar</td>\n",
       "      <td>...</td>\n",
       "      <td>black</td>\n",
       "      <td>male</td>\n",
       "      <td>46.0</td>\n",
       "      <td>swelling</td>\n",
       "      <td>661.0</td>\n",
       "      <td>white</td>\n",
       "      <td>male</td>\n",
       "      <td>46.0</td>\n",
       "      <td>15.0</td>\n",
       "      <td>internal pain/discomfort</td>\n",
       "    </tr>\n",
       "    <tr>\n",
       "      <th>94</th>\n",
       "      <td>4605</td>\n",
       "      <td>2014/09/04</td>\n",
       "      <td>22:05:00</td>\n",
       "      <td>operations division</td>\n",
       "      <td>southeast district</td>\n",
       "      <td>se late shift</td>\n",
       "      <td>NaN</td>\n",
       "      <td>in compliance</td>\n",
       "      <td>2730</td>\n",
       "      <td>foxbriar</td>\n",
       "      <td>...</td>\n",
       "      <td>black</td>\n",
       "      <td>male</td>\n",
       "      <td>46.0</td>\n",
       "      <td>swelling</td>\n",
       "      <td>661.0</td>\n",
       "      <td>white</td>\n",
       "      <td>male</td>\n",
       "      <td>46.0</td>\n",
       "      <td>15.0</td>\n",
       "      <td>internal pain/discomfort</td>\n",
       "    </tr>\n",
       "    <tr>\n",
       "      <th>96</th>\n",
       "      <td>4605</td>\n",
       "      <td>2014/09/04</td>\n",
       "      <td>22:05:00</td>\n",
       "      <td>operations division</td>\n",
       "      <td>southeast district</td>\n",
       "      <td>se late shift</td>\n",
       "      <td>NaN</td>\n",
       "      <td>in compliance</td>\n",
       "      <td>2730</td>\n",
       "      <td>foxbriar</td>\n",
       "      <td>...</td>\n",
       "      <td>black</td>\n",
       "      <td>male</td>\n",
       "      <td>46.0</td>\n",
       "      <td>swelling</td>\n",
       "      <td>661.0</td>\n",
       "      <td>white</td>\n",
       "      <td>male</td>\n",
       "      <td>46.0</td>\n",
       "      <td>15.0</td>\n",
       "      <td>internal pain/discomfort</td>\n",
       "    </tr>\n",
       "    <tr>\n",
       "      <th>98</th>\n",
       "      <td>4640</td>\n",
       "      <td>2014/09/08</td>\n",
       "      <td>14:20:00</td>\n",
       "      <td>operations division</td>\n",
       "      <td>east district</td>\n",
       "      <td>ed middle shift</td>\n",
       "      <td>NaN</td>\n",
       "      <td>in compliance</td>\n",
       "      <td>3244</td>\n",
       "      <td>arlington</td>\n",
       "      <td>...</td>\n",
       "      <td>black</td>\n",
       "      <td>female</td>\n",
       "      <td>23.0</td>\n",
       "      <td>scratch to neck</td>\n",
       "      <td>2950.0</td>\n",
       "      <td>white</td>\n",
       "      <td>male</td>\n",
       "      <td>31.0</td>\n",
       "      <td>5.0</td>\n",
       "      <td>minor bleeding</td>\n",
       "    </tr>\n",
       "    <tr>\n",
       "      <th>102</th>\n",
       "      <td>4640</td>\n",
       "      <td>2014/09/08</td>\n",
       "      <td>14:20:00</td>\n",
       "      <td>operations division</td>\n",
       "      <td>east district</td>\n",
       "      <td>ed middle shift</td>\n",
       "      <td>NaN</td>\n",
       "      <td>in compliance</td>\n",
       "      <td>3244</td>\n",
       "      <td>arlington</td>\n",
       "      <td>...</td>\n",
       "      <td>black</td>\n",
       "      <td>female</td>\n",
       "      <td>23.0</td>\n",
       "      <td>scratch to neck</td>\n",
       "      <td>2950.0</td>\n",
       "      <td>white</td>\n",
       "      <td>male</td>\n",
       "      <td>31.0</td>\n",
       "      <td>5.0</td>\n",
       "      <td>minor bleeding</td>\n",
       "    </tr>\n",
       "    <tr>\n",
       "      <th>106</th>\n",
       "      <td>4748</td>\n",
       "      <td>2014/09/17</td>\n",
       "      <td>18:04:00</td>\n",
       "      <td>operations division</td>\n",
       "      <td>southwest district</td>\n",
       "      <td>sw late shift</td>\n",
       "      <td>NaN</td>\n",
       "      <td>in compliance</td>\n",
       "      <td>709</td>\n",
       "      <td>haugh</td>\n",
       "      <td>...</td>\n",
       "      <td>white</td>\n",
       "      <td>male</td>\n",
       "      <td>42.0</td>\n",
       "      <td>minor bleeding</td>\n",
       "      <td>3035.0</td>\n",
       "      <td>white</td>\n",
       "      <td>male</td>\n",
       "      <td>28.0</td>\n",
       "      <td>4.0</td>\n",
       "      <td>no injuries noted or visible</td>\n",
       "    </tr>\n",
       "    <tr>\n",
       "      <th>108</th>\n",
       "      <td>5709</td>\n",
       "      <td>2014/11/23</td>\n",
       "      <td>03:00:00</td>\n",
       "      <td>operations division</td>\n",
       "      <td>downtown  district</td>\n",
       "      <td>dt late shift</td>\n",
       "      <td>NaN</td>\n",
       "      <td>in compliance</td>\n",
       "      <td>200</td>\n",
       "      <td>meridian</td>\n",
       "      <td>...</td>\n",
       "      <td>black</td>\n",
       "      <td>female</td>\n",
       "      <td>NaN</td>\n",
       "      <td>no injuries noted or visible</td>\n",
       "      <td>103.0</td>\n",
       "      <td>black</td>\n",
       "      <td>male</td>\n",
       "      <td>54.0</td>\n",
       "      <td>25.0</td>\n",
       "      <td>NaN</td>\n",
       "    </tr>\n",
       "    <tr>\n",
       "      <th>109</th>\n",
       "      <td>14524</td>\n",
       "      <td>2016/05/29</td>\n",
       "      <td>01:45:00</td>\n",
       "      <td>operations division</td>\n",
       "      <td>southwest district</td>\n",
       "      <td>sw late tactical shift</td>\n",
       "      <td>NaN</td>\n",
       "      <td>in compliance</td>\n",
       "      <td>4800</td>\n",
       "      <td>245th</td>\n",
       "      <td>...</td>\n",
       "      <td>black</td>\n",
       "      <td>female</td>\n",
       "      <td>NaN</td>\n",
       "      <td>no injuries noted or visible</td>\n",
       "      <td>1523.0</td>\n",
       "      <td>white</td>\n",
       "      <td>male</td>\n",
       "      <td>41.0</td>\n",
       "      <td>13.0</td>\n",
       "      <td>no injuries noted or visible</td>\n",
       "    </tr>\n",
       "    <tr>\n",
       "      <th>110</th>\n",
       "      <td>10386</td>\n",
       "      <td>2015/09/27</td>\n",
       "      <td>03:30:00</td>\n",
       "      <td>operations division</td>\n",
       "      <td>east district</td>\n",
       "      <td>ed late shift</td>\n",
       "      <td>NaN</td>\n",
       "      <td>in compliance</td>\n",
       "      <td>100</td>\n",
       "      <td>meridian</td>\n",
       "      <td>...</td>\n",
       "      <td>black</td>\n",
       "      <td>female</td>\n",
       "      <td>NaN</td>\n",
       "      <td>NaN</td>\n",
       "      <td>1116.0</td>\n",
       "      <td>white</td>\n",
       "      <td>male</td>\n",
       "      <td>49.0</td>\n",
       "      <td>14.0</td>\n",
       "      <td>NaN</td>\n",
       "    </tr>\n",
       "    <tr>\n",
       "      <th>111</th>\n",
       "      <td>20176</td>\n",
       "      <td>2017/04/02</td>\n",
       "      <td>03:20:00</td>\n",
       "      <td>operations division</td>\n",
       "      <td>downtown  district</td>\n",
       "      <td>dt middle shift</td>\n",
       "      <td>NaN</td>\n",
       "      <td>in compliance</td>\n",
       "      <td>200</td>\n",
       "      <td>meridian</td>\n",
       "      <td>...</td>\n",
       "      <td>black</td>\n",
       "      <td>female</td>\n",
       "      <td>NaN</td>\n",
       "      <td>NaN</td>\n",
       "      <td>3261.0</td>\n",
       "      <td>white</td>\n",
       "      <td>female</td>\n",
       "      <td>33.0</td>\n",
       "      <td>2.0</td>\n",
       "      <td>NaN</td>\n",
       "    </tr>\n",
       "    <tr>\n",
       "      <th>112</th>\n",
       "      <td>20176</td>\n",
       "      <td>2017/04/02</td>\n",
       "      <td>03:20:00</td>\n",
       "      <td>operations division</td>\n",
       "      <td>downtown  district</td>\n",
       "      <td>dt middle shift</td>\n",
       "      <td>NaN</td>\n",
       "      <td>in compliance</td>\n",
       "      <td>200</td>\n",
       "      <td>meridian</td>\n",
       "      <td>...</td>\n",
       "      <td>black</td>\n",
       "      <td>female</td>\n",
       "      <td>NaN</td>\n",
       "      <td>NaN</td>\n",
       "      <td>3244.0</td>\n",
       "      <td>black</td>\n",
       "      <td>male</td>\n",
       "      <td>31.0</td>\n",
       "      <td>2.0</td>\n",
       "      <td>NaN</td>\n",
       "    </tr>\n",
       "    <tr>\n",
       "      <th>113</th>\n",
       "      <td>20176</td>\n",
       "      <td>2017/04/02</td>\n",
       "      <td>03:20:00</td>\n",
       "      <td>operations division</td>\n",
       "      <td>downtown  district</td>\n",
       "      <td>dt middle shift</td>\n",
       "      <td>NaN</td>\n",
       "      <td>in compliance</td>\n",
       "      <td>200</td>\n",
       "      <td>meridian</td>\n",
       "      <td>...</td>\n",
       "      <td>black</td>\n",
       "      <td>female</td>\n",
       "      <td>NaN</td>\n",
       "      <td>NaN</td>\n",
       "      <td>1358.0</td>\n",
       "      <td>white</td>\n",
       "      <td>male</td>\n",
       "      <td>48.0</td>\n",
       "      <td>15.0</td>\n",
       "      <td>NaN</td>\n",
       "    </tr>\n",
       "  </tbody>\n",
       "</table>\n",
       "<p>50 rows × 33 columns</p>\n",
       "</div>"
      ],
      "text/plain": [
       "     incnum occurred_dt occurred_tm                   udtext24a  \\\n",
       "0     41251  2019/09/26    12:45:00         operations division   \n",
       "4     41251  2019/09/26    12:45:00         operations division   \n",
       "5     22933  2017/09/12    11:30:00         operations division   \n",
       "6       166  2014/01/01    22:28:00  homeland security division   \n",
       "7     41996  2019/10/22    05:50:00         operations division   \n",
       "8     41996  2019/10/22    05:50:00         operations division   \n",
       "9      5474  2014/11/09    00:52:00         operations division   \n",
       "10    36754  2019/05/24    15:50:00         operations division   \n",
       "16    36754  2019/05/24    15:50:00         operations division   \n",
       "22     4269  2014/08/07    17:30:00         operations division   \n",
       "23     4269  2014/08/07    17:30:00         operations division   \n",
       "24     4269  2014/08/07    17:30:00         operations division   \n",
       "25    14336  2016/05/21    18:30:00     administration division   \n",
       "46    14336  2016/05/21    18:30:00     administration division   \n",
       "61    41251  2019/09/26    12:45:00         operations division   \n",
       "62    38398  2019/07/09    15:03:00         operations division   \n",
       "63    21560  2017/06/25    02:11:00         operations division   \n",
       "64    47821  2020/05/30    00:05:00         operations division   \n",
       "65     4272  2014/08/08    09:08:00         operations division   \n",
       "66     4272  2014/08/08    09:08:00         operations division   \n",
       "67     4273  2014/08/08    09:08:00         operations division   \n",
       "70     4408  2014/08/20    17:32:00         operations division   \n",
       "72    30830  2018/09/23    01:30:00         operations division   \n",
       "73    30830  2018/09/23    01:30:00         operations division   \n",
       "74    21747  2017/07/05    16:07:00         operations division   \n",
       "75    21747  2017/07/05    16:07:00         operations division   \n",
       "77     4206  2014/08/01    16:30:00         operations division   \n",
       "78     4206  2014/08/01    16:30:00         operations division   \n",
       "79     4206  2014/08/01    16:30:00         operations division   \n",
       "80     4378  2014/08/18    00:07:00         operations division   \n",
       "81     4378  2014/08/18    00:07:00         operations division   \n",
       "82     4380  2014/08/18    22:00:00         operations division   \n",
       "83     4408  2014/08/20    17:32:00         operations division   \n",
       "85     4497  2014/09/01    00:21:00         operations division   \n",
       "86     4497  2014/09/01    00:21:00         operations division   \n",
       "87     4498  2014/09/01    00:05:00         operations division   \n",
       "90     4520  2014/09/02    16:25:00         operations division   \n",
       "91     4520  2014/09/02    16:25:00         operations division   \n",
       "92     4605  2014/09/04    22:05:00         operations division   \n",
       "94     4605  2014/09/04    22:05:00         operations division   \n",
       "96     4605  2014/09/04    22:05:00         operations division   \n",
       "98     4640  2014/09/08    14:20:00         operations division   \n",
       "102    4640  2014/09/08    14:20:00         operations division   \n",
       "106    4748  2014/09/17    18:04:00         operations division   \n",
       "108    5709  2014/11/23    03:00:00         operations division   \n",
       "109   14524  2016/05/29    01:45:00         operations division   \n",
       "110   10386  2015/09/27    03:30:00         operations division   \n",
       "111   20176  2017/04/02    03:20:00         operations division   \n",
       "112   20176  2017/04/02    03:20:00         operations division   \n",
       "113   20176  2017/04/02    03:20:00         operations division   \n",
       "\n",
       "                             udtext24b                 udtext24c  \\\n",
       "0                        east district              ed day shift   \n",
       "4                        east district              ed day shift   \n",
       "5                   southwest district              sw day shift   \n",
       "6    homeland security bureau/tactical            canine section   \n",
       "7                   northwest district              nw day shift   \n",
       "8                   northwest district              nw day shift   \n",
       "9                       north district             nd late shift   \n",
       "10                  northwest district           nw middle shift   \n",
       "16                  northwest district           nw middle shift   \n",
       "22                        park rangers       park ranger section   \n",
       "23                        park rangers       park ranger section   \n",
       "24                        park rangers       park ranger section   \n",
       "25                     training bureau  recruit training section   \n",
       "46                     training bureau  recruit training section   \n",
       "61                       east district              ed day shift   \n",
       "62                  downtown  district           dt middle shift   \n",
       "63                  southeast district           se middle shift   \n",
       "64                  southeast district           se middle shift   \n",
       "65                  southwest district              sw day shift   \n",
       "66                  southwest district              sw day shift   \n",
       "67                  southwest district              sw day shift   \n",
       "70                       east district             ed late shift   \n",
       "72                       east district             ed late shift   \n",
       "73                       east district             ed late shift   \n",
       "74                       east district           ed middle shift   \n",
       "75                       east district           ed middle shift   \n",
       "77                       east district           ed middle shift   \n",
       "78                       east district           ed middle shift   \n",
       "79                       east district           ed middle shift   \n",
       "80                       east district             ed late shift   \n",
       "81                       east district             ed late shift   \n",
       "82                       east district             ed late shift   \n",
       "83                       east district             ed late shift   \n",
       "85                      north district             nd late shift   \n",
       "86                      north district             nd late shift   \n",
       "87                      north district             nd late shift   \n",
       "90                      north district           nd middle shift   \n",
       "91                      north district           nd middle shift   \n",
       "92                  southeast district             se late shift   \n",
       "94                  southeast district             se late shift   \n",
       "96                  southeast district             se late shift   \n",
       "98                       east district           ed middle shift   \n",
       "102                      east district           ed middle shift   \n",
       "106                 southwest district             sw late shift   \n",
       "108                 downtown  district             dt late shift   \n",
       "109                 southwest district    sw late tactical shift   \n",
       "110                      east district             ed late shift   \n",
       "111                 downtown  district           dt middle shift   \n",
       "112                 downtown  district           dt middle shift   \n",
       "113                 downtown  district           dt middle shift   \n",
       "\n",
       "                       udtext24d    disposition street_n           street  \\\n",
       "0                   ed day shift  in compliance     6204        commodore   \n",
       "4                   ed day shift  in compliance     6204        commodore   \n",
       "5                   sw day shift  in compliance     2920        campanile   \n",
       "6    canine unit - late tactical  in compliance      615             29th   \n",
       "7                   nw day shift  in compliance     1416             27th   \n",
       "8                   nw day shift  in compliance     1416             27th   \n",
       "9                            NaN  in compliance     4049             34th   \n",
       "10                           NaN  in compliance     3902      high school   \n",
       "16                           NaN  in compliance     3902      high school   \n",
       "22    park ranger unit (evening)  in compliance      520        belleview   \n",
       "23    park ranger unit (evening)  in compliance      520        belleview   \n",
       "24    park ranger unit (evening)  in compliance      520        belleview   \n",
       "25            11th recruit class  in compliance      100          bradley   \n",
       "46            11th recruit class  in compliance      100          bradley   \n",
       "61                  ed day shift  in compliance     6204        commodore   \n",
       "62                           NaN  in compliance     1200          capitol   \n",
       "63                           NaN  in compliance        1        louisiana   \n",
       "64                           NaN  in compliance      200           market   \n",
       "65           sw day shift 2nd rc  in compliance     9050  cardinal flower   \n",
       "66           sw day shift 2nd rc  in compliance     9050  cardinal flower   \n",
       "67           sw day shift 2nd rc  in compliance     9050  cardinal flower   \n",
       "70                           NaN  in compliance       47             ohio   \n",
       "72                           NaN  in compliance     6204        commodore   \n",
       "73                           NaN  in compliance     6204        commodore   \n",
       "74                           NaN  in compliance      333       peach tree   \n",
       "75                           NaN  in compliance      333       peach tree   \n",
       "77                           NaN  in compliance     3273       wellington   \n",
       "78                           NaN  in compliance     3273       wellington   \n",
       "79                           NaN  in compliance     3273       wellington   \n",
       "80                           NaN  in compliance     2210    emerson knoll   \n",
       "81                           NaN  in compliance     2210    emerson knoll   \n",
       "82                           NaN  in compliance     9100             21st   \n",
       "83                           NaN  in compliance       47             ohio   \n",
       "85                           NaN  in compliance     4646         michigan   \n",
       "86                           NaN  in compliance     4646         michigan   \n",
       "87                           NaN  in compliance     4646         michigan   \n",
       "90                           NaN  in compliance     3511           butler   \n",
       "91                           NaN  in compliance     3511           butler   \n",
       "92                           NaN  in compliance     2730         foxbriar   \n",
       "94                           NaN  in compliance     2730         foxbriar   \n",
       "96                           NaN  in compliance     2730         foxbriar   \n",
       "98                           NaN  in compliance     3244        arlington   \n",
       "102                          NaN  in compliance     3244        arlington   \n",
       "106                          NaN  in compliance      709            haugh   \n",
       "108                          NaN  in compliance      200         meridian   \n",
       "109                          NaN  in compliance     4800            245th   \n",
       "110                          NaN  in compliance      100         meridian   \n",
       "111                          NaN  in compliance      200         meridian   \n",
       "112                          NaN  in compliance      200         meridian   \n",
       "113                          NaN  in compliance      200         meridian   \n",
       "\n",
       "     ...       race     sex cit_age                 cit_cond_type  offnum  \\\n",
       "0    ...      black    male    32.0                           NaN  3232.0   \n",
       "4    ...      black    male    32.0                           NaN  3848.0   \n",
       "5    ...      black    male    23.0                           NaN   828.0   \n",
       "6    ...      black    male    19.0                           NaN  1519.0   \n",
       "7    ...      black    male    45.0                 minor scrapes  3113.0   \n",
       "8    ...      black    male    45.0                 minor scrapes  3113.0   \n",
       "9    ...      white    male     NaN                           NaN  3110.0   \n",
       "10   ...      black    male    26.0                 minor scrapes  3469.0   \n",
       "16   ...      black    male    26.0                 minor scrapes  3469.0   \n",
       "22   ...      black    male     NaN  no injuries noted or visible  3169.0   \n",
       "23   ...      black    male     NaN  no injuries noted or visible  3169.0   \n",
       "24   ...      black    male     NaN  no injuries noted or visible  3169.0   \n",
       "25   ...      white    male     NaN                minor bleeding  3374.0   \n",
       "46   ...      white    male     NaN                minor bleeding  3374.0   \n",
       "61   ...      black    male    32.0                           NaN   423.0   \n",
       "62   ...      white  female    31.0                           NaN  3702.0   \n",
       "63   ...      white    male     NaN                           NaN  1520.0   \n",
       "64   ...      black    male    46.0                           NaN  1520.0   \n",
       "65   ...      black    male    33.0                     abrassion  2182.0   \n",
       "66   ...      black    male    33.0                     abrassion  1303.0   \n",
       "67   ...      black    male    33.0                      abrasion  2182.0   \n",
       "70   ...      black    male    56.0                minor bleeding  2565.0   \n",
       "72   ...      black    male    31.0  no injuries noted or visible  2950.0   \n",
       "73   ...      black    male    31.0  no injuries noted or visible  2964.0   \n",
       "74   ...      white    male     NaN                           NaN  3340.0   \n",
       "75   ...      white    male     NaN                           NaN  3242.0   \n",
       "77   ...      black    male    23.0                minor bleeding  3048.0   \n",
       "78   ...      black    male    23.0                minor bleeding  3048.0   \n",
       "79   ...      black    male    23.0                minor bleeding  3048.0   \n",
       "80   ...      black    male    15.0                          csoc  1457.0   \n",
       "81   ...      black    male    15.0                          csoc  1457.0   \n",
       "82   ...      black    male    21.0  no injuries noted or visible  2400.0   \n",
       "83   ...      black    male    56.0                minor bleeding  2565.0   \n",
       "85   ...  bi-racial    male    16.0  no injuries noted or visible  2582.0   \n",
       "86   ...  bi-racial    male    16.0  no injuries noted or visible   348.0   \n",
       "87   ...      black    male    14.0  no injuries noted or visible   589.0   \n",
       "90   ...      black    male    35.0  no injuries noted or visible  3020.0   \n",
       "91   ...      black    male    35.0  no injuries noted or visible  3020.0   \n",
       "92   ...      black    male    46.0                      swelling   661.0   \n",
       "94   ...      black    male    46.0                      swelling   661.0   \n",
       "96   ...      black    male    46.0                      swelling   661.0   \n",
       "98   ...      black  female    23.0               scratch to neck  2950.0   \n",
       "102  ...      black  female    23.0               scratch to neck  2950.0   \n",
       "106  ...      white    male    42.0                minor bleeding  3035.0   \n",
       "108  ...      black  female     NaN  no injuries noted or visible   103.0   \n",
       "109  ...      black  female     NaN  no injuries noted or visible  1523.0   \n",
       "110  ...      black  female     NaN                           NaN  1116.0   \n",
       "111  ...      black  female     NaN                           NaN  3261.0   \n",
       "112  ...      black  female     NaN                           NaN  3244.0   \n",
       "113  ...      black  female     NaN                           NaN  1358.0   \n",
       "\n",
       "     off_race off_sex off_age off_yr_employ                 off_cond_type  \n",
       "0       white  female     NaN           NaN                           NaN  \n",
       "4       white  female     NaN           NaN                           NaN  \n",
       "5       white    male    38.0          15.0                           NaN  \n",
       "6       white    male    35.0          11.0                           NaN  \n",
       "7       white    male     NaN           NaN  no injuries noted or visible  \n",
       "8       white    male     NaN           NaN  no injuries noted or visible  \n",
       "9       white    male    40.0           6.0                           NaN  \n",
       "10   hispanic    male    31.0           3.0  no injuries noted or visible  \n",
       "16   hispanic    male    31.0           3.0  no injuries noted or visible  \n",
       "22      black    male    42.0           5.0                           NaN  \n",
       "23      black    male    42.0           5.0                           NaN  \n",
       "24      black    male    42.0           5.0                           NaN  \n",
       "25      white    male    29.0           0.0                 minor scrapes  \n",
       "46      white    male    29.0           0.0                 minor scrapes  \n",
       "61      white    male     NaN           NaN                           NaN  \n",
       "62      white    male    30.0           1.0                           NaN  \n",
       "63      white    male    39.0          14.0                           NaN  \n",
       "64      white    male     NaN           NaN                           NaN  \n",
       "65      white    male    47.0          12.0  no injuries noted or visible  \n",
       "66      white    male    41.0          15.0                           NaN  \n",
       "67      white    male    47.0          12.0                           NaN  \n",
       "70      white    male    37.0           6.0  no injuries noted or visible  \n",
       "72      white    male    36.0           9.0  no injuries noted or visible  \n",
       "73      white    male    40.0           9.0  no injuries noted or visible  \n",
       "74      white    male    28.0           2.0                           NaN  \n",
       "75      white    male    33.0           3.0                           NaN  \n",
       "77      black    male    28.0           5.0                           NaN  \n",
       "78      black    male    28.0           5.0                           NaN  \n",
       "79      black    male    28.0           5.0                           NaN  \n",
       "80      white    male    36.0          13.0                           NaN  \n",
       "81      white    male    36.0          13.0                           NaN  \n",
       "82      white    male    34.0           9.0                          none  \n",
       "83      white    male    37.0           6.0  no injuries noted or visible  \n",
       "85      white    male    39.0           6.0  no injuries noted or visible  \n",
       "86      white  female    38.0          12.0  no injuries noted or visible  \n",
       "87      white    male    40.0          16.0                           NaN  \n",
       "90      white  female    26.0           4.0                           NaN  \n",
       "91      white  female    26.0           4.0                           NaN  \n",
       "92      white    male    46.0          15.0      internal pain/discomfort  \n",
       "94      white    male    46.0          15.0      internal pain/discomfort  \n",
       "96      white    male    46.0          15.0      internal pain/discomfort  \n",
       "98      white    male    31.0           5.0                minor bleeding  \n",
       "102     white    male    31.0           5.0                minor bleeding  \n",
       "106     white    male    28.0           4.0  no injuries noted or visible  \n",
       "108     black    male    54.0          25.0                           NaN  \n",
       "109     white    male    41.0          13.0  no injuries noted or visible  \n",
       "110     white    male    49.0          14.0                           NaN  \n",
       "111     white  female    33.0           2.0                           NaN  \n",
       "112     black    male    31.0           2.0                           NaN  \n",
       "113     white    male    48.0          15.0                           NaN  \n",
       "\n",
       "[50 rows x 33 columns]"
      ]
     },
     "execution_count": 7,
     "metadata": {},
     "output_type": "execute_result"
    }
   ],
   "source": [
    "# Since there are also duplicate rows in the dataset I need to remove these excess rows\n",
    "# I will use the following columns in order to sort through duplicates\n",
    "uof_df = uof_df.drop_duplicates(subset=['incnum', 'citcharge_type', 'offnum'])\n",
    "uof_df.head(50)"
   ]
  },
  {
   "cell_type": "code",
   "execution_count": 8,
   "metadata": {
    "scrolled": true
   },
   "outputs": [
    {
     "name": "stdout",
     "output_type": "stream",
     "text": [
      "<class 'pandas.core.frame.DataFrame'>\n",
      "Int64Index: 40744 entries, 0 to 99657\n",
      "Data columns (total 33 columns):\n",
      " #   Column          Non-Null Count  Dtype  \n",
      "---  ------          --------------  -----  \n",
      " 0   incnum          40744 non-null  int64  \n",
      " 1   occurred_dt     40613 non-null  object \n",
      " 2   occurred_tm     40082 non-null  object \n",
      " 3   udtext24a       40744 non-null  object \n",
      " 4   udtext24b       40744 non-null  object \n",
      " 5   udtext24c       40628 non-null  object \n",
      " 6   udtext24d       12445 non-null  object \n",
      " 7   disposition     38380 non-null  object \n",
      " 8   street_n        39580 non-null  object \n",
      " 9   street          39755 non-null  object \n",
      " 10  street_t        38761 non-null  object \n",
      " 11  street_g        28103 non-null  object \n",
      " 12  city            40470 non-null  object \n",
      " 13  uof_force_type  38864 non-null  object \n",
      " 14  uof_reason      40668 non-null  object \n",
      " 15  service_type    40671 non-null  object \n",
      " 16  cit_arrested    40741 non-null  object \n",
      " 17  citcharge_type  38619 non-null  object \n",
      " 18  cit_injured     40736 non-null  object \n",
      " 19  cit_hospital    40736 non-null  object \n",
      " 20  off_injured     40736 non-null  object \n",
      " 21  off_hospital    40736 non-null  object \n",
      " 22  citnum          40744 non-null  int64  \n",
      " 23  race            40219 non-null  object \n",
      " 24  sex             40731 non-null  object \n",
      " 25  cit_age         38515 non-null  float64\n",
      " 26  cit_cond_type   35080 non-null  object \n",
      " 27  offnum          40543 non-null  float64\n",
      " 28  off_race        40488 non-null  object \n",
      " 29  off_sex         40543 non-null  object \n",
      " 30  off_age         27623 non-null  float64\n",
      " 31  off_yr_employ   27623 non-null  float64\n",
      " 32  off_cond_type   27589 non-null  object \n",
      "dtypes: float64(4), int64(2), object(27)\n",
      "memory usage: 10.6+ MB\n"
     ]
    }
   ],
   "source": [
    "uof_df.info()"
   ]
  },
  {
   "cell_type": "code",
   "execution_count": 9,
   "metadata": {},
   "outputs": [
    {
     "data": {
      "text/html": [
       "<div>\n",
       "<style scoped>\n",
       "    .dataframe tbody tr th:only-of-type {\n",
       "        vertical-align: middle;\n",
       "    }\n",
       "\n",
       "    .dataframe tbody tr th {\n",
       "        vertical-align: top;\n",
       "    }\n",
       "\n",
       "    .dataframe thead th {\n",
       "        text-align: right;\n",
       "    }\n",
       "</style>\n",
       "<table border=\"1\" class=\"dataframe\">\n",
       "  <thead>\n",
       "    <tr style=\"text-align: right;\">\n",
       "      <th></th>\n",
       "      <th>occurred_dt</th>\n",
       "      <th>occurred_tm</th>\n",
       "      <th>udtext24a</th>\n",
       "      <th>udtext24b</th>\n",
       "      <th>udtext24c</th>\n",
       "      <th>udtext24d</th>\n",
       "      <th>disposition</th>\n",
       "      <th>street_n</th>\n",
       "      <th>street</th>\n",
       "      <th>street_t</th>\n",
       "      <th>...</th>\n",
       "      <th>race</th>\n",
       "      <th>sex</th>\n",
       "      <th>cit_age</th>\n",
       "      <th>cit_cond_type</th>\n",
       "      <th>offnum</th>\n",
       "      <th>off_race</th>\n",
       "      <th>off_sex</th>\n",
       "      <th>off_age</th>\n",
       "      <th>off_yr_employ</th>\n",
       "      <th>off_cond_type</th>\n",
       "    </tr>\n",
       "  </thead>\n",
       "  <tbody>\n",
       "    <tr>\n",
       "      <th>0</th>\n",
       "      <td>2019/09/26</td>\n",
       "      <td>12:45:00</td>\n",
       "      <td>operations division</td>\n",
       "      <td>east district</td>\n",
       "      <td>ed day shift</td>\n",
       "      <td>ed day shift</td>\n",
       "      <td>in compliance</td>\n",
       "      <td>6204</td>\n",
       "      <td>commodore</td>\n",
       "      <td>street</td>\n",
       "      <td>...</td>\n",
       "      <td>black</td>\n",
       "      <td>male</td>\n",
       "      <td>32.0</td>\n",
       "      <td>NaN</td>\n",
       "      <td>3232.0</td>\n",
       "      <td>white</td>\n",
       "      <td>female</td>\n",
       "      <td>NaN</td>\n",
       "      <td>NaN</td>\n",
       "      <td>NaN</td>\n",
       "    </tr>\n",
       "    <tr>\n",
       "      <th>4</th>\n",
       "      <td>2019/09/26</td>\n",
       "      <td>12:45:00</td>\n",
       "      <td>operations division</td>\n",
       "      <td>east district</td>\n",
       "      <td>ed day shift</td>\n",
       "      <td>ed day shift</td>\n",
       "      <td>in compliance</td>\n",
       "      <td>6204</td>\n",
       "      <td>commodore</td>\n",
       "      <td>street</td>\n",
       "      <td>...</td>\n",
       "      <td>black</td>\n",
       "      <td>male</td>\n",
       "      <td>32.0</td>\n",
       "      <td>NaN</td>\n",
       "      <td>3848.0</td>\n",
       "      <td>white</td>\n",
       "      <td>female</td>\n",
       "      <td>NaN</td>\n",
       "      <td>NaN</td>\n",
       "      <td>NaN</td>\n",
       "    </tr>\n",
       "    <tr>\n",
       "      <th>5</th>\n",
       "      <td>2017/09/12</td>\n",
       "      <td>11:30:00</td>\n",
       "      <td>operations division</td>\n",
       "      <td>southwest district</td>\n",
       "      <td>sw day shift</td>\n",
       "      <td>sw day shift</td>\n",
       "      <td>in compliance</td>\n",
       "      <td>2920</td>\n",
       "      <td>campanile</td>\n",
       "      <td>drive</td>\n",
       "      <td>...</td>\n",
       "      <td>black</td>\n",
       "      <td>male</td>\n",
       "      <td>23.0</td>\n",
       "      <td>NaN</td>\n",
       "      <td>828.0</td>\n",
       "      <td>white</td>\n",
       "      <td>male</td>\n",
       "      <td>38.0</td>\n",
       "      <td>15.0</td>\n",
       "      <td>NaN</td>\n",
       "    </tr>\n",
       "    <tr>\n",
       "      <th>6</th>\n",
       "      <td>2014/01/01</td>\n",
       "      <td>22:28:00</td>\n",
       "      <td>homeland security division</td>\n",
       "      <td>homeland security bureau/tactical</td>\n",
       "      <td>canine section</td>\n",
       "      <td>canine unit - late tactical</td>\n",
       "      <td>in compliance</td>\n",
       "      <td>615</td>\n",
       "      <td>29th</td>\n",
       "      <td>street</td>\n",
       "      <td>...</td>\n",
       "      <td>black</td>\n",
       "      <td>male</td>\n",
       "      <td>19.0</td>\n",
       "      <td>NaN</td>\n",
       "      <td>1519.0</td>\n",
       "      <td>white</td>\n",
       "      <td>male</td>\n",
       "      <td>35.0</td>\n",
       "      <td>11.0</td>\n",
       "      <td>NaN</td>\n",
       "    </tr>\n",
       "    <tr>\n",
       "      <th>7</th>\n",
       "      <td>2019/10/22</td>\n",
       "      <td>05:50:00</td>\n",
       "      <td>operations division</td>\n",
       "      <td>northwest district</td>\n",
       "      <td>nw day shift</td>\n",
       "      <td>nw day shift</td>\n",
       "      <td>in compliance</td>\n",
       "      <td>1416</td>\n",
       "      <td>27th</td>\n",
       "      <td>street</td>\n",
       "      <td>...</td>\n",
       "      <td>black</td>\n",
       "      <td>male</td>\n",
       "      <td>45.0</td>\n",
       "      <td>minor scrapes</td>\n",
       "      <td>3113.0</td>\n",
       "      <td>white</td>\n",
       "      <td>male</td>\n",
       "      <td>NaN</td>\n",
       "      <td>NaN</td>\n",
       "      <td>no injuries noted or visible</td>\n",
       "    </tr>\n",
       "  </tbody>\n",
       "</table>\n",
       "<p>5 rows × 32 columns</p>\n",
       "</div>"
      ],
      "text/plain": [
       "  occurred_dt occurred_tm                   udtext24a  \\\n",
       "0  2019/09/26    12:45:00         operations division   \n",
       "4  2019/09/26    12:45:00         operations division   \n",
       "5  2017/09/12    11:30:00         operations division   \n",
       "6  2014/01/01    22:28:00  homeland security division   \n",
       "7  2019/10/22    05:50:00         operations division   \n",
       "\n",
       "                           udtext24b       udtext24c  \\\n",
       "0                      east district    ed day shift   \n",
       "4                      east district    ed day shift   \n",
       "5                 southwest district    sw day shift   \n",
       "6  homeland security bureau/tactical  canine section   \n",
       "7                 northwest district    nw day shift   \n",
       "\n",
       "                     udtext24d    disposition street_n     street street_t  \\\n",
       "0                 ed day shift  in compliance     6204  commodore   street   \n",
       "4                 ed day shift  in compliance     6204  commodore   street   \n",
       "5                 sw day shift  in compliance     2920  campanile    drive   \n",
       "6  canine unit - late tactical  in compliance      615       29th   street   \n",
       "7                 nw day shift  in compliance     1416       27th   street   \n",
       "\n",
       "   ...   race   sex cit_age  cit_cond_type  offnum off_race off_sex off_age  \\\n",
       "0  ...  black  male    32.0            NaN  3232.0    white  female     NaN   \n",
       "4  ...  black  male    32.0            NaN  3848.0    white  female     NaN   \n",
       "5  ...  black  male    23.0            NaN   828.0    white    male    38.0   \n",
       "6  ...  black  male    19.0            NaN  1519.0    white    male    35.0   \n",
       "7  ...  black  male    45.0  minor scrapes  3113.0    white    male     NaN   \n",
       "\n",
       "  off_yr_employ                 off_cond_type  \n",
       "0           NaN                           NaN  \n",
       "4           NaN                           NaN  \n",
       "5          15.0                           NaN  \n",
       "6          11.0                           NaN  \n",
       "7           NaN  no injuries noted or visible  \n",
       "\n",
       "[5 rows x 32 columns]"
      ]
     },
     "execution_count": 9,
     "metadata": {},
     "output_type": "execute_result"
    }
   ],
   "source": [
    "# Since incnum column is no longer needed I will drop it from the dataset\n",
    "uof_df = uof_df.drop(uof_df[['incnum']], axis=1)\n",
    "uof_df.head()"
   ]
  },
  {
   "cell_type": "markdown",
   "metadata": {},
   "source": [
    "Now that the unneeded columns have been dropped and the duplicate rows have been removed using the incident number, civilian charge type, and officer badge number as a guide, I need to work with each of the remaining columns in order to replace NaN values change data types, and feature engineer new columns."
   ]
  },
  {
   "cell_type": "markdown",
   "metadata": {},
   "source": [
    "### Datetime Processing"
   ]
  },
  {
   "cell_type": "code",
   "execution_count": 10,
   "metadata": {},
   "outputs": [
    {
     "data": {
      "text/plain": [
       "0   2019-09-26 12:45:00\n",
       "4   2019-09-26 12:45:00\n",
       "5   2017-09-12 11:30:00\n",
       "6   2014-01-01 22:28:00\n",
       "7   2019-10-22 05:50:00\n",
       "Name: datetime, dtype: datetime64[ns]"
      ]
     },
     "execution_count": 10,
     "metadata": {},
     "output_type": "execute_result"
    }
   ],
   "source": [
    "# First, let's combine the occured_dt and occurred_tm columns into one datetime collumn\n",
    "uof_df['datetime'] = pd.to_datetime(uof_df['occurred_dt']+' '+uof_df['occurred_tm'])\n",
    "\n",
    "uof_df['datetime'].head()"
   ]
  },
  {
   "cell_type": "code",
   "execution_count": 11,
   "metadata": {
    "scrolled": true
   },
   "outputs": [
    {
     "name": "stdout",
     "output_type": "stream",
     "text": [
      "<class 'pandas.core.frame.DataFrame'>\n",
      "Int64Index: 40744 entries, 0 to 99657\n",
      "Data columns (total 31 columns):\n",
      " #   Column          Non-Null Count  Dtype         \n",
      "---  ------          --------------  -----         \n",
      " 0   udtext24a       40744 non-null  object        \n",
      " 1   udtext24b       40744 non-null  object        \n",
      " 2   udtext24c       40628 non-null  object        \n",
      " 3   udtext24d       12445 non-null  object        \n",
      " 4   disposition     38380 non-null  object        \n",
      " 5   street_n        39580 non-null  object        \n",
      " 6   street          39755 non-null  object        \n",
      " 7   street_t        38761 non-null  object        \n",
      " 8   street_g        28103 non-null  object        \n",
      " 9   city            40470 non-null  object        \n",
      " 10  uof_force_type  38864 non-null  object        \n",
      " 11  uof_reason      40668 non-null  object        \n",
      " 12  service_type    40671 non-null  object        \n",
      " 13  cit_arrested    40741 non-null  object        \n",
      " 14  citcharge_type  38619 non-null  object        \n",
      " 15  cit_injured     40736 non-null  object        \n",
      " 16  cit_hospital    40736 non-null  object        \n",
      " 17  off_injured     40736 non-null  object        \n",
      " 18  off_hospital    40736 non-null  object        \n",
      " 19  citnum          40744 non-null  int64         \n",
      " 20  race            40219 non-null  object        \n",
      " 21  sex             40731 non-null  object        \n",
      " 22  cit_age         38515 non-null  float64       \n",
      " 23  cit_cond_type   35080 non-null  object        \n",
      " 24  offnum          40543 non-null  float64       \n",
      " 25  off_race        40488 non-null  object        \n",
      " 26  off_sex         40543 non-null  object        \n",
      " 27  off_age         27623 non-null  float64       \n",
      " 28  off_yr_employ   27623 non-null  float64       \n",
      " 29  off_cond_type   27589 non-null  object        \n",
      " 30  datetime        39983 non-null  datetime64[ns]\n",
      "dtypes: datetime64[ns](1), float64(4), int64(1), object(25)\n",
      "memory usage: 9.9+ MB\n"
     ]
    }
   ],
   "source": [
    "# Let's drop occurred_dt and occurred_tm from the dataframe\n",
    "uof_df = uof_df.drop(uof_df[['occurred_dt', 'occurred_tm']], axis=1)\n",
    "\n",
    "uof_df.info()"
   ]
  },
  {
   "cell_type": "code",
   "execution_count": 12,
   "metadata": {
    "scrolled": true
   },
   "outputs": [
    {
     "data": {
      "text/plain": [
       "False    39983\n",
       "True       761\n",
       "Name: datetime, dtype: int64"
      ]
     },
     "execution_count": 12,
     "metadata": {},
     "output_type": "execute_result"
    }
   ],
   "source": [
    "# Now, let's look at Datetime and see if it has missing values\n",
    "uof_df['datetime'].isnull().value_counts()"
   ]
  },
  {
   "cell_type": "code",
   "execution_count": 13,
   "metadata": {
    "scrolled": true
   },
   "outputs": [
    {
     "data": {
      "text/plain": [
       "0         Thursday\n",
       "4         Thursday\n",
       "5          Tuesday\n",
       "6        Wednesday\n",
       "7          Tuesday\n",
       "           ...    \n",
       "99649     Thursday\n",
       "99650     Thursday\n",
       "99651     Thursday\n",
       "99655     Thursday\n",
       "99657     Thursday\n",
       "Name: occurred_wd, Length: 40744, dtype: object"
      ]
     },
     "execution_count": 13,
     "metadata": {},
     "output_type": "execute_result"
    }
   ],
   "source": [
    "# Create a new column for weekday\n",
    "uof_df['occurred_wd'] = uof_df['datetime'].dt.day_name()\n",
    "\n",
    "uof_df['occurred_wd']"
   ]
  },
  {
   "cell_type": "code",
   "execution_count": 14,
   "metadata": {},
   "outputs": [
    {
     "data": {
      "text/plain": [
       "False    39983\n",
       "True       761\n",
       "Name: occurred_wd, dtype: int64"
      ]
     },
     "execution_count": 14,
     "metadata": {},
     "output_type": "execute_result"
    }
   ],
   "source": [
    "# Check for missing values\n",
    "uof_df['occurred_wd'].isnull().value_counts()"
   ]
  },
  {
   "cell_type": "code",
   "execution_count": null,
   "metadata": {},
   "outputs": [],
   "source": []
  },
  {
   "cell_type": "code",
   "execution_count": 15,
   "metadata": {},
   "outputs": [
    {
     "data": {
      "text/plain": [
       "Sunday       6407\n",
       "Saturday     6253\n",
       "Friday       5752\n",
       "Wednesday    5729\n",
       "Tuesday      5436\n",
       "Thursday     5279\n",
       "Monday       5127\n",
       "other         761\n",
       "Name: occurred_wd, dtype: int64"
      ]
     },
     "execution_count": 15,
     "metadata": {},
     "output_type": "execute_result"
    }
   ],
   "source": [
    "# Put missing values in an other column\n",
    "uof_df['occurred_wd'] = uof_df['occurred_wd'].replace(np.NaN, 'other')\n",
    "uof_df['occurred_wd'].value_counts()"
   ]
  },
  {
   "cell_type": "code",
   "execution_count": 16,
   "metadata": {
    "scrolled": true
   },
   "outputs": [
    {
     "data": {
      "text/plain": [
       "0    September\n",
       "4    September\n",
       "5    September\n",
       "6      January\n",
       "7      October\n",
       "Name: occurred_month, dtype: object"
      ]
     },
     "execution_count": 16,
     "metadata": {},
     "output_type": "execute_result"
    }
   ],
   "source": [
    "uof_df['occurred_month'] = uof_df['datetime'].dt.month_name()\n",
    "\n",
    "uof_df['occurred_month'].head() "
   ]
  },
  {
   "cell_type": "code",
   "execution_count": 17,
   "metadata": {
    "scrolled": true
   },
   "outputs": [
    {
     "data": {
      "text/plain": [
       "November     3758\n",
       "October      3745\n",
       "August       3715\n",
       "December     3605\n",
       "May          3445\n",
       "September    3439\n",
       "February     3431\n",
       "March        3272\n",
       "January      3156\n",
       "July         3130\n",
       "April        2750\n",
       "June         2537\n",
       "other         761\n",
       "Name: occurred_month, dtype: int64"
      ]
     },
     "execution_count": 17,
     "metadata": {},
     "output_type": "execute_result"
    }
   ],
   "source": [
    "# Let's do the same for the month column's NaN values\n",
    "uof_df['occurred_month'] = uof_df['occurred_month'].replace(np.NaN, 'other')\n",
    "uof_df['occurred_month'].value_counts()"
   ]
  },
  {
   "cell_type": "markdown",
   "metadata": {},
   "source": [
    "### Uniformed Officer Designation"
   ]
  },
  {
   "cell_type": "markdown",
   "metadata": {},
   "source": [
    "This section of data breaks the uniformed officers into various sub divisons within the IMPD. In this section I will reduce the amount of dimensions by creating an other class to reduce dimensionality, replace NaN values and merge the columns to produce one Divisional column."
   ]
  },
  {
   "cell_type": "code",
   "execution_count": 18,
   "metadata": {},
   "outputs": [],
   "source": [
    "# Replace NaN values in udtext24c and d with '' since position does not exist\n",
    "uof_df['udtext24c'] = uof_df['udtext24c'].replace(np.NaN, '')\n",
    "\n",
    "uof_df['udtext24d'] = uof_df['udtext24d'].replace(np.NaN, '')"
   ]
  },
  {
   "cell_type": "code",
   "execution_count": 19,
   "metadata": {},
   "outputs": [
    {
     "data": {
      "text/plain": [
       "0        operations division east district ed day shift...\n",
       "4        operations division east district ed day shift...\n",
       "5        operations division southwest district sw day ...\n",
       "6        homeland security division homeland security b...\n",
       "7        operations division northwest district nw day ...\n",
       "                               ...                        \n",
       "99649    operations division northwest district nw midd...\n",
       "99650     operations division east district ed late shift \n",
       "99651     operations division east district ed late shift \n",
       "99655     operations division east district ed late shift \n",
       "99657     operations division east district ed late shift \n",
       "Name: uo_designation, Length: 40744, dtype: object"
      ]
     },
     "execution_count": 19,
     "metadata": {},
     "output_type": "execute_result"
    }
   ],
   "source": [
    "# Combine all four udtext24 into one designation column for officers\n",
    "uof_df[\"uo_designation\"] = uof_df.filter(like='udtext24').astype(str).apply(' '.join, 1)\n",
    "\n",
    "uof_df[\"uo_designation\"]       "
   ]
  },
  {
   "cell_type": "code",
   "execution_count": 20,
   "metadata": {},
   "outputs": [
    {
     "data": {
      "text/plain": [
       "'homeland security division bureau/tactical canine section unit - late tactical'"
      ]
     },
     "execution_count": 20,
     "metadata": {},
     "output_type": "execute_result"
    }
   ],
   "source": [
    "# Remove repeating designation terms\n",
    "uof_df[\"uo_designation\"] = (uof_df[\"uo_designation\"] .str.split().apply(lambda x: OrderedDict.fromkeys(x).keys()).str.join(' '))\n",
    "\n",
    "uof_df[\"uo_designation\"][6]"
   ]
  },
  {
   "cell_type": "markdown",
   "metadata": {},
   "source": [
    "Great. All duplicates have been removed from the newly created uo_designation column. However, now I need to reduce the dimensionality of the column. I will take those elements that make up less than 1% of the data and replace them with other designation."
   ]
  },
  {
   "cell_type": "code",
   "execution_count": 21,
   "metadata": {
    "scrolled": true
   },
   "outputs": [
    {
     "data": {
      "text/plain": [
       "other designation                                                                 7780\n",
       "operations division east district ed middle shift                                 3976\n",
       "operations division east district ed late shift                                   3863\n",
       "operations division northwest district nw middle shift                            2690\n",
       "operations division southwest district sw late shift                              2630\n",
       "operations division north district nd middle shift                                2425\n",
       "operations division north district nd late shift                                  2125\n",
       "operations division northwest district nw late shift                              1805\n",
       "operations division southwest district sw middle shift                            1710\n",
       "operations division southeast district se middle shift                            1696\n",
       "operations division southeast district se late shift                              1695\n",
       "operations division downtown district dt late shift                               1177\n",
       "operations division downtown district dt late tact foot and bicycle                867\n",
       "operations division east district ed day shift                                     863\n",
       "operations division southwest district sw day shift                                859\n",
       "homeland security division bureau/tactical canine section unit - late tactical     624\n",
       "operations division northwest district nw day shift                                555\n",
       "operations division southwest district neighborhood impact flex team               527\n",
       "operations division southeast district se day shift                                507\n",
       "homeland security division bureau/tactical swat section unit                       495\n",
       "administration division training bureau recruit section 20th class                 487\n",
       "operations division north district nd day shift                                    474\n",
       "administration division training bureau recruit section 19th class                 466\n",
       "homeland security division bureau/tactical canine section unit - late              448\n",
       "Name: uo_designation, dtype: int64"
      ]
     },
     "execution_count": 21,
     "metadata": {},
     "output_type": "execute_result"
    }
   ],
   "source": [
    "uo_designation_vc = pd.value_counts(uof_df['uo_designation'])\n",
    "uo_designation_pct = (uo_designation_vc/uo_designation_vc.sum() * 100).lt(1)\n",
    "uof_df['uo_designation'] = np.where(uof_df['uo_designation'].isin(uo_designation_vc[uo_designation_pct].index),'other designation',uof_df['uo_designation'])\n",
    "\n",
    "uof_df['uo_designation'].value_counts()"
   ]
  },
  {
   "cell_type": "code",
   "execution_count": 22,
   "metadata": {
    "scrolled": true
   },
   "outputs": [
    {
     "name": "stdout",
     "output_type": "stream",
     "text": [
      "<class 'pandas.core.frame.DataFrame'>\n",
      "Int64Index: 40744 entries, 0 to 99657\n",
      "Data columns (total 30 columns):\n",
      " #   Column          Non-Null Count  Dtype         \n",
      "---  ------          --------------  -----         \n",
      " 0   disposition     38380 non-null  object        \n",
      " 1   street_n        39580 non-null  object        \n",
      " 2   street          39755 non-null  object        \n",
      " 3   street_t        38761 non-null  object        \n",
      " 4   street_g        28103 non-null  object        \n",
      " 5   city            40470 non-null  object        \n",
      " 6   uof_force_type  38864 non-null  object        \n",
      " 7   uof_reason      40668 non-null  object        \n",
      " 8   service_type    40671 non-null  object        \n",
      " 9   cit_arrested    40741 non-null  object        \n",
      " 10  citcharge_type  38619 non-null  object        \n",
      " 11  cit_injured     40736 non-null  object        \n",
      " 12  cit_hospital    40736 non-null  object        \n",
      " 13  off_injured     40736 non-null  object        \n",
      " 14  off_hospital    40736 non-null  object        \n",
      " 15  citnum          40744 non-null  int64         \n",
      " 16  race            40219 non-null  object        \n",
      " 17  sex             40731 non-null  object        \n",
      " 18  cit_age         38515 non-null  float64       \n",
      " 19  cit_cond_type   35080 non-null  object        \n",
      " 20  offnum          40543 non-null  float64       \n",
      " 21  off_race        40488 non-null  object        \n",
      " 22  off_sex         40543 non-null  object        \n",
      " 23  off_age         27623 non-null  float64       \n",
      " 24  off_yr_employ   27623 non-null  float64       \n",
      " 25  off_cond_type   27589 non-null  object        \n",
      " 26  datetime        39983 non-null  datetime64[ns]\n",
      " 27  occurred_wd     40744 non-null  object        \n",
      " 28  occurred_month  40744 non-null  object        \n",
      " 29  uo_designation  40744 non-null  object        \n",
      "dtypes: datetime64[ns](1), float64(4), int64(1), object(24)\n",
      "memory usage: 10.6+ MB\n"
     ]
    }
   ],
   "source": [
    "# Now I need to drop the udtext24 columns from the dataframe\n",
    "uof_df = uof_df.drop(uof_df[['udtext24a', 'udtext24b', 'udtext24c', 'udtext24d']], axis=1)\n",
    "\n",
    "uof_df.info()"
   ]
  },
  {
   "cell_type": "markdown",
   "metadata": {},
   "source": [
    "### Uniformed Officer Disposition"
   ]
  },
  {
   "cell_type": "code",
   "execution_count": 23,
   "metadata": {
    "scrolled": false
   },
   "outputs": [
    {
     "data": {
      "text/plain": [
       "in compliance             38279\n",
       "not in compliance            70\n",
       "inactive                     14\n",
       "finalized                    12\n",
       "entry completed               3\n",
       "f.c. converted to c.c.        2\n",
       "Name: disposition, dtype: int64"
      ]
     },
     "execution_count": 23,
     "metadata": {},
     "output_type": "execute_result"
    }
   ],
   "source": [
    "uof_df['disposition'].value_counts()"
   ]
  },
  {
   "cell_type": "code",
   "execution_count": 24,
   "metadata": {},
   "outputs": [
    {
     "data": {
      "text/plain": [
       "in compliance             38279\n",
       "other                      2364\n",
       "not in compliance            70\n",
       "inactive                     14\n",
       "finalized                    12\n",
       "entry completed               3\n",
       "f.c. converted to c.c.        2\n",
       "Name: disposition, dtype: int64"
      ]
     },
     "execution_count": 24,
     "metadata": {},
     "output_type": "execute_result"
    }
   ],
   "source": [
    "uof_df['disposition'] = uof_df['disposition'].replace(np.NaN, 'other')\n",
    "\n",
    "uof_df['disposition'].value_counts()"
   ]
  },
  {
   "cell_type": "markdown",
   "metadata": {},
   "source": [
    "### Incident Location"
   ]
  },
  {
   "cell_type": "code",
   "execution_count": 25,
   "metadata": {
    "scrolled": true
   },
   "outputs": [
    {
     "data": {
      "text/plain": [
       "indianapolis     39075\n",
       "indpls             470\n",
       "indianpolis        283\n",
       "indinapolis         42\n",
       "beech grove         41\n",
       "                 ...  \n",
       "danville             1\n",
       "indianapoliis        1\n",
       "carmel               1\n",
       "mobile               1\n",
       "rocky ripple         1\n",
       "Name: city, Length: 78, dtype: int64"
      ]
     },
     "execution_count": 25,
     "metadata": {},
     "output_type": "execute_result"
    }
   ],
   "source": [
    "uof_df['city'].value_counts()"
   ]
  },
  {
   "cell_type": "markdown",
   "metadata": {},
   "source": [
    "Indianapolis is either misspelled or shortened. I need to fix this in order to better create an Address feature"
   ]
  },
  {
   "cell_type": "code",
   "execution_count": 26,
   "metadata": {},
   "outputs": [],
   "source": [
    "uof_df['city'] = uof_df['city'].replace('indpls', 'indianapolis').replace('indianpolis', 'indianapolis').replace('indianpolis', 'indianapolis').replace('indinapolis', 'indianapolis').replace('indianapoli', 'indianapolis').replace('indiana', 'indianapolis').replace('indianapols', 'indianapolis').replace('indianaplis', 'indianapolis').replace('indianapois', 'indianapolis').replace('indian', 'indianapolis').replace('indianapolid', 'indianapolis').replace('indy', 'indianapolis').replace('indianapoils', 'indianapolis').replace('iindianapolis', 'indianapolis').replace('iindianapolis', 'indianapolis').replace('indianapolos', 'indianapolis').replace('indiapolis', 'indianapolis').replace('ind', 'indianapolis').replace('indianaolis', 'indianapolis').replace('indols', 'indianapolis').replace('indianapolisq', 'indianapolis').replace('indanapolis', 'indianapolis').replace('indianplis', 'indianapolis').replace('indianaoplis', 'indianapolis').replace('indaianpolis', 'indianapolis').replace('indaianpolis', 'indianapolis').replace('indianaplois', 'indianapolis').replace('indianapoliks', 'indianapolis').replace('inidianapolis', 'indianapolis').replace('inpls', 'indianapolis').replace('indinaapolis', 'indianapolis').replace('indianapolils', 'indianapolis').replace('indianapoolis', 'indianapolis').replace('indianapolis`', 'indianapolis').replace('indiaapolis', 'indianapolis').replace('indlps', 'indianapolis').replace('indiananapolis', 'indianapolis').replace('indianapoluis', 'indianapolis').replace('indianapoiis', 'indianapolis').replace('indinanapolis', 'indianapolis').replace('indianapoins', 'indianapolis').replace('idianapolis', 'indianapolis').replace('inddianapolis', 'indianapolis').replace('indisanapoli', 'indianapolis').replace('indiananpolis', 'indianapolis').replace('indianapolii', 'indianapolis').replace('indianapoplis', 'indianapolis').replace('indianapollis', 'indianapolis').replace('indainapolis', 'indianapolis').replace('indiana[olis', 'indianapolis').replace('injdianapolis', 'indianapolis').replace('inianapolis', 'indianapolis').replace('indianapolsi', 'indianapolis').replace('indianapolsi', 'indianapolis').replace('indianapoliis', 'indianapolis').replace('indiaanapolis', 'indianapolis')  "
   ]
  },
  {
   "cell_type": "code",
   "execution_count": 27,
   "metadata": {
    "scrolled": true
   },
   "outputs": [
    {
     "data": {
      "text/plain": [
       "0        6204 commodore street nan indianapolis indiana\n",
       "4        6204 commodore street nan indianapolis indiana\n",
       "5         2920 campanile drive nan indianapolis indiana\n",
       "6                615 29th street w indianapolis indiana\n",
       "7               1416 27th street w indianapolis indiana\n",
       "                              ...                      \n",
       "99649              nan nan nan nan indianapolis indiana\n",
       "99650              nan nan nan nan indianapolis indiana\n",
       "99651              nan nan nan nan indianapolis indiana\n",
       "99655              nan nan nan nan indianapolis indiana\n",
       "99657              nan nan nan nan indianapolis indiana\n",
       "Name: address, Length: 40744, dtype: object"
      ]
     },
     "execution_count": 27,
     "metadata": {},
     "output_type": "execute_result"
    }
   ],
   "source": [
    "uof_df['address'] = uof_df[\"street_n\"].map(str) + \" \" + \\\n",
    "uof_df[\"street\"].map(str) + \" \" + \\\n",
    "uof_df[\"street_t\"].map(str) + \" \" + \\\n",
    "uof_df[\"street_g\"].map(str) + \" \" + \\\n",
    "uof_df[\"city\"] + \" \" + 'indiana'\n",
    "\n",
    "uof_df['address']"
   ]
  },
  {
   "cell_type": "code",
   "execution_count": 28,
   "metadata": {},
   "outputs": [
    {
     "data": {
      "text/plain": [
       "0        6204 commodore street  indianapolis indiana\n",
       "4        6204 commodore street  indianapolis indiana\n",
       "5         2920 campanile drive  indianapolis indiana\n",
       "6             615 29th street w indianapolis indiana\n",
       "7            1416 27th street w indianapolis indiana\n",
       "                            ...                     \n",
       "99649                           indianapolis indiana\n",
       "99650                           indianapolis indiana\n",
       "99651                           indianapolis indiana\n",
       "99655                           indianapolis indiana\n",
       "99657                           indianapolis indiana\n",
       "Name: address, Length: 40744, dtype: object"
      ]
     },
     "execution_count": 28,
     "metadata": {},
     "output_type": "execute_result"
    }
   ],
   "source": [
    "uof_df[\"address\"].replace(\"nan\", \"\", inplace=True, regex=True)\n",
    "\n",
    "uof_df['address']"
   ]
  },
  {
   "cell_type": "code",
   "execution_count": 29,
   "metadata": {},
   "outputs": [
    {
     "name": "stdout",
     "output_type": "stream",
     "text": [
      "<class 'pandas.core.frame.DataFrame'>\n",
      "Int64Index: 40744 entries, 0 to 99657\n",
      "Data columns (total 26 columns):\n",
      " #   Column          Non-Null Count  Dtype         \n",
      "---  ------          --------------  -----         \n",
      " 0   disposition     40744 non-null  object        \n",
      " 1   uof_force_type  38864 non-null  object        \n",
      " 2   uof_reason      40668 non-null  object        \n",
      " 3   service_type    40671 non-null  object        \n",
      " 4   cit_arrested    40741 non-null  object        \n",
      " 5   citcharge_type  38619 non-null  object        \n",
      " 6   cit_injured     40736 non-null  object        \n",
      " 7   cit_hospital    40736 non-null  object        \n",
      " 8   off_injured     40736 non-null  object        \n",
      " 9   off_hospital    40736 non-null  object        \n",
      " 10  citnum          40744 non-null  int64         \n",
      " 11  race            40219 non-null  object        \n",
      " 12  sex             40731 non-null  object        \n",
      " 13  cit_age         38515 non-null  float64       \n",
      " 14  cit_cond_type   35080 non-null  object        \n",
      " 15  offnum          40543 non-null  float64       \n",
      " 16  off_race        40488 non-null  object        \n",
      " 17  off_sex         40543 non-null  object        \n",
      " 18  off_age         27623 non-null  float64       \n",
      " 19  off_yr_employ   27623 non-null  float64       \n",
      " 20  off_cond_type   27589 non-null  object        \n",
      " 21  datetime        39983 non-null  datetime64[ns]\n",
      " 22  occurred_wd     40744 non-null  object        \n",
      " 23  occurred_month  40744 non-null  object        \n",
      " 24  uo_designation  40744 non-null  object        \n",
      " 25  address         40470 non-null  object        \n",
      "dtypes: datetime64[ns](1), float64(4), int64(1), object(20)\n",
      "memory usage: 9.4+ MB\n"
     ]
    }
   ],
   "source": [
    "# Remove Street and city columns since they have been used to create adress column\n",
    "\n",
    "uof_df = uof_df.drop(uof_df[[\"street_n\", \"street\", \"street_t\", \"street_g\", \"city\"]], axis=1)\n",
    "\n",
    "uof_df.info()"
   ]
  },
  {
   "cell_type": "markdown",
   "metadata": {},
   "source": [
    "### Use of Force Type and Reason"
   ]
  },
  {
   "cell_type": "code",
   "execution_count": 30,
   "metadata": {},
   "outputs": [
    {
     "data": {
      "text/plain": [
       "physical-weight leverage    7578\n",
       "physical-handcuffing        5882\n",
       "physical-take down          5497\n",
       "less lethal-taser           3545\n",
       "physical-other              2738\n",
       "physical-joint/pressure     2130\n",
       "physical-leg sweep          1695\n",
       "canine bite                 1550\n",
       "physical-knee strike        1405\n",
       "physical-fist strike        1181\n",
       "lethal-handgun              1078\n",
       "less lethal-cs/oc           1039\n",
       "physical-palm strike         493\n",
       "physical-kick                435\n",
       "hands, fist, feet            367\n",
       "taser                        275\n",
       "physical-elbow strike        226\n",
       "body weight leverage         209\n",
       "less lethal-bean bag         203\n",
       "less lethal-pepperball       181\n",
       "handcuffing                  177\n",
       "joint manipulation           145\n",
       "less lethal-other            141\n",
       "less lethal-baton            141\n",
       "less lethal-cs fogger        123\n",
       "less lethal-burning cs       120\n",
       "personal cs/oc spray          53\n",
       "less lethal-bps gas           52\n",
       "pointing a firearm            45\n",
       "less lethal-clearout oc       41\n",
       "lethal-rifle                  41\n",
       "less lethal-cs grenade        20\n",
       "lethal-vehicle                14\n",
       "less lethal-flash bang        12\n",
       "physical-push                  8\n",
       "lethal-shotgun                 8\n",
       "baton                          6\n",
       "pepper ball                    4\n",
       "bean bag                       3\n",
       "other impact weapon            2\n",
       "cs fogger                      1\n",
       "Name: uof_force_type, dtype: int64"
      ]
     },
     "execution_count": 30,
     "metadata": {},
     "output_type": "execute_result"
    }
   ],
   "source": [
    "uof_df['uof_force_type'].value_counts()"
   ]
  },
  {
   "cell_type": "markdown",
   "metadata": {},
   "source": [
    "Looking at these use of force types, I can see that they can be placed into similar classes. Doing this will help to reduce the dimensionality, as well as make the data easier to process later on since this column will be used as my target variable. I will create three categories - physical, less lethal, and lethal."
   ]
  },
  {
   "cell_type": "code",
   "execution_count": 31,
   "metadata": {},
   "outputs": [
    {
     "data": {
      "text/plain": [
       "physical                   31716\n",
       "less lethal-taser           3545\n",
       "lethal-handgun              1078\n",
       "less lethal-cs/oc           1039\n",
       "taser                        275\n",
       "less lethal-bean bag         203\n",
       "less lethal-pepperball       181\n",
       "less lethal-baton            141\n",
       "less lethal-other            141\n",
       "less lethal-cs fogger        123\n",
       "less lethal-burning cs       120\n",
       "personal cs/oc spray          53\n",
       "less lethal-bps gas           52\n",
       "pointing a firearm            45\n",
       "less lethal-clearout oc       41\n",
       "lethal-rifle                  41\n",
       "less lethal-cs grenade        20\n",
       "lethal-vehicle                14\n",
       "less lethal-flash bang        12\n",
       "lethal-shotgun                 8\n",
       "baton                          6\n",
       "pepper ball                    4\n",
       "bean bag                       3\n",
       "other impact weapon            2\n",
       "cs fogger                      1\n",
       "Name: uof_force_type, dtype: int64"
      ]
     },
     "execution_count": 31,
     "metadata": {},
     "output_type": "execute_result"
    }
   ],
   "source": [
    "# Organize physical force methods into physical force types\n",
    "uof_df['uof_force_type'] = uof_df['uof_force_type'].replace('physical-weight leverage', 'physical').replace('physical-handcuffing', 'physical').replace('physical-take down', 'physical').replace('physical-other', 'physical').replace('physical-joint/pressure', 'physical').replace('physical-leg sweep', 'physical').replace('canine bite', 'physical').replace('physical-knee strike', 'physical').replace('physical-fist strike', 'physical').replace('physical-palm strike', 'physical').replace('physical-kick', 'physical').replace('hands, fist, feet', 'physical').replace('physical-elbow strike', 'physical').replace('body weight leverage', 'physical').replace('handcuffing', 'physical').replace('joint manipulation', 'physical').replace('physical-push', 'physical').replace('physical-push', 'physical')\n",
    "uof_df['uof_force_type'].value_counts()"
   ]
  },
  {
   "cell_type": "code",
   "execution_count": 32,
   "metadata": {},
   "outputs": [
    {
     "data": {
      "text/plain": [
       "physical              31716\n",
       "less lethal            5962\n",
       "lethal-handgun         1078\n",
       "pointing a firearm       45\n",
       "lethal-rifle             41\n",
       "lethal-vehicle           14\n",
       "lethal-shotgun            8\n",
       "Name: uof_force_type, dtype: int64"
      ]
     },
     "execution_count": 32,
     "metadata": {},
     "output_type": "execute_result"
    }
   ],
   "source": [
    "# Organize less lethal force methods into less lethal force types\n",
    "uof_df['uof_force_type'] = uof_df['uof_force_type'].replace('less lethal-taser', 'less lethal').replace('less lethal-cs/oc', 'less lethal').replace('taser', 'less lethal').replace('less lethal-bean bag', 'less lethal').replace('less lethal-pepperball', 'less lethal').replace('less lethal-baton', 'less lethal').replace('less lethal-other', 'less lethal').replace('less lethal-cs fogger', 'less lethal').replace('less lethal-burning cs', 'less lethal').replace('personal cs/oc spray', 'less lethal').replace('less lethal-bps gas', 'less lethal').replace('less lethal-clearout oc', 'less lethal').replace('less lethal-cs grenade', 'less lethal').replace('less lethal-flash bang', 'less lethal').replace('baton', 'less lethal').replace('pepper ball', 'less lethal').replace('bean bag', 'less lethal').replace('other impact weapon', 'less lethal').replace('cs fogger', 'less lethal')\n",
    "uof_df['uof_force_type'].value_counts()"
   ]
  },
  {
   "cell_type": "code",
   "execution_count": 33,
   "metadata": {},
   "outputs": [
    {
     "data": {
      "text/plain": [
       "physical       31716\n",
       "less lethal     5962\n",
       "lethal          1186\n",
       "Name: uof_force_type, dtype: int64"
      ]
     },
     "execution_count": 33,
     "metadata": {},
     "output_type": "execute_result"
    }
   ],
   "source": [
    "# Organize lethal force methods into lethal force types\n",
    "uof_df['uof_force_type'] = uof_df['uof_force_type'].replace('lethal-handgun', 'lethal').replace('pointing a firearm', 'lethal').replace('lethal-rifle', 'lethal').replace('lethal-vehicle', 'lethal').replace('lethal-shotgun', 'lethal')\n",
    "uof_df['uof_force_type'].value_counts()"
   ]
  },
  {
   "cell_type": "code",
   "execution_count": 34,
   "metadata": {},
   "outputs": [
    {
     "data": {
      "text/plain": [
       "False    38864\n",
       "True      1880\n",
       "Name: uof_force_type, dtype: int64"
      ]
     },
     "execution_count": 34,
     "metadata": {},
     "output_type": "execute_result"
    }
   ],
   "source": [
    "# Look at missing values\n",
    "uof_df['uof_force_type'].isna().value_counts()"
   ]
  },
  {
   "cell_type": "markdown",
   "metadata": {},
   "source": [
    "Since the majority of the data is a physical altercation, let's take our NaN values and assume that they were physical use of force incidents."
   ]
  },
  {
   "cell_type": "code",
   "execution_count": 35,
   "metadata": {},
   "outputs": [
    {
     "data": {
      "text/plain": [
       "physical       33596\n",
       "less lethal     5962\n",
       "lethal          1186\n",
       "Name: uof_force_type, dtype: int64"
      ]
     },
     "execution_count": 35,
     "metadata": {},
     "output_type": "execute_result"
    }
   ],
   "source": [
    "# Replace NaN values with physical\n",
    "uof_df['uof_force_type'] = uof_df['uof_force_type'].replace(np.NaN, 'physical')\n",
    "uof_df['uof_force_type'].value_counts()"
   ]
  },
  {
   "cell_type": "code",
   "execution_count": 36,
   "metadata": {
    "scrolled": true
   },
   "outputs": [
    {
     "data": {
      "text/plain": [
       "resisting arrest            16439\n",
       "non-compliant                8697\n",
       "combative suspect            6176\n",
       "fleeing                      3891\n",
       "assaulting officer(s)        3406\n",
       "felony stop/apprehension     1012\n",
       "assaulting citizen(s)         929\n",
       "canine incident               118\n",
       "Name: uof_reason, dtype: int64"
      ]
     },
     "execution_count": 36,
     "metadata": {},
     "output_type": "execute_result"
    }
   ],
   "source": [
    "#Now, let's look at the reason for the use of force\n",
    "uof_df['uof_reason'].value_counts()"
   ]
  },
  {
   "cell_type": "markdown",
   "metadata": {},
   "source": [
    "Majority of the reasons for use of force are resisting arrest, followed by non-compliant, and finally combatice suspect. Now I will take a look at the missing values."
   ]
  },
  {
   "cell_type": "code",
   "execution_count": 37,
   "metadata": {},
   "outputs": [
    {
     "data": {
      "text/plain": [
       "resisting arrest            16439\n",
       "non-compliant                8697\n",
       "combative suspect            6176\n",
       "fleeing                      3891\n",
       "assaulting officer(s)        3406\n",
       "felony stop/apprehension     1012\n",
       "assaulting citizen(s)         929\n",
       "canine incident               118\n",
       "resisting_arrest               76\n",
       "Name: uof_reason, dtype: int64"
      ]
     },
     "execution_count": 37,
     "metadata": {},
     "output_type": "execute_result"
    }
   ],
   "source": [
    "uof_df['uof_reason'] = uof_df['uof_reason'].replace(np.NaN, 'resisting_arrest')\n",
    "uof_df['uof_reason'].value_counts()"
   ]
  },
  {
   "cell_type": "code",
   "execution_count": 38,
   "metadata": {},
   "outputs": [
    {
     "data": {
      "text/plain": [
       "False    40744\n",
       "Name: uof_reason, dtype: int64"
      ]
     },
     "execution_count": 38,
     "metadata": {},
     "output_type": "execute_result"
    }
   ],
   "source": [
    "uof_df['uof_reason'].isna().value_counts()"
   ]
  },
  {
   "cell_type": "code",
   "execution_count": 39,
   "metadata": {
    "scrolled": true
   },
   "outputs": [
    {
     "data": {
      "text/plain": [
       "arrest                      22460\n",
       "call for service             8162\n",
       "investigation                3039\n",
       "traffic stop                 2174\n",
       "request for psd               817\n",
       "off-duty employment           677\n",
       "assisting a citizen           634\n",
       "swat incident                 607\n",
       "warrant service               607\n",
       "self-initiated activity       544\n",
       "assisting other agency        466\n",
       "erg incident                  229\n",
       "search warrant                187\n",
       "not applicable                 66\n",
       "assisting another agency        2\n",
       "Name: service_type, dtype: int64"
      ]
     },
     "execution_count": 39,
     "metadata": {},
     "output_type": "execute_result"
    }
   ],
   "source": [
    "uof_df['service_type'].value_counts()"
   ]
  },
  {
   "cell_type": "markdown",
   "metadata": {},
   "source": [
    "Perform same method for service type and label NaN values as arrest. I will also combine some elements here such as warrant service and search warrant."
   ]
  },
  {
   "cell_type": "code",
   "execution_count": 40,
   "metadata": {},
   "outputs": [
    {
     "data": {
      "text/plain": [
       "pandas.core.series.Series"
      ]
     },
     "execution_count": 40,
     "metadata": {},
     "output_type": "execute_result"
    }
   ],
   "source": [
    "type(uof_df['uof_reason'])"
   ]
  },
  {
   "cell_type": "code",
   "execution_count": 41,
   "metadata": {},
   "outputs": [
    {
     "data": {
      "text/plain": [
       "arrest                     22533\n",
       "call for service            8162\n",
       "investigation               3039\n",
       "traffic stop                2174\n",
       "request for psd              817\n",
       "warrant service              794\n",
       "off-duty employment          677\n",
       "assisting a citizen          634\n",
       "swat incident                607\n",
       "self-initiated activity      544\n",
       "assisting other agency       468\n",
       "erg incident                 229\n",
       "not applicable                66\n",
       "Name: service_type, dtype: int64"
      ]
     },
     "execution_count": 41,
     "metadata": {},
     "output_type": "execute_result"
    }
   ],
   "source": [
    "# Replace NaN values with arrest\n",
    "uof_df['service_type'] = uof_df['service_type'].replace(np.NaN, 'arrest')\n",
    "\n",
    "# Replace search warrant with warrant service in order to add to element\n",
    "uof_df['service_type'] = uof_df['service_type'].replace('search warrant', 'warrant service')\n",
    "\n",
    "# assisting another agency with assisting another agency to add to element\n",
    "uof_df['service_type'] = uof_df['service_type'].replace('assisting another agency', 'assisting other agency')\n",
    "\n",
    "uof_df['service_type'].value_counts()"
   ]
  },
  {
   "cell_type": "markdown",
   "metadata": {},
   "source": [
    "### Civilian"
   ]
  },
  {
   "cell_type": "markdown",
   "metadata": {},
   "source": [
    "#### Civilian Arrested?"
   ]
  },
  {
   "cell_type": "code",
   "execution_count": 42,
   "metadata": {
    "scrolled": true
   },
   "outputs": [
    {
     "data": {
      "text/plain": [
       "yes    37860\n",
       "no      2881\n",
       "Name: cit_arrested, dtype: int64"
      ]
     },
     "execution_count": 42,
     "metadata": {},
     "output_type": "execute_result"
    }
   ],
   "source": [
    "uof_df['cit_arrested'].value_counts()"
   ]
  },
  {
   "cell_type": "code",
   "execution_count": 43,
   "metadata": {},
   "outputs": [],
   "source": [
    "# Replace NaN values with yes\n",
    "uof_df['cit_arrested'] = uof_df['cit_arrested'].replace(np.NaN, 'yes')\n",
    "\n",
    "# Convert to bool\n",
    "a = {'yes':True, 'no': False}\n",
    "uof_df['cit_arrested'] = uof_df['cit_arrested'].map(a)\n",
    "\n",
    "# Convert to int\n",
    "#uof_df['cit_arrested'] = uof_df['cit_arrested'].astype(np.int64)\n"
   ]
  },
  {
   "cell_type": "code",
   "execution_count": 44,
   "metadata": {
    "scrolled": true
   },
   "outputs": [
    {
     "data": {
      "text/plain": [
       "0        False\n",
       "4        False\n",
       "5         True\n",
       "6         True\n",
       "7         True\n",
       "         ...  \n",
       "99649    False\n",
       "99650     True\n",
       "99651     True\n",
       "99655     True\n",
       "99657     True\n",
       "Name: cit_arrested, Length: 40744, dtype: bool"
      ]
     },
     "execution_count": 44,
     "metadata": {},
     "output_type": "execute_result"
    }
   ],
   "source": [
    "uof_df['cit_arrested']"
   ]
  },
  {
   "cell_type": "code",
   "execution_count": 45,
   "metadata": {
    "scrolled": false
   },
   "outputs": [
    {
     "data": {
      "text/plain": [
       "resisting law enforcement (m)                    9633\n",
       "battery (f)                                      2752\n",
       "disorderly conduct                               2540\n",
       "resisting law enforcement (f)                    2534\n",
       "battery (m)                                      1977\n",
       "public intoxication                              1644\n",
       "immediate detention                              1420\n",
       "criminal trespass                                1128\n",
       "possession of marijuana/hash (m)                 1050\n",
       "warrant arrest                                   1015\n",
       "intimidation                                      969\n",
       "theft/receiving stolen property                   875\n",
       "possession of paraphernalia                       782\n",
       "possession of a handgun (f)                       643\n",
       "domestic battery (m)                              581\n",
       "possession of controlled substance                580\n",
       "domestic battery (f)                              510\n",
       "criminal recklessness                             482\n",
       "driving while suspended                           459\n",
       "possession of cocaine (f)                         449\n",
       "criminal mischief (m)                             436\n",
       "operating a vehicle while intoxicated (m)         389\n",
       "stolen vehicle                                    388\n",
       "battery by bodily waste                           387\n",
       "residential entry                                 310\n",
       "criminal confinement                              308\n",
       "possession of a handgun (m)                       307\n",
       "burglary                                          300\n",
       "possession of methamphetamine                     271\n",
       "strangulation                                     270\n",
       "leaving the scene of a pd crash                   226\n",
       "escape                                            203\n",
       "robbery                                           179\n",
       "dealing marijuana                                 173\n",
       "dealing in a schedule or controlled substance     168\n",
       "pointing a firearm (f)                            157\n",
       "dealing cocaine                                   157\n",
       "invasion of privacy                               151\n",
       "operating a vehicle while intoxicated (f)         151\n",
       "interfering with reporting a crime                143\n",
       "shoplifting - theft                               121\n",
       "possession of marijuana/hash (f)                  121\n",
       "aggravated assault                                110\n",
       "habitual traffic violator                          92\n",
       "dealing in methamphetamine                         91\n",
       "public indecency                                   88\n",
       "false reporting                                    81\n",
       "disarming a law enforcement officer                63\n",
       "armed robbery                                      60\n",
       "leaving the scene of a pi crash                    52\n",
       "Name: citcharge_type, dtype: int64"
      ]
     },
     "execution_count": 45,
     "metadata": {},
     "output_type": "execute_result"
    }
   ],
   "source": [
    "uof_df['citcharge_type'].value_counts().head(50)"
   ]
  },
  {
   "cell_type": "code",
   "execution_count": 46,
   "metadata": {},
   "outputs": [],
   "source": [
    "# resisting arrest\n",
    "uof_df['citcharge_type'] = uof_df['citcharge_type'].replace('resisting law enforcement (m)', 'resisting arrest').replace('resisting law enforcement (f)', 'resisting arrest').replace('resisting law enforcement (ma)', 'resisting arrest').replace('resisting law enforcement (md)', 'resisting arrest').replace('resisting law enforcement (fd)', 'resisting arrest')\n",
    "\n",
    "# assault and battery\n",
    "uof_df['citcharge_type'] = uof_df['citcharge_type'].replace('battery (f)', 'assault and battery').replace('battery (m)', 'assault and battery').replace('domestic battery (m)', 'assault and battery').replace('domestic battery (f)', 'assault and battery').replace('battery by bodily waste', 'assault and battery').replace('aggravated assault', 'assault and battery').replace('battery (f)', 'assault and battery').replace('strangulation', 'assault and battery').replace('battery (ma)', 'assault and battery')\n",
    "\n",
    "# theft\n",
    "uof_df['citcharge_type'] = uof_df['citcharge_type'].replace('theft/receiving stolen property', 'theft').replace('stolen vehicle', 'theft').replace('robbery', 'theft').replace('shoplifting - theft', 'theft').replace('armed robbery', 'theft').replace('fraud', 'theft').replace('forgery', 'theft').replace('theft/receiving stolen property (fd)', 'theft').replace('strong armed robbery', 'theft').replace('criminal conversion', 'theft').replace('burglary', 'theft')\n",
    "\n",
    "# drug possession and use\n",
    "uof_df['citcharge_type'] = uof_df['citcharge_type'].replace('dealing in a schedule or controlled substance', 'drug possession and use').replace('possession of marijuana/hash (m)', 'drug possession and use').replace('possession of paraphernalia', 'drug possession and use').replace('possession of controlled substance', 'drug possession and use').replace('possession of cocaine (f)', 'drug possession and use').replace('possession of cocaine (m)', 'drug possession and use').replace('possession of methamphetamine', 'drug possession and use').replace('dealing marijuana', 'drug possession and use').replace('dealing in a schedule or controlled substance ', 'drug possession and use').replace('dealing cocaine', 'drug possession and use').replace('possession of marijuana/hash (f)', 'drug possession and use').replace('dealing in methamphetamine', 'drug possession and use').replace('possession of cocaine (fd)', 'drug possession and use').replace('possession of marijuana/hash (ma)', 'drug possession and use')\n",
    "\n",
    "# weapon possession\n",
    "uof_df['citcharge_type'] = uof_df['citcharge_type'].replace('possession of a handgun (f)', 'weapon possession').replace('possession of a handgun (m)', 'weapon possession').replace('pointing a firearm (m)', 'weapon possession').replace('pointing a firearm (f)', 'weapon possession')\n",
    "\n",
    "# disorderly conduct\n",
    "uof_df['citcharge_type'] = uof_df['citcharge_type'].replace('public intoxication', 'disorderly conduct').replace('public indecency', 'disorderly conduct').replace('public intoxication (mb)', 'disorderly conduct')\n",
    "\n",
    "# leaving scene of crime\n",
    "uof_df['citcharge_type'] = uof_df['citcharge_type'].replace('escape', 'leaving scene of crime').replace('leaving the scene of a pd crash', 'leaving scene of crime').replace('leaving the scene of a pi crash', 'leaving scene of crime')\n",
    "\n",
    "# murder\n",
    "uof_df['citcharge_type'] = uof_df['citcharge_type'].replace('attempted murder', 'murder').replace('reckless homicide', 'murder')\n",
    "\n",
    "# vehicular crime\n",
    "uof_df['citcharge_type'] = uof_df['citcharge_type'].replace('carjacking', 'vehicular crime').replace('operating a vehicle while intoxicated (m)', 'vehicular crime').replace('operating a vehicle while intoxicated (f)', 'vehicular crime').replace('operating a vehicle with a bac .15% or higher (m)', 'vehicular crime').replace('operating a vehicle with a bac .15% or higher (f)', 'vehicular crime').replace('operating a vehicle with a bac .08% to .15% (m)', 'vehicular crime').replace('operating a vehicle with a bac .08% to .15% (f)', 'vehicular crime').replace('joyriding', 'vehicular crime').replace('driving while suspended', 'vehicular crime').replace('habitual traffic violator', 'vehicular crime')\n",
    "\n",
    "# sex crime\n",
    "uof_df['citcharge_type'] = uof_df['citcharge_type'].replace('rape', 'sex crime').replace('prostitution (m)', 'sex crime').replace('prostitution (f)', 'sex crime').replace('child molestation', 'sex crime').replace('sexual misconduct with a minor', 'sex crime')\n",
    "\n",
    "# animal cruelty\n",
    "uof_df['citcharge_type'] = uof_df['citcharge_type'].replace('cruelty to a police service animal', 'animal cruelty').replace('torturing or mutilating a vertebrate animal', 'animal cruelty')\n",
    "\n",
    "# violation of protective order\n",
    "uof_df['citcharge_type'] = uof_df['citcharge_type'].replace('violation of protective order (m)', 'violation of protective order').replace('violation of protective order (f)', 'violation of protective order')\n",
    "\n",
    "# criminal mischief\n",
    "uof_df['citcharge_type'] = uof_df['citcharge_type'].replace('criminal mischief (m)', 'criminal mischief').replace('criminal mischief (mb)', 'criminal mischief').replace('criminal mischief (f)', 'criminal mischief')\n",
    "\n",
    "# trespass\n",
    "uof_df['citcharge_type'] = uof_df['citcharge_type'].replace('criminal trespass', 'trespass').replace('residential entry', 'tresspass')\n",
    "\n",
    "# Obstruction of Justice\n",
    "uof_df['citcharge_type'] = uof_df['citcharge_type'].replace('disarming a law # Obstruction of Justiceenforcement officer', 'obstruction of justice').replace('interfering with reporting a crime', 'obstruction of justice').replace('false reporting', 'obstruction of justice')\n",
    "\n",
    "# Immediate detention\n",
    "uof_df['citcharge_type'] = uof_df['citcharge_type'].replace('mental writ', 'immediate detention')\n",
    "\n",
    "# criminal confinement\n",
    "uof_df['citcharge_type'] = uof_df['citcharge_type'].replace('kidnapping', 'criminal confinement')\n",
    "\n",
    "# common nuisance\n",
    "uof_df['citcharge_type'] = uof_df['citcharge_type'].replace('visiting a common nuisance', 'common nuisance').replace('maintaining a common nuisance', 'common nuisance')"
   ]
  },
  {
   "cell_type": "code",
   "execution_count": 47,
   "metadata": {},
   "outputs": [
    {
     "data": {
      "text/plain": [
       "resisting arrest                       12181\n",
       "assault and battery                     6589\n",
       "disorderly conduct                      4276\n",
       "drug possession and use                 3851\n",
       "other crime                             2125\n",
       "theft                                   1998\n",
       "immediate detention                     1462\n",
       "vehicular crime                         1192\n",
       "weapon possession                       1134\n",
       "trespass                                1128\n",
       "warrant arrest                          1015\n",
       "intimidation                             969\n",
       "criminal mischief                        484\n",
       "criminal recklessness                    482\n",
       "leaving scene of crime                   481\n",
       "criminal confinement                     347\n",
       "tresspass                                310\n",
       "obstruction of justice                   224\n",
       "invasion of privacy                      151\n",
       "disarming a law enforcement officer       63\n",
       "common nuisance                           54\n",
       "murder                                    45\n",
       "sex crime                                 42\n",
       "violation of protective order             38\n",
       "interfering with a firefighter            24\n",
       "animal cruelty                            24\n",
       "arson                                     21\n",
       "stalking                                  19\n",
       "ciminal conversion                         7\n",
       "chain approval reason                      7\n",
       "criminal gang activity                     1\n",
       "Name: citcharge_type, dtype: int64"
      ]
     },
     "execution_count": 47,
     "metadata": {},
     "output_type": "execute_result"
    }
   ],
   "source": [
    "# Replace NaN values with other crimes\n",
    "uof_df['citcharge_type'] = uof_df['citcharge_type'].replace(np.NaN, 'other crime')\n",
    "\n",
    "uof_df['citcharge_type'].value_counts().head(75)"
   ]
  },
  {
   "cell_type": "code",
   "execution_count": 48,
   "metadata": {},
   "outputs": [
    {
     "data": {
      "text/plain": [
       "resisting arrest           12181\n",
       "assault and battery         6589\n",
       "disorderly conduct          4276\n",
       "drug possession and use     3851\n",
       "other crime                 3502\n",
       "theft                       1998\n",
       "immediate detention         1462\n",
       "vehicular crime             1192\n",
       "weapon possession           1134\n",
       "trespass                    1128\n",
       "warrant arrest              1015\n",
       "intimidation                 969\n",
       "criminal mischief            484\n",
       "criminal recklessness        482\n",
       "leaving scene of crime       481\n",
       "Name: citcharge_type, dtype: int64"
      ]
     },
     "execution_count": 48,
     "metadata": {},
     "output_type": "execute_result"
    }
   ],
   "source": [
    "# Reduce dimensionality \n",
    "citcharge_type_vc = pd.value_counts(uof_df['citcharge_type'])\n",
    "citcharge_type_pct = (citcharge_type_vc/citcharge_type_vc.sum() * 100).lt(1)\n",
    "uof_df['citcharge_type'] = np.where(uof_df['citcharge_type'].isin(citcharge_type_vc[citcharge_type_pct].index),'other crime',uof_df['citcharge_type'])\n",
    "\n",
    "uof_df['citcharge_type'].value_counts()"
   ]
  },
  {
   "cell_type": "code",
   "execution_count": 49,
   "metadata": {},
   "outputs": [
    {
     "data": {
      "text/plain": [
       "no     26176\n",
       "yes    14560\n",
       "Name: cit_injured, dtype: int64"
      ]
     },
     "execution_count": 49,
     "metadata": {},
     "output_type": "execute_result"
    }
   ],
   "source": [
    "# Look at civilian injurt values\n",
    "uof_df['cit_injured'].value_counts()"
   ]
  },
  {
   "cell_type": "code",
   "execution_count": 50,
   "metadata": {},
   "outputs": [
    {
     "data": {
      "text/plain": [
       "0     no\n",
       "4     no\n",
       "5     no\n",
       "6    yes\n",
       "7    yes\n",
       "Name: cit_injured, dtype: object"
      ]
     },
     "execution_count": 50,
     "metadata": {},
     "output_type": "execute_result"
    }
   ],
   "source": [
    "# Replace NaN values with no\n",
    "uof_df['cit_injured'] = uof_df['cit_injured'].replace(np.NaN, 'no')\n",
    "\n",
    "# Convert to bool\n",
    "#uof_df['cit_injured'] = uof_df['cit_injured'].map(a)\n",
    "\n",
    "# Convert to int\n",
    "#uof_df['cit_injured'] = uof_df['cit_injured'].astype(np.int64)\n",
    "\n",
    "uof_df['cit_injured'].head()"
   ]
  },
  {
   "cell_type": "code",
   "execution_count": 51,
   "metadata": {},
   "outputs": [
    {
     "data": {
      "text/plain": [
       "no     27400\n",
       "yes    13336\n",
       "Name: cit_hospital, dtype: int64"
      ]
     },
     "execution_count": 51,
     "metadata": {},
     "output_type": "execute_result"
    }
   ],
   "source": [
    "# Let's look at civilian hospital value count\n",
    "uof_df['cit_hospital'].value_counts()"
   ]
  },
  {
   "cell_type": "code",
   "execution_count": 52,
   "metadata": {},
   "outputs": [
    {
     "data": {
      "text/plain": [
       "0     no\n",
       "4     no\n",
       "5    yes\n",
       "6     no\n",
       "7    yes\n",
       "Name: cit_hospital, dtype: object"
      ]
     },
     "execution_count": 52,
     "metadata": {},
     "output_type": "execute_result"
    }
   ],
   "source": [
    "# Perform same methods as other binary data types\n",
    "\n",
    "# Replace NaN values with no\n",
    "uof_df['cit_hospital'] = uof_df['cit_hospital'].replace(np.NaN, 'no')\n",
    "\n",
    "# Convert to bool\n",
    "# uof_df['cit_hospital'] = uof_df['cit_hospital'].map(a)\n",
    "\n",
    "# Convert to int\n",
    "# uof_df['cit_hospital'] = uof_df['cit_hospital'].astype(np.int64)\n",
    "\n",
    "uof_df['cit_hospital'].head()"
   ]
  },
  {
   "cell_type": "code",
   "execution_count": 53,
   "metadata": {
    "scrolled": true
   },
   "outputs": [
    {
     "data": {
      "text/plain": [
       "0      163\n",
       "4      163\n",
       "5      230\n",
       "6      230\n",
       "7      231\n",
       "8      231\n",
       "9      883\n",
       "10    1052\n",
       "16    1052\n",
       "22    1066\n",
       "Name: citnum, dtype: int64"
      ]
     },
     "execution_count": 53,
     "metadata": {},
     "output_type": "execute_result"
    }
   ],
   "source": [
    "# Let's take a look at civilian number column\n",
    "uof_df['citnum'].head(10)"
   ]
  },
  {
   "cell_type": "markdown",
   "metadata": {},
   "source": [
    "This is just a column of randomly generated values in the incident. Different civilians can have similar values. Let's drop this since it doesn't provide more info."
   ]
  },
  {
   "cell_type": "code",
   "execution_count": 54,
   "metadata": {
    "scrolled": true
   },
   "outputs": [],
   "source": [
    "uof_df['citnum'] = uof_df.drop(uof_df[['citnum']], axis=1)"
   ]
  },
  {
   "cell_type": "code",
   "execution_count": 55,
   "metadata": {
    "scrolled": true
   },
   "outputs": [
    {
     "data": {
      "text/plain": [
       "black          22601\n",
       "white          14262\n",
       "hispanic        1538\n",
       "bi-racial       1435\n",
       "unknown          132\n",
       "asian            115\n",
       "other            113\n",
       "native amer       11\n",
       "blace              9\n",
       "b                  2\n",
       "polynesian         1\n",
       "Name: race, dtype: int64"
      ]
     },
     "execution_count": 55,
     "metadata": {},
     "output_type": "execute_result"
    }
   ],
   "source": [
    "# Let's look at civilian race values\n",
    "uof_df['race'].value_counts()"
   ]
  },
  {
   "cell_type": "markdown",
   "metadata": {},
   "source": [
    "I can clearly see many issues with this dataset. I am going to assume that blace and b were meant to be designated as black and place them in that column. Since polynesian and native american make up such a small percentage I will put these designations in the other category. I will also move the unknown category to other designation. Finally, all NaN values will be placed in the other race designation."
   ]
  },
  {
   "cell_type": "code",
   "execution_count": 56,
   "metadata": {},
   "outputs": [
    {
     "data": {
      "text/plain": [
       "black    22612\n",
       "white    14262\n",
       "other     3870\n",
       "Name: race, dtype: int64"
      ]
     },
     "execution_count": 56,
     "metadata": {},
     "output_type": "execute_result"
    }
   ],
   "source": [
    "# black racial designation adjustment\n",
    "uof_df['race'] = uof_df['race'].replace('blace', 'black').replace('b', 'black')\n",
    "\n",
    "# other racial designation adjustment\n",
    "uof_df['race'] = uof_df['race'].replace('unknown', 'other').replace('native amer', 'other').replace('polynesian', 'other').replace('hispanic', 'other').replace('asian', 'other').replace('bi-racial', 'other').replace(np.NaN, 'other')\n",
    "\n",
    "uof_df['race'].value_counts()"
   ]
  },
  {
   "cell_type": "code",
   "execution_count": 57,
   "metadata": {},
   "outputs": [
    {
     "data": {
      "text/plain": [
       "male       33120\n",
       "female      7577\n",
       "unknown       32\n",
       "m              2\n",
       "Name: sex, dtype: int64"
      ]
     },
     "execution_count": 57,
     "metadata": {},
     "output_type": "execute_result"
    }
   ],
   "source": [
    "# Let's look at sex designations\n",
    "uof_df['sex'].value_counts()"
   ]
  },
  {
   "cell_type": "code",
   "execution_count": 58,
   "metadata": {},
   "outputs": [
    {
     "data": {
      "text/plain": [
       "False    40731\n",
       "True        13\n",
       "Name: sex, dtype: int64"
      ]
     },
     "execution_count": 58,
     "metadata": {},
     "output_type": "execute_result"
    }
   ],
   "source": [
    "# Let's also look at NaN values\n",
    "uof_df['sex'].isna().value_counts()"
   ]
  },
  {
   "cell_type": "markdown",
   "metadata": {},
   "source": [
    "Since male sex designation makes up the majority of the value set I will recategorize unknown, m, and NaN values into the male sex designation "
   ]
  },
  {
   "cell_type": "code",
   "execution_count": 59,
   "metadata": {},
   "outputs": [
    {
     "data": {
      "text/plain": [
       "male      33167\n",
       "female     7577\n",
       "Name: sex, dtype: int64"
      ]
     },
     "execution_count": 59,
     "metadata": {},
     "output_type": "execute_result"
    }
   ],
   "source": [
    "uof_df['sex'] = uof_df['sex'].replace('unknown', 'male').replace('m', 'male').replace(np.NaN, 'male')\n",
    "\n",
    "uof_df['sex'].value_counts()"
   ]
  },
  {
   "cell_type": "code",
   "execution_count": 60,
   "metadata": {},
   "outputs": [
    {
     "data": {
      "text/plain": [
       "count    38515.000000\n",
       "mean        30.875114\n",
       "std         10.795035\n",
       "min          0.000000\n",
       "25%         23.000000\n",
       "50%         29.000000\n",
       "75%         37.000000\n",
       "max         83.000000\n",
       "Name: cit_age, dtype: float64"
      ]
     },
     "execution_count": 60,
     "metadata": {},
     "output_type": "execute_result"
    }
   ],
   "source": [
    "uof_df.cit_age.describe()"
   ]
  },
  {
   "cell_type": "code",
   "execution_count": 61,
   "metadata": {},
   "outputs": [
    {
     "data": {
      "text/plain": [
       "29.0"
      ]
     },
     "execution_count": 61,
     "metadata": {},
     "output_type": "execute_result"
    }
   ],
   "source": [
    "uof_df.cit_age.median()"
   ]
  },
  {
   "cell_type": "markdown",
   "metadata": {},
   "source": [
    "I can see that there are outliers, and that an age of 0 is an issue. Let's assign the NaN values to the median value. Then use quartiles to replace extreme outliers."
   ]
  },
  {
   "cell_type": "code",
   "execution_count": 62,
   "metadata": {},
   "outputs": [],
   "source": [
    "# recategorize NaN and 0 values using median value of 29\n",
    "uof_df['cit_age'] = uof_df['cit_age'].replace(np.NaN, 29.0)\n",
    "\n",
    "# convert to int\n",
    "uof_df['cit_age'] = uof_df['cit_age'].astype(np.int64)"
   ]
  },
  {
   "cell_type": "code",
   "execution_count": 63,
   "metadata": {},
   "outputs": [
    {
     "data": {
      "image/png": "[encoded data removed]",
      "text/plain": [
       "<Figure size 432x288 with 1 Axes>"
      ]
     },
     "metadata": {
      "needs_background": "light"
     },
     "output_type": "display_data"
    }
   ],
   "source": [
    "uof_df.cit_age.hist();"
   ]
  },
  {
   "cell_type": "markdown",
   "metadata": {},
   "source": [
    "The age data has a slight right skew, but there are also ages of 1, 4 etc. in the dataset. I will use extreme quartile measures in order to replace this values with the median value."
   ]
  },
  {
   "cell_type": "code",
   "execution_count": 64,
   "metadata": {},
   "outputs": [
    {
     "name": "stdout",
     "output_type": "stream",
     "text": [
      "51.0\n",
      "29.0\n",
      "17.0\n"
     ]
    }
   ],
   "source": [
    "print(uof_df['cit_age'].quantile(0.95))\n",
    "print(uof_df['cit_age'].quantile(0.50)) \n",
    "print(uof_df['cit_age'].quantile(0.05))"
   ]
  },
  {
   "cell_type": "code",
   "execution_count": 65,
   "metadata": {},
   "outputs": [
    {
     "name": "stdout",
     "output_type": "stream",
     "text": [
      "29.0\n",
      "17.0\n"
     ]
    },
    {
     "data": {
      "text/plain": [
       "count    40744.000000\n",
       "mean        30.071986\n",
       "std          7.766305\n",
       "min         17.000000\n",
       "25%         24.000000\n",
       "50%         29.000000\n",
       "75%         34.000000\n",
       "max         51.000000\n",
       "Name: cit_age, dtype: float64"
      ]
     },
     "execution_count": 65,
     "metadata": {},
     "output_type": "execute_result"
    }
   ],
   "source": [
    "#Replace outliers with median value\n",
    "\n",
    "print(uof_df['cit_age'].quantile(0.50)) \n",
    "print(uof_df['cit_age'].quantile(0.05)) \n",
    "uof_df['cit_age'] = np.where(uof_df['cit_age'] < 17, 29, uof_df['cit_age'])\n",
    "uof_df['cit_age'] = np.where(uof_df['cit_age'] > 51, 29, uof_df['cit_age'])\n",
    "uof_df['cit_age'].describe()"
   ]
  },
  {
   "cell_type": "code",
   "execution_count": 66,
   "metadata": {
    "scrolled": true
   },
   "outputs": [
    {
     "data": {
      "image/png": "[encoded data removed]",
      "text/plain": [
       "<Figure size 432x288 with 1 Axes>"
      ]
     },
     "metadata": {
      "needs_background": "light"
     },
     "output_type": "display_data"
    }
   ],
   "source": [
    "uof_df.cit_age.hist();"
   ]
  },
  {
   "cell_type": "code",
   "execution_count": 67,
   "metadata": {
    "scrolled": false
   },
   "outputs": [
    {
     "data": {
      "text/plain": [
       "no injuries noted or visible    18988\n",
       "minor scrapes                    4230\n",
       "complaint of pain                3671\n",
       "minor bleeding                   2866\n",
       "laceration                       1661\n",
       "canine bite                      1588\n",
       "swelling                          578\n",
       "bruising                          477\n",
       "internal pain/discomfort          130\n",
       "major scrapes                     121\n",
       "broken tooth                      110\n",
       "broken bone                        57\n",
       "abrasion                           42\n",
       "major bleeding                     37\n",
       "taser probe                        35\n",
       "unconsciousness                    33\n",
       "taser probes                       33\n",
       "dislocated bone                    26\n",
       "fractured bone                     20\n",
       "gunshot wound                      18\n",
       "breathing complaint                15\n",
       "taser probe with out entry         12\n",
       "redness due to oc/cs               12\n",
       "taser mark                         11\n",
       "tazer probe strike                 10\n",
       "finger nail marks                   9\n",
       "redness                             9\n",
       "cs spray                            8\n",
       "trouble breathing                   8\n",
       "oc/cs exposure                      8\n",
       "loss of skin                        8\n",
       "taser                               8\n",
       "taser prongs                        8\n",
       "shoulder pain                       8\n",
       "taser strike                        7\n",
       "busted lip                          7\n",
       "tazer prongs                        6\n",
       "abrasion to cheek                   6\n",
       "two braids pulled out               6\n",
       "none                                6\n",
       "prong entry                         6\n",
       "small cut on nose                   6\n",
       "numbness                            6\n",
       "abrasions                           6\n",
       "scratches/scrapes                   6\n",
       "chemical spray                      5\n",
       "death                               5\n",
       "gas inhalation                      5\n",
       "taser prong                         5\n",
       "handcuffing                         4\n",
       "Name: cit_cond_type, dtype: int64"
      ]
     },
     "execution_count": 67,
     "metadata": {},
     "output_type": "execute_result"
    }
   ],
   "source": [
    "uof_df['cit_cond_type'].value_counts().head(50)"
   ]
  },
  {
   "cell_type": "code",
   "execution_count": 68,
   "metadata": {},
   "outputs": [],
   "source": [
    "# no injuries noted or visible\n",
    "uof_df['cit_cond_type'] = uof_df['cit_cond_type'].replace('none', 'no injuries noted or visible').replace('no injury', 'no injuries noted or visible').replace('none; possible minor bleedin', 'no injuries noted or visible').replace('clothing only no injury', 'no injuries noted or visible')\n",
    "\n",
    "# broken, fractured, and dislocated bones\n",
    "uof_df['cit_cond_type'] = uof_df['cit_cond_type'].replace('broken tooth', 'broken, fractured, and dislocated bones').replace('broken bone', 'broken, fractured, and dislocated bones').replace('dislocated bone', 'broken, fractured, and dislocated bones').replace('fractured bone', 'broken, fractured, and dislocated bones').replace('busted tooth', 'broken, fractured, and dislocated bones')\n",
    "\n",
    "# abrasions\n",
    "uof_df['cit_cond_type'] = uof_df['cit_cond_type'].replace('minor scrapes', 'abrasions').replace('major scrapes', 'abrasions').replace('finger nail marks', 'abrasions').replace('loss of skin', 'abrasions').replace('loss of skin', 'abrasions').replace('scratches/scrapes', 'abrasions').replace('abrasion', 'abrasions').replace('abrasion to cheek', 'abrasions').replace('carpet burn', 'abrasions').replace('scratch to left cheek', 'abrasions').replace('abrassion', 'abrasions').replace('redness and skin damage', 'abrasions').replace('small minor scrapes', 'abrasions').replace('scratch to neck', 'abrasions')\n",
    "\n",
    "# lacerations\n",
    "uof_df['cit_cond_type'] = uof_df['cit_cond_type'].replace('laceration', 'lacerations').replace('busted lip', 'lacerations').replace('self sustained cut', 'lacerations').replace('small cut on nose', 'lacerations')\n",
    "\n",
    "# taser wounds\n",
    "uof_df['cit_cond_type'] = uof_df['cit_cond_type'].replace('taser probe', 'taser wounds').replace('taser probes', 'taser wounds').replace('taser probe with out entry', 'taser wounds').replace('taser mark', 'taser wounds').replace('tazer probe strike', 'taser wounds').replace('taser prongs', 'taser wounds').replace('taser', 'taser wounds').replace('taser strike', 'taser wounds').replace('tazer prongs', 'taser wounds').replace('taser prong', 'taser wounds').replace('taser marks', 'taser wounds').replace('prongs from taser cartridge', 'taser wounds').replace('taser prong in face', 'taser wounds').replace('taser prong punctures', 'taser wounds').replace('taser entry point', 'taser wounds').replace('taser prong entry points', 'taser wounds').replace('where taser prong entered', 'taser wounds').replace('puncture from tazer prong', 'taser wounds').replace('taser probe marks', 'taser wounds').replace('taser probes deployed', 'taser wounds').replace('taser prong puncture', 'taser prong puncture wounds').replace('taser probe punctures', 'taser prong puncture wounds').replace('small puncture from taser', 'taser prong puncture wounds').replace('puncture wound/taser probe', 'taser prong puncture wounds').replace('tazer probes', 'taser prong puncture wounds').replace('taser probe-abdomen area', 'taser prong puncture wounds').replace('probe mark', 'taser prong puncture wounds').replace('taser prong entry wound', 'taser prong puncture wounds').replace('probe entry points', 'taser prong puncture wounds').replace('taser probe strike', 'taser prong puncture wounds').replace('tazer', 'taser prong puncture wounds').replace('taser exposure', 'taser prong puncture wounds').replace('puncture from taser probe', 'taser prong puncture wounds').replace('probe strikes', 'taser prong puncture wounds').replace('tased', 'taser prong puncture wounds').replace('taser probe stuck', 'taser prong puncture wounds').replace('taser prong puncture wounds', 'taser prong puncture wounds').replace('probe strike', 'taser prong puncture wounds').replace('puncture wound', 'taser prong puncture wounds').replace('struck by taser', 'taser wounds').replace('taser probe hits', 'taser wounds').replace('puncture wound from probes', 'taser wounds').replace('taser probe inserted', 'taser wounds').replace('taser prong puncture wounds', 'taser wounds').replace('taser probe entry wound', 'taser wounds').replace('prong entry', 'taser wounds')\n",
    "\n",
    "# breathing issues\n",
    "uof_df['cit_cond_type'] = uof_df['cit_cond_type'].replace('breathing complaint', 'breathing issues').replace('trouble breathing', 'breathing issues')\n",
    "\n",
    "# swelling and bruising \n",
    "uof_df['cit_cond_type'] = uof_df['cit_cond_type'].replace('swelling', 'swelling and bruising').replace('bruising', 'swelling and bruising').replace('redness', 'swelling and bruising').replace('small red mark', 'swelling and bruising').replace('small red mark on cheek', 'swelling and bruising')\n",
    "\n",
    "# complaint of pain and discomfort\n",
    "uof_df['cit_cond_type'] = uof_df['cit_cond_type'].replace('complaint of pain', 'complaint of pain and discomfort').replace('internal pain/discomfort', 'complaint of pain and discomfort').replace('shoulder pain', 'complaint of pain and discomfort').replace('numbness', 'complaint of pain and discomfort').replace('pain to right hand', 'complaint of pain and discomfort').replace('shoulder pain reported later', 'complaint of pain and discomfort')\n",
    "\n",
    "# Weapon wound\n",
    "uof_df['cit_cond_type'] = uof_df['cit_cond_type'].replace('gunshot wound', 'weapon wound').replace('knife wound', 'weapon wound')\n",
    "\n",
    "# chemical weapon exposure\n",
    "uof_df['cit_cond_type'] = uof_df['cit_cond_type'].replace('redness due to oc/cs', 'chemical weapon exposure').replace('oc/cs exposure', 'chemical weapon exposure').replace('cs spray', 'chemical weapon exposure').replace('gas inhalation', 'chemical weapon exposure').replace('chemical spray', 'chemical weapon exposure').replace('csoc', 'chemical weapon exposure').replace('oc spray to eyes', 'chemical weapon exposure').replace('pepper spray', 'chemical weapon exposure').replace('chenical spray exposure', 'chemical weapon exposure').replace('oc spray to face', 'chemical weapon exposure').replace('oc spray to face', 'chemical weapon exposure').replace('oc sprayed', 'chemical weapon exposure').replace('cs / oc sprayed', 'chemical weapon exposure')\n",
    "\n",
    "# physical force wound\n",
    "uof_df['cit_cond_type'] = uof_df['cit_cond_type'].replace('take down', 'physical force wound').replace('where female was grabbed', 'physical force wound').replace('pushed citizen back.', 'physical force wound').replace('kicks', 'physical force wound').replace('two braids pulled out', 'physical force wound')\n",
    "\n",
    "# other\n",
    "uof_df['cit_cond_type'] = uof_df['cit_cond_type'].replace('unknown', 'other').replace('unknwon', 'other')\n",
    "\n",
    "# major and minor bleeding\n",
    "uof_df['cit_cond_type'] = uof_df['cit_cond_type'].replace('major bleeding', 'major and minor bleeding').replace('minor bleeding', 'major and minor bleeding')"
   ]
  },
  {
   "cell_type": "code",
   "execution_count": 69,
   "metadata": {},
   "outputs": [
    {
     "data": {
      "text/plain": [
       "no injuries noted or visible        19001\n",
       "abrasions                            4442\n",
       "complaint of pain and discomfort     3819\n",
       "major and minor bleeding             2903\n",
       "lacerations                          1676\n",
       "canine bite                          1588\n",
       "swelling and bruising                1067\n",
       "other                                 584\n",
       "Name: cit_cond_type, dtype: int64"
      ]
     },
     "execution_count": 69,
     "metadata": {},
     "output_type": "execute_result"
    }
   ],
   "source": [
    "# Reduce dimensionality \n",
    "cit_cond_type_vc = pd.value_counts(uof_df['cit_cond_type'])\n",
    "cit_cond_type_pct = (cit_cond_type_vc/cit_cond_type_vc.sum() * 100).lt(1)\n",
    "uof_df['cit_cond_type'] = np.where(uof_df['cit_cond_type'].isin(cit_cond_type_vc[cit_cond_type_pct].index),'other',uof_df['cit_cond_type'])\n",
    "\n",
    "uof_df['cit_cond_type'].value_counts()"
   ]
  },
  {
   "cell_type": "code",
   "execution_count": 70,
   "metadata": {},
   "outputs": [],
   "source": [
    "uof_df['cit_cond_type'] = uof_df['cit_cond_type'].replace(np.NaN, 'other')"
   ]
  },
  {
   "cell_type": "markdown",
   "metadata": {},
   "source": [
    "### Uniformed Officer"
   ]
  },
  {
   "cell_type": "code",
   "execution_count": 71,
   "metadata": {},
   "outputs": [
    {
     "name": "stdout",
     "output_type": "stream",
     "text": [
      "<class 'pandas.core.frame.DataFrame'>\n",
      "Int64Index: 40744 entries, 0 to 99657\n",
      "Data columns (total 26 columns):\n",
      " #   Column          Non-Null Count  Dtype         \n",
      "---  ------          --------------  -----         \n",
      " 0   disposition     40744 non-null  object        \n",
      " 1   uof_force_type  40744 non-null  object        \n",
      " 2   uof_reason      40744 non-null  object        \n",
      " 3   service_type    40744 non-null  object        \n",
      " 4   cit_arrested    40744 non-null  bool          \n",
      " 5   citcharge_type  40744 non-null  object        \n",
      " 6   cit_injured     40744 non-null  object        \n",
      " 7   cit_hospital    40744 non-null  object        \n",
      " 8   off_injured     40736 non-null  object        \n",
      " 9   off_hospital    40736 non-null  object        \n",
      " 10  citnum          40744 non-null  object        \n",
      " 11  race            40744 non-null  object        \n",
      " 12  sex             40744 non-null  object        \n",
      " 13  cit_age         40744 non-null  int64         \n",
      " 14  cit_cond_type   40744 non-null  object        \n",
      " 15  offnum          40543 non-null  float64       \n",
      " 16  off_race        40488 non-null  object        \n",
      " 17  off_sex         40543 non-null  object        \n",
      " 18  off_age         27623 non-null  float64       \n",
      " 19  off_yr_employ   27623 non-null  float64       \n",
      " 20  off_cond_type   27589 non-null  object        \n",
      " 21  datetime        39983 non-null  datetime64[ns]\n",
      " 22  occurred_wd     40744 non-null  object        \n",
      " 23  occurred_month  40744 non-null  object        \n",
      " 24  uo_designation  40744 non-null  object        \n",
      " 25  address         40470 non-null  object        \n",
      "dtypes: bool(1), datetime64[ns](1), float64(3), int64(1), object(20)\n",
      "memory usage: 9.1+ MB\n"
     ]
    }
   ],
   "source": [
    "uof_df.info()"
   ]
  },
  {
   "cell_type": "code",
   "execution_count": 72,
   "metadata": {},
   "outputs": [],
   "source": [
    "# drop offnum\n",
    "uof_df['offnum'] = uof_df.drop(uof_df[['offnum']], axis = 1)"
   ]
  },
  {
   "cell_type": "code",
   "execution_count": 73,
   "metadata": {},
   "outputs": [
    {
     "data": {
      "text/plain": [
       "white       33656\n",
       "black        4565\n",
       "hispanic     1733\n",
       "other         478\n",
       "asian          56\n",
       "Name: off_race, dtype: int64"
      ]
     },
     "execution_count": 73,
     "metadata": {},
     "output_type": "execute_result"
    }
   ],
   "source": [
    "# look at off_race value counts\n",
    "uof_df['off_race'].value_counts()"
   ]
  },
  {
   "cell_type": "code",
   "execution_count": 74,
   "metadata": {},
   "outputs": [
    {
     "data": {
      "text/plain": [
       "white    33656\n",
       "black     4565\n",
       "other     2523\n",
       "Name: off_race, dtype: int64"
      ]
     },
     "execution_count": 74,
     "metadata": {},
     "output_type": "execute_result"
    }
   ],
   "source": [
    "# categorize NaN values as other\n",
    "uof_df['off_race'] = uof_df['off_race'].replace(np.NaN, 'other').replace('hispanic', 'other').replace('asian', 'other')\n",
    "\n",
    "uof_df['off_race'].value_counts()"
   ]
  },
  {
   "cell_type": "code",
   "execution_count": 75,
   "metadata": {},
   "outputs": [
    {
     "data": {
      "text/plain": [
       "male      36653\n",
       "female     3890\n",
       "Name: off_sex, dtype: int64"
      ]
     },
     "execution_count": 75,
     "metadata": {},
     "output_type": "execute_result"
    }
   ],
   "source": [
    "# look at off_sex value counts\n",
    "uof_df['off_sex'].value_counts()"
   ]
  },
  {
   "cell_type": "code",
   "execution_count": 76,
   "metadata": {},
   "outputs": [
    {
     "data": {
      "text/plain": [
       "male      36854\n",
       "female     3890\n",
       "Name: off_sex, dtype: int64"
      ]
     },
     "execution_count": 76,
     "metadata": {},
     "output_type": "execute_result"
    }
   ],
   "source": [
    "# Since male makes up the majority of the data I will add NaN values to male category\n",
    "uof_df['off_sex'] = uof_df['off_sex'].replace(np.NaN, 'male')\n",
    "\n",
    "uof_df['off_sex'].value_counts()"
   ]
  },
  {
   "cell_type": "code",
   "execution_count": 77,
   "metadata": {},
   "outputs": [
    {
     "data": {
      "text/plain": [
       "count    27623.000000\n",
       "mean        36.037215\n",
       "std          8.435536\n",
       "min          2.000000\n",
       "25%         30.000000\n",
       "50%         34.000000\n",
       "75%         41.000000\n",
       "max         78.000000\n",
       "Name: off_age, dtype: float64"
      ]
     },
     "execution_count": 77,
     "metadata": {},
     "output_type": "execute_result"
    }
   ],
   "source": [
    "# look at off_age describe\n",
    "uof_df['off_age'].describe()"
   ]
  },
  {
   "cell_type": "code",
   "execution_count": 78,
   "metadata": {},
   "outputs": [
    {
     "data": {
      "text/plain": [
       "34.0"
      ]
     },
     "execution_count": 78,
     "metadata": {},
     "output_type": "execute_result"
    }
   ],
   "source": [
    "uof_df.off_age.median()"
   ]
  },
  {
   "cell_type": "code",
   "execution_count": 79,
   "metadata": {},
   "outputs": [],
   "source": [
    "# recategorize NaN values using median value of 34\n",
    "uof_df['off_age'] = uof_df['off_age'].replace(np.NaN, 34.0)\n",
    "\n",
    "# convert to int\n",
    "uof_df['off_age'] = uof_df['off_age'].astype(np.int64)"
   ]
  },
  {
   "cell_type": "code",
   "execution_count": 80,
   "metadata": {
    "scrolled": true
   },
   "outputs": [
    {
     "data": {
      "image/png": "[encoded data removed]",
      "text/plain": [
       "<Figure size 432x288 with 1 Axes>"
      ]
     },
     "metadata": {
      "needs_background": "light"
     },
     "output_type": "display_data"
    }
   ],
   "source": [
    "uof_df.off_age.hist();"
   ]
  },
  {
   "cell_type": "code",
   "execution_count": 81,
   "metadata": {},
   "outputs": [
    {
     "name": "stdout",
     "output_type": "stream",
     "text": [
      "50.0\n",
      "34.0\n",
      "25.0\n"
     ]
    }
   ],
   "source": [
    "print(uof_df['off_age'].quantile(0.95))\n",
    "print(uof_df['off_age'].quantile(0.50)) \n",
    "print(uof_df['off_age'].quantile(0.05))"
   ]
  },
  {
   "cell_type": "code",
   "execution_count": 82,
   "metadata": {},
   "outputs": [
    {
     "name": "stdout",
     "output_type": "stream",
     "text": [
      "34.0\n",
      "25.0\n"
     ]
    },
    {
     "data": {
      "text/plain": [
       "count    40744.000000\n",
       "mean        34.785097\n",
       "std          5.114208\n",
       "min         25.000000\n",
       "25%         33.000000\n",
       "50%         34.000000\n",
       "75%         36.000000\n",
       "max         50.000000\n",
       "Name: off_age, dtype: float64"
      ]
     },
     "execution_count": 82,
     "metadata": {},
     "output_type": "execute_result"
    }
   ],
   "source": [
    "#Replace outliers with median value\n",
    "print(uof_df['off_age'].quantile(0.50)) \n",
    "print(uof_df['off_age'].quantile(0.05)) \n",
    "uof_df['off_age'] = np.where(uof_df['off_age'] < 25, 34, uof_df['off_age'])\n",
    "uof_df['off_age'] = np.where(uof_df['off_age'] > 50, 34, uof_df['off_age'])\n",
    "uof_df['off_age'].describe()"
   ]
  },
  {
   "cell_type": "code",
   "execution_count": 83,
   "metadata": {
    "scrolled": true
   },
   "outputs": [
    {
     "data": {
      "image/png": "[encoded data removed]",
      "text/plain": [
       "<Figure size 432x288 with 1 Axes>"
      ]
     },
     "metadata": {
      "needs_background": "light"
     },
     "output_type": "display_data"
    }
   ],
   "source": [
    "uof_df.off_age.hist();"
   ]
  },
  {
   "cell_type": "code",
   "execution_count": 84,
   "metadata": {},
   "outputs": [
    {
     "data": {
      "text/plain": [
       "count    27623.000000\n",
       "mean         8.540528\n",
       "std          7.562910\n",
       "min          0.000000\n",
       "25%          2.000000\n",
       "50%          7.000000\n",
       "75%         13.000000\n",
       "max         46.000000\n",
       "Name: off_yr_employ, dtype: float64"
      ]
     },
     "execution_count": 84,
     "metadata": {},
     "output_type": "execute_result"
    }
   ],
   "source": [
    "uof_df['off_yr_employ'].describe()"
   ]
  },
  {
   "cell_type": "code",
   "execution_count": 85,
   "metadata": {},
   "outputs": [
    {
     "data": {
      "text/plain": [
       "7.0"
      ]
     },
     "execution_count": 85,
     "metadata": {},
     "output_type": "execute_result"
    }
   ],
   "source": [
    "uof_df['off_yr_employ'].median()"
   ]
  },
  {
   "cell_type": "code",
   "execution_count": 86,
   "metadata": {},
   "outputs": [],
   "source": [
    "# recategorize NaN values using median value of 34\n",
    "uof_df['off_yr_employ'] = uof_df['off_yr_employ'].replace(np.NaN, 7.0)\n",
    "\n",
    "# convert to int\n",
    "uof_df['off_yr_employ'] = uof_df['off_yr_employ'].astype(np.int64)"
   ]
  },
  {
   "cell_type": "code",
   "execution_count": 87,
   "metadata": {
    "scrolled": true
   },
   "outputs": [
    {
     "data": {
      "image/png": "[encoded data removed]",
      "text/plain": [
       "<Figure size 432x288 with 1 Axes>"
      ]
     },
     "metadata": {
      "needs_background": "light"
     },
     "output_type": "display_data"
    }
   ],
   "source": [
    "uof_df.off_yr_employ.hist();"
   ]
  },
  {
   "cell_type": "code",
   "execution_count": 88,
   "metadata": {},
   "outputs": [
    {
     "name": "stdout",
     "output_type": "stream",
     "text": [
      "20.0\n",
      "7.0\n"
     ]
    }
   ],
   "source": [
    "print(uof_df['off_yr_employ'].quantile(0.95))\n",
    "print(uof_df['off_yr_employ'].quantile(0.50))"
   ]
  },
  {
   "cell_type": "code",
   "execution_count": 89,
   "metadata": {},
   "outputs": [
    {
     "data": {
      "text/plain": [
       "count    40744.000000\n",
       "mean         7.126988\n",
       "std          4.621487\n",
       "min          0.000000\n",
       "25%          3.000000\n",
       "50%          7.000000\n",
       "75%          8.000000\n",
       "max         20.000000\n",
       "Name: off_yr_employ, dtype: float64"
      ]
     },
     "execution_count": 89,
     "metadata": {},
     "output_type": "execute_result"
    }
   ],
   "source": [
    "#Replace outliers with median value \n",
    "uof_df['off_yr_employ'] = np.where(uof_df['off_yr_employ'] > 20, 7, uof_df['off_yr_employ'])\n",
    "uof_df['off_yr_employ'].describe()"
   ]
  },
  {
   "cell_type": "code",
   "execution_count": 90,
   "metadata": {
    "scrolled": true
   },
   "outputs": [
    {
     "data": {
      "image/png": "[encoded data removed]",
      "text/plain": [
       "<Figure size 432x288 with 1 Axes>"
      ]
     },
     "metadata": {
      "needs_background": "light"
     },
     "output_type": "display_data"
    }
   ],
   "source": [
    "uof_df.off_yr_employ.hist();"
   ]
  },
  {
   "cell_type": "code",
   "execution_count": 91,
   "metadata": {
    "scrolled": false
   },
   "outputs": [
    {
     "data": {
      "text/plain": [
       "no injuries noted or visible    21923\n",
       "complaint of pain                2176\n",
       "minor scrapes                    1201\n",
       "minor bleeding                    494\n",
       "swelling                          439\n",
       "laceration                        423\n",
       "bruising                          282\n",
       "internal pain/discomfort          136\n",
       "bite mark                         136\n",
       "broken bone                        48\n",
       "dislocated bone                    26\n",
       "fractured bone                     21\n",
       "none                               17\n",
       "spit                               11\n",
       "major bleeding                      9\n",
       "exposure to blood                   8\n",
       "blood exposure                      8\n",
       "kicked                              7\n",
       "spit on                             6\n",
       "kick to thigh/no pain               6\n",
       "pain/discomfort                     6\n",
       "spat upon                           5\n",
       "battery by bodily waste             5\n",
       "pushed                              5\n",
       "sprain to right thumb               5\n",
       "redness                             5\n",
       "kick to the shen                    5\n",
       "kicked in groin with pain           5\n",
       "stirke to the neck                  5\n",
       "human mucus(spit)                   5\n",
       "minor abrasion                      5\n",
       "complaint of pain to arm            4\n",
       "pushed on and pulled upon           4\n",
       "right knee                          4\n",
       "bruised left eyebrow                4\n",
       "discomfort                          4\n",
       "strained hamstring muscle           4\n",
       "bruised & scratched left eye        4\n",
       "pain and tightness                  4\n",
       "spat on ** attempted                4\n",
       "kick to the chest                   4\n",
       "no injury                           4\n",
       "pain                                3\n",
       "scratch on right hand               3\n",
       "knife wound                         3\n",
       "saliva on face                      3\n",
       "complaint of pain/swelling          3\n",
       "abrasions                           3\n",
       "abrasion to forehead                3\n",
       "sprain/swelling                     3\n",
       "Name: off_cond_type, dtype: int64"
      ]
     },
     "execution_count": 91,
     "metadata": {},
     "output_type": "execute_result"
    }
   ],
   "source": [
    "uof_df.off_cond_type.value_counts().head(50)"
   ]
  },
  {
   "cell_type": "code",
   "execution_count": 92,
   "metadata": {},
   "outputs": [],
   "source": [
    "# no injuries\n",
    "uof_df['off_cond_type'] = uof_df['off_cond_type'].replace('no injuries noted or visible','no injuries').replace('none','no injuries').replace('no injury','no injuries').replace('no injury,just hurt feelings','no injuries').replace('no injuries noted or visible','no injuries').replace('kick no injury','no injuries').replace('struck but not injured','no injuries').replace('no injury/strike only','no injuries').replace('ofc pulled arm away b4 bite','no injuries').replace('head butt, nothing visible','no injuries')\n",
    "\n",
    "# broken, fractured, or dislocated bone\n",
    "uof_df['off_cond_type'] = uof_df['off_cond_type'].replace('broken bone', 'broken, fractured, or dislocated bone').replace('dislocated bone', 'broken, fractured, or dislocated bone').replace('fractured bone', 'broken, fractured, or dislocated bone').replace('broken tooth', 'broken, fractured, or dislocated bone')\n",
    "\n",
    "# muscular injury\n",
    "uof_df['off_cond_type'] = uof_df['off_cond_type'].replace('sprain to right thumb', 'muscular injury').replace('strained hamstring muscle', 'muscular injury').replace('strained ligament', 'muscular injury').replace('torn rotator cuff', 'muscular injury').replace('sprain/swelling', 'muscular injury').replace('ligament tear', 'muscular injury').replace('possible rotator cuff tear', 'muscular injury').replace('back strain', 'muscular injury').replace('strained hip/thigh muscle', 'muscular injury').replace('sprain to right hand', 'muscular injury').replace('pulled hamstring', 'muscular injury')\n",
    "\n",
    "# complaint of pain\n",
    "uof_df['off_cond_type'] = uof_df['off_cond_type'].replace('internal pain/discomfort','complaint of pain').replace('pain/discomfort','complaint of pain').replace('complaint of pain to arm','complaint of pain').replace('pain and tightness','complaint of pain').replace('discomfort','complaint of pain').replace('right knee','complaint of pain').replace('pain','complaint of pain').replace('pain to shoulder','complaint of pain').replace('pain to right knee','complaint of pain').replace('complaint of pain/swelling','complaint of pain')\n",
    "\n",
    "# bruising and swelling\n",
    "uof_df['off_cond_type'] = uof_df['off_cond_type'].replace('bruising','bruising and swelling').replace('redness','bruising and swelling').replace('bruised left eyebrow','bruising and swelling').replace('bruising and pain','bruising and swelling').replace('redness','bruising and swelling').replace('bruised left eyebrow','bruising and swelling').replace('swelling','bruising and swelling').replace('bruised & scratched left eye','bruising and swelling').replace('burning sensation and rednes','bruising and swelling').replace('head bump','bruising and swelling')\n",
    "\n",
    "# physical assault\n",
    "uof_df['off_cond_type'] = uof_df['off_cond_type'].replace('bite mark','physical assault').replace('kicked','physical assault').replace('kick to thigh/no pain','physical assault').replace('pushed','physical assault').replace('stirke to the neck','physical assault').replace('kick to the shen','physical assault').replace('kicked in groin with pain','physical assault').replace('pushed on and pulled upon','physical assault').replace('kick to the chest','physical assault').replace('pushed/ shoved at listed','physical assault').replace('hit with closed fist','physical assault').replace('(kicked) sudden short pain','physical assault').replace('slap to the face','physical assault').replace('officer kicked','physical assault').replace('contact','physical assault')\n",
    "\n",
    "# injury due to weapon\n",
    "uof_df['off_cond_type'] = uof_df['off_cond_type'].replace('taser probe stick', 'injury due to weapon').replace('knife wound', 'injury due to weapon').replace('needle stick', 'injury due to weapon').replace('gunshot wound', 'injury due to weapon')\n",
    "\n",
    "# abrasions\n",
    "uof_df['off_cond_type'] = uof_df['off_cond_type'].replace('minor scrapes', 'abrasions').replace('minor abrasion', 'abrasions').replace('scratch on right hand', 'abrasions').replace('minor scrape to finger', 'abrasions').replace('abrasion to forehead', 'abrasions').replace('abrasion', 'abrasions').replace('abrasion-right index finger', 'abrasions')\n",
    "\n",
    "# exposure to bodily fluids\n",
    "uof_df['off_cond_type'] = uof_df['off_cond_type'].replace('spit', 'exposure to bodily fluids').replace('exposure to blood', 'exposure to bodily fluids').replace('blood exposure', 'exposure to bodily fluids').replace('spit on', 'exposure to bodily fluids').replace('spat upon', 'exposure to bodily fluids').replace('human mucus(spit)', 'exposure to bodily fluids').replace('battery by bodily waste', 'exposure to bodily fluids').replace('spat on ** attempted', 'exposure to bodily fluids').replace('body fuid', 'exposure to bodily fluids').replace('body fluid', 'exposure to bodily fluids').replace(\"susp spit in officer's face\", 'exposure to bodily fluids').replace('saliva on face', 'exposure to bodily fluids').replace('blood exsposure to hep c', 'exposure to bodily fluids').replace('blood on cheek', 'exposure to bodily fluids').replace('spit on face', 'exposure to bodily fluids')\n",
    "\n",
    "# bleeding\n",
    "uof_df['off_cond_type'] = uof_df['off_cond_type'].replace('minor bleeding', 'bleeding').replace('major bleeding', 'bleeding')\n",
    "\n",
    "# lacerations\n",
    "uof_df['off_cond_type'] = uof_df['off_cond_type'].replace('laceration','lacerations').replace('minor cuts','lacerations')"
   ]
  },
  {
   "cell_type": "code",
   "execution_count": 93,
   "metadata": {},
   "outputs": [
    {
     "data": {
      "text/plain": [
       "no injuries                              21959\n",
       "other                                    13155\n",
       "complaint of pain                         2344\n",
       "abrasions                                 1220\n",
       "bruising and swelling                      738\n",
       "bleeding                                   503\n",
       "lacerations                                425\n",
       "physical assault                           191\n",
       "broken, fractured, or dislocated bone       97\n",
       "exposure to bodily fluids                   66\n",
       "muscular injury                             31\n",
       "injury due to weapon                         9\n",
       "concussion                                   3\n",
       "cervical disc compression                    3\n",
       "Name: off_cond_type, dtype: int64"
      ]
     },
     "execution_count": 93,
     "metadata": {},
     "output_type": "execute_result"
    }
   ],
   "source": [
    "# Replace NaN values with other crimes\n",
    "uof_df['off_cond_type'] = uof_df['off_cond_type'].replace(np.NaN, 'other')\n",
    "\n",
    "uof_df['off_cond_type'].value_counts()"
   ]
  },
  {
   "cell_type": "code",
   "execution_count": 94,
   "metadata": {},
   "outputs": [
    {
     "data": {
      "text/plain": [
       "no injuries              21959\n",
       "other                    13555\n",
       "complaint of pain         2344\n",
       "abrasions                 1220\n",
       "bruising and swelling      738\n",
       "bleeding                   503\n",
       "lacerations                425\n",
       "Name: off_cond_type, dtype: int64"
      ]
     },
     "execution_count": 94,
     "metadata": {},
     "output_type": "execute_result"
    }
   ],
   "source": [
    "# Reduce dimensionality \n",
    "off_cond_type_vc = pd.value_counts(uof_df['off_cond_type'])\n",
    "off_cond_type_pct = (off_cond_type_vc/off_cond_type_vc.sum() * 100).lt(1)\n",
    "uof_df['off_cond_type'] = np.where(uof_df['off_cond_type'].isin(off_cond_type_vc[off_cond_type_pct].index),'other',uof_df['off_cond_type'])\n",
    "\n",
    "uof_df['off_cond_type'].value_counts()"
   ]
  },
  {
   "cell_type": "code",
   "execution_count": 95,
   "metadata": {},
   "outputs": [
    {
     "data": {
      "text/plain": [
       "False    40744\n",
       "Name: off_injured, dtype: int64"
      ]
     },
     "execution_count": 95,
     "metadata": {},
     "output_type": "execute_result"
    }
   ],
   "source": [
    "#Replace NaN values with no values\n",
    "uof_df['off_injured'] = uof_df['off_injured'].replace(np.NaN, 'no')\n",
    "\n",
    "uof_df['off_injured'].isna().value_counts()"
   ]
  },
  {
   "cell_type": "code",
   "execution_count": 96,
   "metadata": {},
   "outputs": [
    {
     "data": {
      "text/plain": [
       "False    40744\n",
       "Name: off_hospital, dtype: int64"
      ]
     },
     "execution_count": 96,
     "metadata": {},
     "output_type": "execute_result"
    }
   ],
   "source": [
    "uof_df['off_hospital'] = uof_df['off_hospital'].replace(np.NaN, 'no')\n",
    "\n",
    "uof_df['off_hospital'].isna().value_counts()"
   ]
  },
  {
   "cell_type": "markdown",
   "metadata": {},
   "source": [
    "## EDA"
   ]
  },
  {
   "cell_type": "markdown",
   "metadata": {},
   "source": [
    "Now that the data has been cleaned, I will explore and analyze the data."
   ]
  },
  {
   "cell_type": "code",
   "execution_count": 97,
   "metadata": {
    "scrolled": true
   },
   "outputs": [
    {
     "name": "stdout",
     "output_type": "stream",
     "text": [
      "<class 'pandas.core.frame.DataFrame'>\n",
      "Int64Index: 40744 entries, 0 to 99657\n",
      "Data columns (total 26 columns):\n",
      " #   Column          Non-Null Count  Dtype         \n",
      "---  ------          --------------  -----         \n",
      " 0   disposition     40744 non-null  object        \n",
      " 1   uof_force_type  40744 non-null  object        \n",
      " 2   uof_reason      40744 non-null  object        \n",
      " 3   service_type    40744 non-null  object        \n",
      " 4   cit_arrested    40744 non-null  bool          \n",
      " 5   citcharge_type  40744 non-null  object        \n",
      " 6   cit_injured     40744 non-null  object        \n",
      " 7   cit_hospital    40744 non-null  object        \n",
      " 8   off_injured     40744 non-null  object        \n",
      " 9   off_hospital    40744 non-null  object        \n",
      " 10  citnum          40744 non-null  object        \n",
      " 11  race            40744 non-null  object        \n",
      " 12  sex             40744 non-null  object        \n",
      " 13  cit_age         40744 non-null  int64         \n",
      " 14  cit_cond_type   40744 non-null  object        \n",
      " 15  offnum          40744 non-null  object        \n",
      " 16  off_race        40744 non-null  object        \n",
      " 17  off_sex         40744 non-null  object        \n",
      " 18  off_age         40744 non-null  int64         \n",
      " 19  off_yr_employ   40744 non-null  int64         \n",
      " 20  off_cond_type   40744 non-null  object        \n",
      " 21  datetime        39983 non-null  datetime64[ns]\n",
      " 22  occurred_wd     40744 non-null  object        \n",
      " 23  occurred_month  40744 non-null  object        \n",
      " 24  uo_designation  40744 non-null  object        \n",
      " 25  address         40470 non-null  object        \n",
      "dtypes: bool(1), datetime64[ns](1), int64(3), object(21)\n",
      "memory usage: 9.1+ MB\n"
     ]
    }
   ],
   "source": [
    "uof_df.info()"
   ]
  },
  {
   "cell_type": "code",
   "execution_count": 98,
   "metadata": {},
   "outputs": [],
   "source": [
    "# Drop Datetime\n",
    "uof_df = uof_df.drop(uof_df[['datetime']], axis=1)"
   ]
  },
  {
   "cell_type": "markdown",
   "metadata": {},
   "source": [
    "### Race and Use of Force"
   ]
  },
  {
   "cell_type": "markdown",
   "metadata": {},
   "source": [
    "#### Civilian Use of Force Data"
   ]
  },
  {
   "cell_type": "code",
   "execution_count": 99,
   "metadata": {},
   "outputs": [
    {
     "data": {
      "image/png": "[encoded data removed]",
      "text/plain": [
       "<Figure size 432x288 with 1 Axes>"
      ]
     },
     "metadata": {
      "needs_background": "light"
     },
     "output_type": "display_data"
    }
   ],
   "source": [
    "civilian_race = sns.countplot(x=uof_df['race'], \n",
    "                    data=uof_df)\n",
    "\n",
    "civilian_race.set(xlabel=\"Civilian Race\", \n",
    "                  ylabel=\"Civilian Count\", \n",
    "                  title='Civilian Race');"
   ]
  },
  {
   "cell_type": "code",
   "execution_count": 100,
   "metadata": {
    "scrolled": true
   },
   "outputs": [
    {
     "data": {
      "image/png": "[encoded data removed]",
      "text/plain": [
       "<Figure size 432x288 with 1 Axes>"
      ]
     },
     "metadata": {},
     "output_type": "display_data"
    }
   ],
   "source": [
    "sns.set(style=\"whitegrid\")\n",
    "\n",
    "race_use_of_force = sns.countplot(x=uof_df['race'], \n",
    "                    hue=uof_df['uof_force_type'], \n",
    "                    data=uof_df)\n",
    "\n",
    "race_use_of_force.set(xlabel=\"Civilian Race\", \n",
    "                      ylabel=\"Civilian Count\", \n",
    "                      title='Force Type Used on Civilian');"
   ]
  },
  {
   "cell_type": "markdown",
   "metadata": {},
   "source": [
    "#### Uniformed Officer and Race Data"
   ]
  },
  {
   "cell_type": "code",
   "execution_count": 101,
   "metadata": {
    "scrolled": true
   },
   "outputs": [
    {
     "data": {
      "image/png": "[encoded data removed]",
      "text/plain": [
       "<Figure size 432x288 with 1 Axes>"
      ]
     },
     "metadata": {},
     "output_type": "display_data"
    }
   ],
   "source": [
    "off_race = sns.countplot(x=uof_df['off_race'], \n",
    "                    data=uof_df)\n",
    "\n",
    "off_race.set(xlabel=\"Officer Race\", \n",
    "                  ylabel=\"Officer Count\", \n",
    "                  title='Officer Race');"
   ]
  },
  {
   "cell_type": "code",
   "execution_count": 102,
   "metadata": {},
   "outputs": [
    {
     "data": {
      "image/png": "[encoded data removed]",
      "text/plain": [
       "<Figure size 432x288 with 1 Axes>"
      ]
     },
     "metadata": {},
     "output_type": "display_data"
    }
   ],
   "source": [
    "off_race_use_of_force = sns.countplot(x='off_race', \n",
    "                    hue='uof_force_type', \n",
    "                    data=uof_df)\n",
    "\n",
    "off_race_use_of_force.set(xlabel=\"Officer Race\", \n",
    "                          ylabel=\"Officer Count\", \n",
    "                          title='Officer Race Use of Force');"
   ]
  },
  {
   "cell_type": "markdown",
   "metadata": {},
   "source": [
    "#### Injury and Use of Force"
   ]
  },
  {
   "cell_type": "code",
   "execution_count": 103,
   "metadata": {},
   "outputs": [
    {
     "data": {
      "image/png": "[encoded data removed]",
      "text/plain": [
       "<Figure size 808.475x360 with 2 Axes>"
      ]
     },
     "metadata": {},
     "output_type": "display_data"
    }
   ],
   "source": [
    "race_hosp_use_of_force = sns.catplot(x='race', \n",
    "                    hue='uof_force_type',\n",
    "                    col='cit_injured',\n",
    "                    kind='count',\n",
    "                    data=uof_df)\n",
    "\n",
    "race_hosp_use_of_force.set(xlabel=\"Civilian Hospitalized\", \n",
    "                           ylabel=\"Civilian Count\");"
   ]
  },
  {
   "cell_type": "code",
   "execution_count": 104,
   "metadata": {},
   "outputs": [
    {
     "data": {
      "image/png": "[encoded data removed]",
      "text/plain": [
       "<Figure size 808.475x360 with 2 Axes>"
      ]
     },
     "metadata": {},
     "output_type": "display_data"
    }
   ],
   "source": [
    "race_hosp_use_of_force = sns.catplot(x='race', \n",
    "                    hue='uof_force_type',\n",
    "                    col='cit_hospital',\n",
    "                    kind='count',\n",
    "                    data=uof_df)\n",
    "\n",
    "race_hosp_use_of_force.set(xlabel=\"Civilian Hospitalized\", \n",
    "                           ylabel=\"Civilian Count\");"
   ]
  },
  {
   "cell_type": "markdown",
   "metadata": {},
   "source": [
    "### Sex and Use of Force"
   ]
  },
  {
   "cell_type": "code",
   "execution_count": 105,
   "metadata": {},
   "outputs": [
    {
     "data": {
      "image/png": "[encoded data removed]",
      "text/plain": [
       "<Figure size 432x288 with 1 Axes>"
      ]
     },
     "metadata": {},
     "output_type": "display_data"
    }
   ],
   "source": [
    "# Let's look at civilian sex\n",
    "civilian_race = sns.countplot(x=uof_df['sex'], \n",
    "                    data=uof_df)\n",
    "\n",
    "civilian_race.set(xlabel=\"Civilian Sex\", \n",
    "                  ylabel=\"Civilian Count\", \n",
    "                  title='Civilian Sex');"
   ]
  },
  {
   "cell_type": "code",
   "execution_count": 106,
   "metadata": {},
   "outputs": [
    {
     "data": {
      "image/png": "[encoded data removed]",
      "text/plain": [
       "<Figure size 432x288 with 1 Axes>"
      ]
     },
     "metadata": {},
     "output_type": "display_data"
    }
   ],
   "source": [
    "race_use_of_force = sns.countplot(x=uof_df['sex'], \n",
    "                    hue=uof_df['uof_force_type'], \n",
    "                    data=uof_df)\n",
    "\n",
    "race_use_of_force.set(xlabel=\"Civilian Sex\", \n",
    "                      ylabel=\"Civilian Count\", \n",
    "                      title='Civilian Sex and Force Type');"
   ]
  },
  {
   "cell_type": "code",
   "execution_count": 107,
   "metadata": {
    "scrolled": true
   },
   "outputs": [
    {
     "data": {
      "image/png": "[encoded data removed]",
      "text/plain": [
       "<Figure size 808.475x360 with 2 Axes>"
      ]
     },
     "metadata": {},
     "output_type": "display_data"
    }
   ],
   "source": [
    "race_hosp_use_of_force = sns.catplot(x='sex', \n",
    "                    hue='uof_force_type',\n",
    "                    col='off_sex',\n",
    "                    kind='count',\n",
    "                    data=uof_df)\n",
    "\n",
    "race_hosp_use_of_force.set(xlabel=\"Civilian Sex\", \n",
    "                           ylabel=\"Civilian Count\");"
   ]
  },
  {
   "cell_type": "markdown",
   "metadata": {},
   "source": [
    "### Age and Use of Force"
   ]
  },
  {
   "cell_type": "code",
   "execution_count": 108,
   "metadata": {},
   "outputs": [
    {
     "data": {
      "image/png": "[encoded data removed]",
      "text/plain": [
       "<Figure size 1080x1080 with 1 Axes>"
      ]
     },
     "metadata": {},
     "output_type": "display_data"
    }
   ],
   "source": [
    "fig_dims = (15, 15)\n",
    "fig, ax = plt.subplots(figsize=fig_dims)\n",
    "\n",
    "civilian_race = sns.countplot(x=uof_df['cit_age'], \n",
    "                    data=uof_df, ax=ax)\n",
    "\n",
    "civilian_race.set(xlabel=\"Civilian Age\", \n",
    "                  ylabel=\"Civilian Count\", \n",
    "                  title='Civilian Age');"
   ]
  },
  {
   "cell_type": "code",
   "execution_count": 109,
   "metadata": {},
   "outputs": [
    {
     "data": {
      "image/png": "[encoded data removed]",
      "text/plain": [
       "<Figure size 432x288 with 1 Axes>"
      ]
     },
     "metadata": {},
     "output_type": "display_data"
    }
   ],
   "source": [
    "race_use_of_force = sns.countplot(x=uof_df['cit_age'], \n",
    "                    hue=uof_df['uof_force_type'], \n",
    "                    data=uof_df)\n",
    "\n",
    "race_use_of_force.set(xlabel=\"Civilian Age\", \n",
    "                      ylabel=\"Civilian Count\", \n",
    "                      title='Civilian Age and Force Type Used');"
   ]
  },
  {
   "cell_type": "code",
   "execution_count": 110,
   "metadata": {},
   "outputs": [
    {
     "data": {
      "image/png": "[encoded data removed]",
      "text/plain": [
       "<Figure size 808.475x360 with 2 Axes>"
      ]
     },
     "metadata": {},
     "output_type": "display_data"
    }
   ],
   "source": [
    "race_hosp_use_of_force = sns.catplot(x='cit_age', \n",
    "                    hue='uof_force_type',\n",
    "                    col='cit_injured',\n",
    "                    kind='count',\n",
    "                    data=uof_df)\n",
    "\n",
    "race_hosp_use_of_force.set(xlabel=\"Civilian Age\", \n",
    "                           ylabel=\"Civilian Count\");"
   ]
  },
  {
   "cell_type": "markdown",
   "metadata": {},
   "source": [
    "### Geoencoding "
   ]
  },
  {
   "cell_type": "code",
   "execution_count": 114,
   "metadata": {},
   "outputs": [],
   "source": [
    "from geopy.geocoders import ArcGIS #Used for Geoencoding\n",
    "from geopy.extra.rate_limiter import RateLimiter\n",
    "import folium #Used for creating Leaflet.js maps\n",
    "from folium import plugins #Used for more advanced mapping options"
   ]
  },
  {
   "cell_type": "code",
   "execution_count": 112,
   "metadata": {},
   "outputs": [],
   "source": [
    "#geolocator = ArcGIS(timeout=10)\n",
    "#latitudes = []\n",
    "#longitudes = []\n",
    "#for i in uof_df[\"address\"]:\n",
    "    #location = geolocator.geocode(i)\n",
    "    #try:\n",
    "        #latitudes.append(location.latitude)\n",
    "        #longitudes.append(location.longitude)\n",
    "    #except:\n",
    "        #print(i)\n",
    "        #continue\n"
   ]
  },
  {
   "cell_type": "code",
   "execution_count": 113,
   "metadata": {},
   "outputs": [
    {
     "ename": "NameError",
     "evalue": "name 'latitudes' is not defined",
     "output_type": "error",
     "traceback": [
      "\u001b[1;31m---------------------------------------------------------------------------\u001b[0m",
      "\u001b[1;31mNameError\u001b[0m                                 Traceback (most recent call last)",
      "\u001b[1;32m<ipython-input-113-e4a6d5d80ca6>\u001b[0m in \u001b[0;36m<module>\u001b[1;34m\u001b[0m\n\u001b[1;32m----> 1\u001b[1;33m \u001b[0muof_df\u001b[0m\u001b[1;33m[\u001b[0m\u001b[1;34m\"latitude\"\u001b[0m\u001b[1;33m]\u001b[0m \u001b[1;33m=\u001b[0m \u001b[0mlatitudes\u001b[0m\u001b[1;33m\u001b[0m\u001b[1;33m\u001b[0m\u001b[0m\n\u001b[0m\u001b[0;32m      2\u001b[0m \u001b[0muof_df\u001b[0m\u001b[1;33m[\u001b[0m\u001b[1;34m\"longitude\"\u001b[0m\u001b[1;33m]\u001b[0m \u001b[1;33m=\u001b[0m \u001b[0mlongitudes\u001b[0m\u001b[1;33m\u001b[0m\u001b[1;33m\u001b[0m\u001b[0m\n",
      "\u001b[1;31mNameError\u001b[0m: name 'latitudes' is not defined"
     ]
    }
   ],
   "source": [
    "uof_df[\"latitude\"] = latitudes\n",
    "uof_df[\"longitude\"] = longitudes"
   ]
  },
  {
   "cell_type": "markdown",
   "metadata": {},
   "source": [
    "### Use of Force by Month and Day"
   ]
  },
  {
   "cell_type": "code",
   "execution_count": null,
   "metadata": {},
   "outputs": [],
   "source": [
    "race_use_of_force = sns.countplot(x=uof_df['occurred_wd'], \n",
    "                    hue=uof_df['uof_force_type'], \n",
    "                    data=uof_df)\n",
    "\n",
    "race_use_of_force.set(xlabel=\"Day of the Week\", \n",
    "                      ylabel=\"Incident Count\", \n",
    "                      title='Use of Force by Day');"
   ]
  },
  {
   "cell_type": "code",
   "execution_count": null,
   "metadata": {},
   "outputs": [],
   "source": [
    "race_use_of_force = sns.countplot(x=uof_df['occurred_month'], \n",
    "                    hue=uof_df['uof_force_type'], \n",
    "                    data=uof_df)\n",
    "\n",
    "race_use_of_force.set(xlabel=\"Month\", \n",
    "                      ylabel=\"Incident Count\", \n",
    "                      title='Use of Force by Month');"
   ]
  },
  {
   "cell_type": "markdown",
   "metadata": {},
   "source": [
    "### Uniformed Officer Visuals"
   ]
  },
  {
   "cell_type": "code",
   "execution_count": null,
   "metadata": {},
   "outputs": [],
   "source": []
  },
  {
   "cell_type": "code",
   "execution_count": null,
   "metadata": {},
   "outputs": [],
   "source": []
  }
 ],
 "metadata": {
  "kernelspec": {
   "display_name": "Python 3",
   "language": "python",
   "name": "python3"
  },
  "language_info": {
   "codemirror_mode": {
    "name": "ipython",
    "version": 3
   },
   "file_extension": ".py",
   "mimetype": "text/x-python",
   "name": "python",
   "nbconvert_exporter": "python",
   "pygments_lexer": "ipython3",
   "version": "3.7.3"
  },
  "toc": {
   "base_numbering": 1,
   "nav_menu": {},
   "number_sections": true,
   "sideBar": true,
   "skip_h1_title": true,
   "title_cell": "Table of Contents",
   "title_sidebar": "Contents",
   "toc_cell": false,
   "toc_position": {
    "height": "calc(100% - 180px)",
    "left": "10px",
    "top": "150px",
    "width": "221px"
   },
   "toc_section_display": true,
   "toc_window_display": true
  }
 },
 "nbformat": 4,
 "nbformat_minor": 4
}
